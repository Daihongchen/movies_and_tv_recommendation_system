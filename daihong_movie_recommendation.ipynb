{
  "nbformat": 4,
  "nbformat_minor": 0,
  "metadata": {
    "colab": {
      "name": "daihong_movie_recommendation.ipynb",
      "provenance": [],
      "machine_shape": "hm",
      "authorship_tag": "ABX9TyOVeU+Y2N7AtaILIVViCUy2",
      "include_colab_link": true
    },
    "kernelspec": {
      "name": "python3",
      "display_name": "Python 3"
    }
  },
  "cells": [
    {
      "cell_type": "markdown",
      "metadata": {
        "id": "view-in-github",
        "colab_type": "text"
      },
      "source": [
        "<a href=\"https://colab.research.google.com/github/Daihongchen/movies_and_tv_recommendation_system/blob/master/daihong_movie_recommendation.ipynb\" target=\"_parent\"><img src=\"https://colab.research.google.com/assets/colab-badge.svg\" alt=\"Open In Colab\"/></a>"
      ]
    },
    {
      "cell_type": "code",
      "metadata": {
        "id": "40VqJ5PaEswX",
        "colab_type": "code",
        "colab": {}
      },
      "source": [
        "import os\n",
        "import json\n",
        "import gzip\n",
        "import pandas as pd\n",
        "from urllib.request import urlopen"
      ],
      "execution_count": 0,
      "outputs": []
    },
    {
      "cell_type": "code",
      "metadata": {
        "id": "T6jNmJUmErqd",
        "colab_type": "code",
        "colab": {
          "base_uri": "https://localhost:8080/",
          "height": 204
        },
        "outputId": "985f6511-0743-405c-cb75-96693072689f"
      },
      "source": [
        "!wget http://deepyeti.ucsd.edu/jianmo/amazon/categoryFiles/Movies_and_TV.json.gz"
      ],
      "execution_count": 4,
      "outputs": [
        {
          "output_type": "stream",
          "text": [
            "--2020-04-20 05:43:59--  http://deepyeti.ucsd.edu/jianmo/amazon/categoryFiles/Movies_and_TV.json.gz\n",
            "Resolving deepyeti.ucsd.edu (deepyeti.ucsd.edu)... 169.228.63.50\n",
            "Connecting to deepyeti.ucsd.edu (deepyeti.ucsd.edu)|169.228.63.50|:80... connected.\n",
            "HTTP request sent, awaiting response... 200 OK\n",
            "Length: 1538847239 (1.4G) [application/octet-stream]\n",
            "Saving to: ‘Movies_and_TV.json.gz’\n",
            "\n",
            "Movies_and_TV.json. 100%[===================>]   1.43G  10.9MB/s    in 2m 15s  \n",
            "\n",
            "2020-04-20 05:46:14 (10.9 MB/s) - ‘Movies_and_TV.json.gz’ saved [1538847239/1538847239]\n",
            "\n"
          ],
          "name": "stdout"
        }
      ]
    },
    {
      "cell_type": "code",
      "metadata": {
        "id": "7KB-KIElE02i",
        "colab_type": "code",
        "colab": {
          "base_uri": "https://localhost:8080/",
          "height": 71
        },
        "outputId": "fc2b5200-70cd-4a92-c5e6-8322c2172411"
      },
      "source": [
        "data = []\n",
        "with gzip.open('Movies_and_TV.json.gz') as f:\n",
        "    for l in f:\n",
        "        data.append(json.loads(l.strip()))\n",
        "    \n",
        "# total length of list, this number equals total number of products\n",
        "print(len(data))\n",
        "\n",
        "# first row of the list\n",
        "print(data[0])"
      ],
      "execution_count": 5,
      "outputs": [
        {
          "output_type": "stream",
          "text": [
            "8765568\n",
            "{'overall': 5.0, 'verified': True, 'reviewTime': '03 11, 2013', 'reviewerID': 'A3478QRKQDOPQ2', 'asin': '0001527665', 'style': {'Format:': ' VHS Tape'}, 'reviewerName': 'jacki', 'reviewText': 'really happy they got evangelised .. spoiler alert==happy ending liked that..since started bit worrisome... but yeah great stories these missionary movies, really short only half hour but still great', 'summary': 'great', 'unixReviewTime': 1362960000}\n"
          ],
          "name": "stdout"
        }
      ]
    },
    {
      "cell_type": "code",
      "metadata": {
        "id": "pkC-H5GoFJ1O",
        "colab_type": "code",
        "colab": {
          "base_uri": "https://localhost:8080/",
          "height": 204
        },
        "outputId": "d80b3496-6de2-455a-c7c9-5940b7fd26d0"
      },
      "source": [
        "!wget http://deepyeti.ucsd.edu/jianmo/amazon/metaFiles/meta_Movies_and_TV.json.gz"
      ],
      "execution_count": 6,
      "outputs": [
        {
          "output_type": "stream",
          "text": [
            "--2020-04-20 05:51:08--  http://deepyeti.ucsd.edu/jianmo/amazon/metaFiles/meta_Movies_and_TV.json.gz\n",
            "Resolving deepyeti.ucsd.edu (deepyeti.ucsd.edu)... 169.228.63.50\n",
            "Connecting to deepyeti.ucsd.edu (deepyeti.ucsd.edu)|169.228.63.50|:80... connected.\n",
            "HTTP request sent, awaiting response... 200 OK\n",
            "Length: 281498988 (268M) [application/octet-stream]\n",
            "Saving to: ‘meta_Movies_and_TV.json.gz’\n",
            "\n",
            "meta_Movies_and_TV. 100%[===================>] 268.46M  10.9MB/s    in 25s     \n",
            "\n",
            "2020-04-20 05:51:33 (10.8 MB/s) - ‘meta_Movies_and_TV.json.gz’ saved [281498988/281498988]\n",
            "\n"
          ],
          "name": "stdout"
        }
      ]
    },
    {
      "cell_type": "code",
      "metadata": {
        "id": "C6-Kgx9cI-da",
        "colab_type": "code",
        "colab": {
          "base_uri": "https://localhost:8080/",
          "height": 71
        },
        "outputId": "d3dbbed9-5ab2-48a7-83fd-60b022abeda3"
      },
      "source": [
        "data_meta = []\n",
        "with gzip.open('meta_Movies_and_TV.json.gz') as f:\n",
        "    for l in f:\n",
        "        data_meta.append(json.loads(l.strip()))\n",
        "    \n",
        "# total length of list, this number equals total number of products\n",
        "print(len(data_meta))\n",
        "\n",
        "# first row of the list\n",
        "print(data_meta[0])"
      ],
      "execution_count": 7,
      "outputs": [
        {
          "output_type": "stream",
          "text": [
            "203970\n",
            "{'category': ['Movies & TV', 'Movies'], 'title': 'Understanding Seizures and Epilepsy', 'rank': '886,503inMoviesTV(', 'main_cat': 'Movies & TV', 'asin': '0000695009'}\n"
          ],
          "name": "stdout"
        }
      ]
    },
    {
      "cell_type": "code",
      "metadata": {
        "id": "l5qhNmN7JMX8",
        "colab_type": "code",
        "colab": {
          "base_uri": "https://localhost:8080/",
          "height": 198
        },
        "outputId": "75970559-474e-4c56-bf13-58d70b66f9eb"
      },
      "source": [
        "df_movie = pd.DataFrame.from_dict(data)"
      ],
      "execution_count": 8,
      "outputs": [
        {
          "output_type": "error",
          "ename": "NameError",
          "evalue": "ignored",
          "traceback": [
            "\u001b[0;31m---------------------------------------------------------------------------\u001b[0m",
            "\u001b[0;31mNameError\u001b[0m                                 Traceback (most recent call last)",
            "\u001b[0;32m<ipython-input-8-a6a9f8cf7a6c>\u001b[0m in \u001b[0;36m<module>\u001b[0;34m()\u001b[0m\n\u001b[1;32m      1\u001b[0m \u001b[0mdf_movie\u001b[0m \u001b[0;34m=\u001b[0m \u001b[0mpd\u001b[0m\u001b[0;34m.\u001b[0m\u001b[0mDataFrame\u001b[0m\u001b[0;34m.\u001b[0m\u001b[0mfrom_dict\u001b[0m\u001b[0;34m(\u001b[0m\u001b[0mdata\u001b[0m\u001b[0;34m)\u001b[0m\u001b[0;34m\u001b[0m\u001b[0;34m\u001b[0m\u001b[0m\n\u001b[1;32m      2\u001b[0m \u001b[0;34m\u001b[0m\u001b[0m\n\u001b[0;32m----> 3\u001b[0;31m \u001b[0mprint\u001b[0m\u001b[0;34m(\u001b[0m\u001b[0mlen\u001b[0m\u001b[0;34m(\u001b[0m\u001b[0mdf\u001b[0m\u001b[0;34m)\u001b[0m\u001b[0;34m)\u001b[0m\u001b[0;34m\u001b[0m\u001b[0;34m\u001b[0m\u001b[0m\n\u001b[0m",
            "\u001b[0;31mNameError\u001b[0m: name 'df' is not defined"
          ]
        }
      ]
    },
    {
      "cell_type": "code",
      "metadata": {
        "id": "-WS60LfWJleO",
        "colab_type": "code",
        "colab": {
          "base_uri": "https://localhost:8080/",
          "height": 34
        },
        "outputId": "4a1adad3-84bf-4c50-c213-cdb15fb7e618"
      },
      "source": [
        "print(len(df_movie))"
      ],
      "execution_count": 9,
      "outputs": [
        {
          "output_type": "stream",
          "text": [
            "8765568\n"
          ],
          "name": "stdout"
        }
      ]
    },
    {
      "cell_type": "code",
      "metadata": {
        "id": "truBjQ01Jy6V",
        "colab_type": "code",
        "colab": {
          "base_uri": "https://localhost:8080/",
          "height": 85
        },
        "outputId": "51f101b2-9768-4f33-967f-07c916888a16"
      },
      "source": [
        "df_movie.columns"
      ],
      "execution_count": 10,
      "outputs": [
        {
          "output_type": "execute_result",
          "data": {
            "text/plain": [
              "Index(['overall', 'verified', 'reviewTime', 'reviewerID', 'asin', 'style',\n",
              "       'reviewerName', 'reviewText', 'summary', 'unixReviewTime', 'vote',\n",
              "       'image'],\n",
              "      dtype='object')"
            ]
          },
          "metadata": {
            "tags": []
          },
          "execution_count": 10
        }
      ]
    },
    {
      "cell_type": "code",
      "metadata": {
        "id": "yo6jh4-sJ04V",
        "colab_type": "code",
        "colab": {
          "base_uri": "https://localhost:8080/",
          "height": 374
        },
        "outputId": "5d7ceef9-0fb5-48c1-cde3-4ef0e3465ee3"
      },
      "source": [
        "df_movie.head()"
      ],
      "execution_count": 11,
      "outputs": [
        {
          "output_type": "execute_result",
          "data": {
            "text/html": [
              "<div>\n",
              "<style scoped>\n",
              "    .dataframe tbody tr th:only-of-type {\n",
              "        vertical-align: middle;\n",
              "    }\n",
              "\n",
              "    .dataframe tbody tr th {\n",
              "        vertical-align: top;\n",
              "    }\n",
              "\n",
              "    .dataframe thead th {\n",
              "        text-align: right;\n",
              "    }\n",
              "</style>\n",
              "<table border=\"1\" class=\"dataframe\">\n",
              "  <thead>\n",
              "    <tr style=\"text-align: right;\">\n",
              "      <th></th>\n",
              "      <th>overall</th>\n",
              "      <th>verified</th>\n",
              "      <th>reviewTime</th>\n",
              "      <th>reviewerID</th>\n",
              "      <th>asin</th>\n",
              "      <th>style</th>\n",
              "      <th>reviewerName</th>\n",
              "      <th>reviewText</th>\n",
              "      <th>summary</th>\n",
              "      <th>unixReviewTime</th>\n",
              "      <th>vote</th>\n",
              "      <th>image</th>\n",
              "    </tr>\n",
              "  </thead>\n",
              "  <tbody>\n",
              "    <tr>\n",
              "      <th>0</th>\n",
              "      <td>5.0</td>\n",
              "      <td>True</td>\n",
              "      <td>03 11, 2013</td>\n",
              "      <td>A3478QRKQDOPQ2</td>\n",
              "      <td>0001527665</td>\n",
              "      <td>{'Format:': ' VHS Tape'}</td>\n",
              "      <td>jacki</td>\n",
              "      <td>really happy they got evangelised .. spoiler a...</td>\n",
              "      <td>great</td>\n",
              "      <td>1362960000</td>\n",
              "      <td>NaN</td>\n",
              "      <td>NaN</td>\n",
              "    </tr>\n",
              "    <tr>\n",
              "      <th>1</th>\n",
              "      <td>5.0</td>\n",
              "      <td>True</td>\n",
              "      <td>02 18, 2013</td>\n",
              "      <td>A2VHSG6TZHU1OB</td>\n",
              "      <td>0001527665</td>\n",
              "      <td>{'Format:': ' Amazon Video'}</td>\n",
              "      <td>Ken P</td>\n",
              "      <td>Having lived in West New Guinea (Papua) during...</td>\n",
              "      <td>Realistic and Accurate</td>\n",
              "      <td>1361145600</td>\n",
              "      <td>3</td>\n",
              "      <td>NaN</td>\n",
              "    </tr>\n",
              "    <tr>\n",
              "      <th>2</th>\n",
              "      <td>5.0</td>\n",
              "      <td>False</td>\n",
              "      <td>01 17, 2013</td>\n",
              "      <td>A23EJWOW1TLENE</td>\n",
              "      <td>0001527665</td>\n",
              "      <td>{'Format:': ' Amazon Video'}</td>\n",
              "      <td>Reina Berumen</td>\n",
              "      <td>Excellent look into contextualizing the Gospel...</td>\n",
              "      <td>Peace Child</td>\n",
              "      <td>1358380800</td>\n",
              "      <td>NaN</td>\n",
              "      <td>NaN</td>\n",
              "    </tr>\n",
              "    <tr>\n",
              "      <th>3</th>\n",
              "      <td>5.0</td>\n",
              "      <td>True</td>\n",
              "      <td>01 10, 2013</td>\n",
              "      <td>A1KM9FNEJ8Q171</td>\n",
              "      <td>0001527665</td>\n",
              "      <td>{'Format:': ' Amazon Video'}</td>\n",
              "      <td>N Coyle</td>\n",
              "      <td>More than anything, I've been challenged to fi...</td>\n",
              "      <td>Culturally relevant ways to share the love of ...</td>\n",
              "      <td>1357776000</td>\n",
              "      <td>NaN</td>\n",
              "      <td>NaN</td>\n",
              "    </tr>\n",
              "    <tr>\n",
              "      <th>4</th>\n",
              "      <td>4.0</td>\n",
              "      <td>True</td>\n",
              "      <td>12 26, 2012</td>\n",
              "      <td>A38LY2SSHVHRYB</td>\n",
              "      <td>0001527665</td>\n",
              "      <td>{'Format:': ' Amazon Video'}</td>\n",
              "      <td>Jodie Vesely</td>\n",
              "      <td>This is a great movie for a missionary going i...</td>\n",
              "      <td>Good Movie! Great for cross-cultural missionar...</td>\n",
              "      <td>1356480000</td>\n",
              "      <td>NaN</td>\n",
              "      <td>NaN</td>\n",
              "    </tr>\n",
              "  </tbody>\n",
              "</table>\n",
              "</div>"
            ],
            "text/plain": [
              "   overall  verified   reviewTime  ... unixReviewTime vote image\n",
              "0      5.0      True  03 11, 2013  ...     1362960000  NaN   NaN\n",
              "1      5.0      True  02 18, 2013  ...     1361145600    3   NaN\n",
              "2      5.0     False  01 17, 2013  ...     1358380800  NaN   NaN\n",
              "3      5.0      True  01 10, 2013  ...     1357776000  NaN   NaN\n",
              "4      4.0      True  12 26, 2012  ...     1356480000  NaN   NaN\n",
              "\n",
              "[5 rows x 12 columns]"
            ]
          },
          "metadata": {
            "tags": []
          },
          "execution_count": 11
        }
      ]
    },
    {
      "cell_type": "code",
      "metadata": {
        "id": "cL-dK1baKDNL",
        "colab_type": "code",
        "colab": {}
      },
      "source": [
        "df_meta = pd.DataFrame.from_dict(data_meta)"
      ],
      "execution_count": 0,
      "outputs": []
    },
    {
      "cell_type": "code",
      "metadata": {
        "id": "u_g3A79hKbbU",
        "colab_type": "code",
        "colab": {
          "base_uri": "https://localhost:8080/",
          "height": 85
        },
        "outputId": "96fc227b-83aa-48f7-b35b-afb3c804b901"
      },
      "source": [
        "df_meta.columns"
      ],
      "execution_count": 47,
      "outputs": [
        {
          "output_type": "execute_result",
          "data": {
            "text/plain": [
              "Index(['category', 'title', 'rank', 'main_cat', 'asin', 'image', 'description',\n",
              "       'brand', 'also_buy', 'also_view', 'price', 'details', 'feature', 'date',\n",
              "       'tech1'],\n",
              "      dtype='object')"
            ]
          },
          "metadata": {
            "tags": []
          },
          "execution_count": 47
        }
      ]
    },
    {
      "cell_type": "code",
      "metadata": {
        "id": "44SUdixTKfba",
        "colab_type": "code",
        "colab": {
          "base_uri": "https://localhost:8080/",
          "height": 496
        },
        "outputId": "aca6f113-8229-4e21-8cb9-ed2ed5248da3"
      },
      "source": [
        "df_meta.head()"
      ],
      "execution_count": 48,
      "outputs": [
        {
          "output_type": "execute_result",
          "data": {
            "text/html": [
              "<div>\n",
              "<style scoped>\n",
              "    .dataframe tbody tr th:only-of-type {\n",
              "        vertical-align: middle;\n",
              "    }\n",
              "\n",
              "    .dataframe tbody tr th {\n",
              "        vertical-align: top;\n",
              "    }\n",
              "\n",
              "    .dataframe thead th {\n",
              "        text-align: right;\n",
              "    }\n",
              "</style>\n",
              "<table border=\"1\" class=\"dataframe\">\n",
              "  <thead>\n",
              "    <tr style=\"text-align: right;\">\n",
              "      <th></th>\n",
              "      <th>category</th>\n",
              "      <th>title</th>\n",
              "      <th>rank</th>\n",
              "      <th>main_cat</th>\n",
              "      <th>asin</th>\n",
              "      <th>image</th>\n",
              "      <th>description</th>\n",
              "      <th>brand</th>\n",
              "      <th>also_buy</th>\n",
              "      <th>also_view</th>\n",
              "      <th>price</th>\n",
              "      <th>details</th>\n",
              "      <th>feature</th>\n",
              "      <th>date</th>\n",
              "      <th>tech1</th>\n",
              "    </tr>\n",
              "  </thead>\n",
              "  <tbody>\n",
              "    <tr>\n",
              "      <th>0</th>\n",
              "      <td>[Movies &amp; TV, Movies]</td>\n",
              "      <td>Understanding Seizures and Epilepsy</td>\n",
              "      <td>886,503inMoviesTV(</td>\n",
              "      <td>Movies &amp; TV</td>\n",
              "      <td>0000695009</td>\n",
              "      <td>NaN</td>\n",
              "      <td>NaN</td>\n",
              "      <td>NaN</td>\n",
              "      <td>NaN</td>\n",
              "      <td>NaN</td>\n",
              "      <td>NaN</td>\n",
              "      <td>NaN</td>\n",
              "      <td>NaN</td>\n",
              "      <td>NaN</td>\n",
              "      <td>NaN</td>\n",
              "    </tr>\n",
              "    <tr>\n",
              "      <th>1</th>\n",
              "      <td>[Movies &amp; TV, Movies]</td>\n",
              "      <td>Spirit Led—Moving By Grace In The Holy Spirit'...</td>\n",
              "      <td>342,688inMoviesTV(</td>\n",
              "      <td>Movies &amp; TV</td>\n",
              "      <td>0000791156</td>\n",
              "      <td>[https://images-na.ssl-images-amazon.com/image...</td>\n",
              "      <td>NaN</td>\n",
              "      <td>NaN</td>\n",
              "      <td>NaN</td>\n",
              "      <td>NaN</td>\n",
              "      <td>NaN</td>\n",
              "      <td>NaN</td>\n",
              "      <td>NaN</td>\n",
              "      <td>NaN</td>\n",
              "      <td>NaN</td>\n",
              "    </tr>\n",
              "    <tr>\n",
              "      <th>2</th>\n",
              "      <td>[Movies &amp; TV, Movies]</td>\n",
              "      <td>My Fair Pastry (Good Eats Vol. 9)</td>\n",
              "      <td>370,026inMoviesTV(</td>\n",
              "      <td>Movies &amp; TV</td>\n",
              "      <td>0000143529</td>\n",
              "      <td>[https://images-na.ssl-images-amazon.com/image...</td>\n",
              "      <td>[Disc 1: Flour Power (Scones; Shortcakes; Sout...</td>\n",
              "      <td>Alton Brown</td>\n",
              "      <td>NaN</td>\n",
              "      <td>NaN</td>\n",
              "      <td>NaN</td>\n",
              "      <td>NaN</td>\n",
              "      <td>NaN</td>\n",
              "      <td>NaN</td>\n",
              "      <td>NaN</td>\n",
              "    </tr>\n",
              "    <tr>\n",
              "      <th>3</th>\n",
              "      <td>[Movies &amp; TV, Movies]</td>\n",
              "      <td>Barefoot Contessa (with Ina Garten), Entertain...</td>\n",
              "      <td>342,914inMoviesTV(</td>\n",
              "      <td>Movies &amp; TV</td>\n",
              "      <td>0000143588</td>\n",
              "      <td>NaN</td>\n",
              "      <td>[Barefoot Contessa Volume 2: On these three di...</td>\n",
              "      <td>Ina Garten</td>\n",
              "      <td>[B002I5GNW4, B005WXPVMM, B009UY3W8O, B00N27ID1...</td>\n",
              "      <td>[B002I5GNW4, 0804187045, B009UY3W8O, 060960219...</td>\n",
              "      <td>$74.95</td>\n",
              "      <td>NaN</td>\n",
              "      <td>NaN</td>\n",
              "      <td>NaN</td>\n",
              "      <td>NaN</td>\n",
              "    </tr>\n",
              "    <tr>\n",
              "      <th>4</th>\n",
              "      <td>[Movies &amp; TV, Movies]</td>\n",
              "      <td>Rise and Swine (Good Eats Vol. 7)</td>\n",
              "      <td>351,684inMoviesTV(</td>\n",
              "      <td>Movies &amp; TV</td>\n",
              "      <td>0000143502</td>\n",
              "      <td>[https://images-na.ssl-images-amazon.com/image...</td>\n",
              "      <td>[Rise and Swine (Good Eats Vol. 7) includes bo...</td>\n",
              "      <td>Alton Brown</td>\n",
              "      <td>[B000P1CKES, B000NR4CRM]</td>\n",
              "      <td>[B0015SVNXY]</td>\n",
              "      <td>NaN</td>\n",
              "      <td>NaN</td>\n",
              "      <td>NaN</td>\n",
              "      <td>NaN</td>\n",
              "      <td>NaN</td>\n",
              "    </tr>\n",
              "  </tbody>\n",
              "</table>\n",
              "</div>"
            ],
            "text/plain": [
              "                category  ... tech1\n",
              "0  [Movies & TV, Movies]  ...   NaN\n",
              "1  [Movies & TV, Movies]  ...   NaN\n",
              "2  [Movies & TV, Movies]  ...   NaN\n",
              "3  [Movies & TV, Movies]  ...   NaN\n",
              "4  [Movies & TV, Movies]  ...   NaN\n",
              "\n",
              "[5 rows x 15 columns]"
            ]
          },
          "metadata": {
            "tags": []
          },
          "execution_count": 48
        }
      ]
    },
    {
      "cell_type": "code",
      "metadata": {
        "id": "NfE7zlbULSOJ",
        "colab_type": "code",
        "colab": {}
      },
      "source": [
        "df_meta_1 = df_meta.dropna(subset=['details'])"
      ],
      "execution_count": 0,
      "outputs": []
    },
    {
      "cell_type": "code",
      "metadata": {
        "id": "yTYEWScgL3mQ",
        "colab_type": "code",
        "colab": {
          "base_uri": "https://localhost:8080/",
          "height": 34
        },
        "outputId": "b2633954-2e28-4114-dc8c-4152178d15a3"
      },
      "source": [
        "len(df_meta_1)"
      ],
      "execution_count": 51,
      "outputs": [
        {
          "output_type": "execute_result",
          "data": {
            "text/plain": [
              "195495"
            ]
          },
          "metadata": {
            "tags": []
          },
          "execution_count": 51
        }
      ]
    },
    {
      "cell_type": "code",
      "metadata": {
        "id": "cN1cA-j7M3bq",
        "colab_type": "code",
        "colab": {}
      },
      "source": [
        "df_meta_1.head()\n",
        "df_meta_2 = df_meta_1.drop(['feature', 'date', 'tech1'], axis=1)"
      ],
      "execution_count": 0,
      "outputs": []
    },
    {
      "cell_type": "code",
      "metadata": {
        "id": "szfmCha9OBQF",
        "colab_type": "code",
        "colab": {}
      },
      "source": [
        "df_movie_1 = df_movie[df_movie['reviewTime'].str.contains('2016') \n",
        "| df_movie['reviewTime'].str.contains('2017') \n",
        "| df_movie['reviewTime'].str.contains('2018')]"
      ],
      "execution_count": 0,
      "outputs": []
    },
    {
      "cell_type": "code",
      "metadata": {
        "id": "Np9oHqG2OfQR",
        "colab_type": "code",
        "colab": {
          "base_uri": "https://localhost:8080/",
          "height": 34
        },
        "outputId": "1cd94721-9265-4bd7-f5c8-8bd9eb76824f"
      },
      "source": [
        "len(df_movie_1)"
      ],
      "execution_count": 64,
      "outputs": [
        {
          "output_type": "execute_result",
          "data": {
            "text/plain": [
              "2841447"
            ]
          },
          "metadata": {
            "tags": []
          },
          "execution_count": 64
        }
      ]
    },
    {
      "cell_type": "code",
      "metadata": {
        "id": "xQWM2c5COul5",
        "colab_type": "code",
        "colab": {}
      },
      "source": [
        "df_movie_2 = df_movie_1.drop('image', axis=1)"
      ],
      "execution_count": 0,
      "outputs": []
    },
    {
      "cell_type": "code",
      "metadata": {
        "id": "6ms6qUGOO1Wc",
        "colab_type": "code",
        "colab": {}
      },
      "source": [
        "df_movie_meta = df_movie_2.merge(df_meta_2, on='asin', how='inner')"
      ],
      "execution_count": 0,
      "outputs": []
    },
    {
      "cell_type": "code",
      "metadata": {
        "id": "AKLckZMFR28v",
        "colab_type": "code",
        "colab": {
          "base_uri": "https://localhost:8080/",
          "height": 510
        },
        "outputId": "557012dd-0ee8-47d4-be79-d77e235b1bae"
      },
      "source": [
        "df_movie_meta.info()"
      ],
      "execution_count": 75,
      "outputs": [
        {
          "output_type": "stream",
          "text": [
            "<class 'pandas.core.frame.DataFrame'>\n",
            "Int64Index: 2937777 entries, 0 to 2937776\n",
            "Data columns (total 22 columns):\n",
            " #   Column          Dtype  \n",
            "---  ------          -----  \n",
            " 0   overall         float64\n",
            " 1   verified        bool   \n",
            " 2   reviewTime      object \n",
            " 3   reviewerID      object \n",
            " 4   asin            object \n",
            " 5   style           object \n",
            " 6   reviewerName    object \n",
            " 7   reviewText      object \n",
            " 8   summary         object \n",
            " 9   unixReviewTime  int64  \n",
            " 10  vote            object \n",
            " 11  category        object \n",
            " 12  title           object \n",
            " 13  rank            object \n",
            " 14  main_cat        object \n",
            " 15  image           object \n",
            " 16  description     object \n",
            " 17  brand           object \n",
            " 18  also_buy        object \n",
            " 19  also_view       object \n",
            " 20  price           object \n",
            " 21  details         object \n",
            "dtypes: bool(1), float64(1), int64(1), object(19)\n",
            "memory usage: 495.9+ MB\n"
          ],
          "name": "stdout"
        }
      ]
    },
    {
      "cell_type": "code",
      "metadata": {
        "id": "o13c8-w9SwXt",
        "colab_type": "code",
        "colab": {
          "base_uri": "https://localhost:8080/",
          "height": 34
        },
        "outputId": "3e8ae182-ebfc-4107-ab27-bbf48d85bc2f"
      },
      "source": [
        "len(df_movie_meta)"
      ],
      "execution_count": 76,
      "outputs": [
        {
          "output_type": "execute_result",
          "data": {
            "text/plain": [
              "2937777"
            ]
          },
          "metadata": {
            "tags": []
          },
          "execution_count": 76
        }
      ]
    },
    {
      "cell_type": "code",
      "metadata": {
        "id": "7W0hTxyKS6EC",
        "colab_type": "code",
        "colab": {
          "base_uri": "https://localhost:8080/",
          "height": 34
        },
        "outputId": "38fad74c-c7f2-426c-8c37-09dfc90cb6df"
      },
      "source": [
        "type(df_movie_meta['details'][0])"
      ],
      "execution_count": 79,
      "outputs": [
        {
          "output_type": "execute_result",
          "data": {
            "text/plain": [
              "str"
            ]
          },
          "metadata": {
            "tags": []
          },
          "execution_count": 79
        }
      ]
    },
    {
      "cell_type": "code",
      "metadata": {
        "id": "Xnok6RNgTCFJ",
        "colab_type": "code",
        "colab": {
          "base_uri": "https://localhost:8080/",
          "height": 54
        },
        "outputId": "d1545116-8af3-4b12-92d6-aa9c89891f2d"
      },
      "source": [
        "df_movie_meta['details'][0]"
      ],
      "execution_count": 80,
      "outputs": [
        {
          "output_type": "execute_result",
          "data": {
            "text/plain": [
              "'\\n      <div class=\"content\">\\n\\n\\n\\n\\n\\n\\n<ul>\\n\\n\\n\\n\\n\\n<li> <b>Actors:</b> <a href=\"/s?ie=UTF8&amp;field-keywords=Tamlyn%20Tomita&amp;search-alias=dvd\">Tamlyn Tomita</a>, <a href=\"/s?ie=UTF8&amp;field-keywords=Rosalind%20Chao&amp;search-alias=dvd\">Rosalind Chao</a>, <a href=\"/s?ie=UTF8&amp;field-keywords=Kieu%20Chinh&amp;search-alias=dvd\">Kieu Chinh</a>, <a href=\"/s?ie=UTF8&amp;field-keywords=Tsai%20Chin&amp;search-alias=dvd\">Tsai Chin</a>, <a href=\"/s?ie=UTF8&amp;field-keywords=France%20Nuyen&amp;search-alias=dvd\">France Nuyen</a></li>\\n\\n\\n\\n\\n<li> <b>Directors:</b> <a href=\"/s?ie=UTF8&amp;field-keywords=Wayne%20Wang&amp;search-alias=dvd\">Wayne Wang</a></li>\\n\\n\\n\\n\\n<li> <b>Writers:</b> <a href=\"/s?ie=UTF8&amp;field-keywords=Amy%20Tan&amp;search-alias=dvd\">Amy Tan</a>, <a href=\"/s?ie=UTF8&amp;field-keywords=Ronald%20Bass&amp;search-alias=dvd\">Ronald Bass</a></li>\\n\\n\\n\\n\\n<li> <b>Producers:</b> <a href=\"/s?ie=UTF8&amp;field-keywords=Amy%20Tan&amp;search-alias=dvd\">Amy Tan</a>, <a href=\"/s?ie=UTF8&amp;field-keywords=Janet%20Yang&amp;search-alias=dvd\">Janet Yang</a>, <a href=\"/s?ie=UTF8&amp;field-keywords=Jessinta%20Liu&amp;search-alias=dvd\">Jessinta Liu</a>, <a href=\"/s?ie=UTF8&amp;field-keywords=Oliver%20Stone&amp;search-alias=dvd\">Oliver Stone</a>, <a href=\"/s?ie=UTF8&amp;field-keywords=Patrick%20Markey&amp;search-alias=dvd\">Patrick Markey</a></li>\\n\\n\\n\\n\\n<li> <b>Format:</b> Closed-captioned, Color, NTSC</li>\\n\\n\\n\\n\\n\\n\\n\\n\\n\\n\\n\\n\\n\\n\\n\\n\\n\\n<li> <b>Rated: </b>        <div class=\"a-box a-box-thumbnail\"><div class=\"a-box-inner\">\\n            <span class=\"a-letter-space\"></span>\\n            <span class=\"a-size-small\">\\n                R\\n            </span>\\n            <span class=\"a-letter-space\"></span>\\n        </div></div>\\n        Restricted </li>\\n\\n\\n\\n\\n\\n<li> <b>Number of tapes:</b> 1</li>\\n\\n\\n\\n\\n<li> <b>Studio:</b> Walt Disney Video</li>\\n\\n\\n\\n\\n\\n\\n\\n\\n\\n\\n\\n<li> <b>VHS Release Date:</b> January 26, 1995</li>\\n\\n\\n\\n\\n<li> <b>Run Time:</b> 139 minutes</li>\\n\\n\\n\\n\\n\\n\\n\\n\\n\\n\\n\\n\\n\\n\\n\\n\\n\\n\\n\\n\\n\\n\\n\\n\\n\\n\\n\\n\\n\\n\\n\\n\\n\\n\\n  \\n  \\n\\n\\n\\n\\n\\n\\n\\n\\n\\n\\n\\n\\n\\n\\n\\n\\n\\n\\n\\n\\n\\n\\n\\n\\n\\n\\n\\n<li><b>Average Customer Review:</b> \\n\\n\\n\\n\\n<span class=\"dpProductDetail6303022901\">\\n  <span class=\"a-declarative\" data-action=\"a-popover\" data-a-popover=\"{&quot;closeButton&quot;:&quot;false&quot;,&quot;max-width&quot;:&quot;700&quot;,&quot;position&quot;:&quot;triggerBottom&quot;,&quot;url&quot;:&quot;/review/widgets/average-customer-review/popover/ref=acr_dpproductdetail_popover?ie=UTF8&amp;asin=6303022901&amp;contextId=dpProductDetail&amp;ref=acr_dpproductdetail_popover&quot;}\">\\n    <a href=\"javascript:void(0)\" class=\"a-popover-trigger a-declarative\">\\n      <a class=\"a-link-normal a-text-normal\" href=\"https://www.amazon.com/product-reviews/6303022901/ref=acr_dpproductdetail_text?ie=UTF8&showViewpoints=1\">\\n        <i class=\"a-icon a-icon-star a-star-4-5\"><span class=\"a-icon-alt\">4.7 out of 5 stars</span></i>\\n      </a>\\n    <i class=\"a-icon a-icon-popover\"></i></a>\\n  </span>\\n  <span class=\"a-letter-space\"></span>\\n  <span class=\"a-size-small\">\\n    <a class=\"a-link-normal\" href=\"https://www.amazon.com/product-reviews/6303022901/ref=acr_dpproductdetail_text?ie=UTF8&showViewpoints=1\">\\n      757 customer reviews\\n    </a>\\n  </span>\\n</span>\\n\\n\\n\\n\\n\\n\\n\\n\\n\\n\\n</li>\\n\\n\\n\\n\\n\\n\\n\\n\\n\\n\\n\\n\\n\\n\\n\\n\\n\\n\\n\\n\\n\\n\\n\\n\\n<li><b>ASIN: </b>6303022901</li>\\n\\n\\n\\n\\n\\n\\n\\n\\n\\n\\n\\n\\n\\n\\n\\n\\n\\n<li id=\"SalesRank\">\\n<b>Amazon Best Sellers Rank:</b> \\n\\n\\n\\n\\n\\n\\n\\n\\n\\n\\n\\n\\n\\n\\n\\n\\n\\n\\n\\n\\n\\n\\n\\n\\n\\n\\n\\n\\n\\n\\n\\n\\n\\n#295,699 in Movies & TV (<a href=\"https://www.amazon.com/best-sellers-movies-TV-DVD-Blu-ray/zgbs/movies-tv/ref=pd_dp_ts_movies-tv_1\">See Top 100 in Movies & TV</a>)\\n \\n\\n\\n\\n\\n\\n</li>\\n\\n\\n\\n\\n\\n\\t\\t\\n\\t\\n\\t\\t\\n\\t\\n\\t\\t\\n\\t\\n\\t\\t\\t\\n\\t\\t\\t\\n\\t\\t\\t\\n\\t\\t\\t\\n     \\t    \\n            \\n            \\n            \\n            \\n            \\n            <P><div class=\"bucket\">    <script>\\n    P.now(\"A\",\"tellMeMoreLinkData\").execute(function(A,tellMeMoreLinkData){\\n        if(typeof tellMeMoreLinkData !== \\'undefined\\'){\\n            A.state(\\'lowerPricePopoverData\\',{\"trigger\":\"ns_S9TDB0QR842A4TT94P0F_21323_1_hmd_pricing_feedback_trigger_product-detail\",\"destination\":\"/gp/pdp/pf/pricingFeedbackForm.html/ref=_pfdpb?ie=UTF8&%2AVersion%2A=1&%2Aentries%2A=0&ASIN=6303022901&PREFIX=ns_S9TDB0QR842A4TT94P0F_21323_2_&WDG=video_display_on_website&dpRequestId=S9TDB0QR842A4TT94P0F&from=product-detail&storeID=movies-tvencodeURI(\\'&originalURI=\\' + window.location.pathname)\",\"url\":\"/gp/pdp/pf/pricingFeedbackForm.html/ref=_pfdpb?ie=UTF8&%2AVersion%2A=1&%2Aentries%2A=0&ASIN=6303022901&PREFIX=ns_S9TDB0QR842A4TT94P0F_21323_2_&WDG=video_display_on_website&dpRequestId=S9TDB0QR842A4TT94P0F&from=product-detail&storeID=movies-tv\",\"nsPrefix\":\"ns_S9TDB0QR842A4TT94P0F_21323_2_\",\"path\":\"encodeURI(\\'&originalURI=\\' + window.location.pathname)\",\"title\":\"Tell Us About a Lower Price\"});\\n            return {\\n                   key:\"pricing-fbW\",\\n                   method: function(){\\n                                     return {\"trigger\":\"ns_S9TDB0QR842A4TT94P0F_21323_1_hmd_pricing_feedback_trigger_product-detail\",\"destination\":\"/gp/pdp/pf/pricingFeedbackForm.html/ref=_pfdpb?ie=UTF8&%2AVersion%2A=1&%2Aentries%2A=0&ASIN=6303022901&PREFIX=ns_S9TDB0QR842A4TT94P0F_21323_2_&WDG=video_display_on_website&dpRequestId=S9TDB0QR842A4TT94P0F&from=product-detail&storeID=movies-tvencodeURI(\\'&originalURI=\\' + window.location.pathname)\",\"url\":\"/gp/pdp/pf/pricingFeedbackForm.html/ref=_pfdpb?ie=UTF8&%2AVersion%2A=1&%2Aentries%2A=0&ASIN=6303022901&PREFIX=ns_S9TDB0QR842A4TT94P0F_21323_2_&WDG=video_display_on_website&dpRequestId=S9TDB0QR842A4TT94P0F&from=product-detail&storeID=movies-tv\",\"nsPrefix\":\"ns_S9TDB0QR842A4TT94P0F_21323_2_\",\"path\":\"encodeURI(\\'&originalURI=\\' + window.location.pathname)\",\"title\":\"Tell Us About a Lower Price\"};\\n                                     }\\n                   }\\n        }\\n        else{\\n                P.when(\"A\").register(\"tellMeMoreLinkData\",function(A){\\n                    A.state(\\'lowerPricePopoverData\\',{\"trigger\":\"ns_S9TDB0QR842A4TT94P0F_21323_1_hmd_pricing_feedback_trigger_product-detail\",\"destination\":\"/gp/pdp/pf/pricingFeedbackForm.html/ref=_pfdpb?ie=UTF8&%2AVersion%2A=1&%2Aentries%2A=0&ASIN=6303022901&PREFIX=ns_S9TDB0QR842A4TT94P0F_21323_2_&WDG=video_display_on_website&dpRequestId=S9TDB0QR842A4TT94P0F&from=product-detail&storeID=movies-tvencodeURI(\\'&originalURI=\\' + window.location.pathname)\",\"url\":\"/gp/pdp/pf/pricingFeedbackForm.html/ref=_pfdpb?ie=UTF8&%2AVersion%2A=1&%2Aentries%2A=0&ASIN=6303022901&PREFIX=ns_S9TDB0QR842A4TT94P0F_21323_2_&WDG=video_display_on_website&dpRequestId=S9TDB0QR842A4TT94P0F&from=product-detail&storeID=movies-tv\",\"nsPrefix\":\"ns_S9TDB0QR842A4TT94P0F_21323_2_\",\"path\":\"encodeURI(\\'&originalURI=\\' + window.location.pathname)\",\"title\":\"Tell Us About a Lower Price\"});\\n                    return {\\n                           key:\"pricing-fbW\",\\n                           method: function(){\\n                                             return {\"trigger\":\"ns_S9TDB0QR842A4TT94P0F_21323_1_hmd_pricing_feedback_trigger_product-detail\",\"destination\":\"/gp/pdp/pf/pricingFeedbackForm.html/ref=_pfdpb?ie=UTF8&%2AVersion%2A=1&%2Aentries%2A=0&ASIN=6303022901&PREFIX=ns_S9TDB0QR842A4TT94P0F_21323_2_&WDG=video_display_on_website&dpRequestId=S9TDB0QR842A4TT94P0F&from=product-detail&storeID=movies-tvencodeURI(\\'&originalURI=\\' + window.location.pathname)\",\"url\":\"/gp/pdp/pf/pricingFeedbackForm.html/ref=_pfdpb?ie=UTF8&%2AVersion%2A=1&%2Aentries%2A=0&ASIN=6303022901&PREFIX=ns_S9TDB0QR842A4TT94P0F_21323_2_&WDG=video_display_on_website&dpRequestId=S9TDB0QR842A4TT94P0F&from=product-detail&storeID=movies-tv\",\"nsPrefix\":\"ns_S9TDB0QR842A4TT94P0F_21323_2_\",\"path\":\"encodeURI(\\'&originalURI=\\' + window.location.pathname)\",\"title\":\"Tell Us About a Lower Price\"};\\n                                             }\\n                           }\\n\\t\\t\\t    });\\n            }\\n    });\\n    </script>\\nWould you like to <b><a href=\"#\" id=\"ns_S9TDB0QR842A4TT94P0F_21323_1_hmd_pricing_feedback_trigger_product-detail\">tell us about a lower price</a></b>?<br>If you are a seller for this product, would you like to <b><a href=\"https://sellercentral.amazon.com/cu/contact-us?categoryId=30002&typeId=30005\">suggest updates through seller support</a></b>?</div></P>\\n\\n\\n\\n</ul>\\n</div>\\n    '"
            ]
          },
          "metadata": {
            "tags": []
          },
          "execution_count": 80
        }
      ]
    },
    {
      "cell_type": "code",
      "metadata": {
        "id": "wRdOugkUTfUd",
        "colab_type": "code",
        "colab": {}
      },
      "source": [
        ""
      ],
      "execution_count": 0,
      "outputs": []
    }
  ]
}