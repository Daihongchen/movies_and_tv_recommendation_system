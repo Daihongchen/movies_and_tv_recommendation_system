{
 "cells": [
  {
   "cell_type": "code",
   "execution_count": 1,
   "metadata": {},
   "outputs": [],
   "source": [
    "import pandas as pd\n",
    "import numpy as np\n",
    "import matplotlib.pyplot as plt\n",
    "import matplotlib.image as mpimg\n",
    "from matplotlib.pyplot import figure\n",
    "import pickle\n",
    "import os\n",
    "import sys\n",
    "module_path = os.path.abspath(os.path.join(os.pardir))\n",
    "if module_path not in sys.path:\n",
    "    sys.path.append(module_path)\n",
    "\n",
    "import tensorflow as tf\n",
    "from tensorflow import keras\n",
    "from tensorflow.keras.models import load_model\n",
    "from sklearn.metrics import confusion_matrix\n",
    "from sklearn.model_selection import train_test_split\n",
    "from sklearn.model_selection import StratifiedKFold\n",
    "\n",
    "import itertools\n",
    "\n",
    "from tensorflow.keras.layers import Concatenate, Dense, Dropout\n",
    "from tensorflow.keras.layers import Add, Activation, Lambda\n",
    "from tensorflow.keras.models import Model\n",
    "from tensorflow.keras.layers import Input, Reshape, Dot\n",
    "from tensorflow.keras.layers import Embedding\n",
    "from tensorflow.keras.optimizers import Adam\n",
    "from tensorflow.keras.regularizers import l2\n",
    "from tensorflow.keras.models import load_model\n",
    "\n",
    "from src.explore import explore_data, create_dis_rating, top_reviewers_plot, top_products_plot, sub_dataset\n",
    "from src.cf_models import import_data, create_parameters_model, train_test, RecommenderNet\n",
    "from src.get_data import get_data\n",
    "from src.cross_val import cross_val_v1\n",
    "\n",
    "pd.set_option('display.float_format', '{:.2f}'.format)\n",
    "\n",
    "import warnings\n",
    "\n",
    "def fxn():\n",
    "    warnings.warn(\"deprecated\", DeprecationWarning)\n",
    "\n",
    "with warnings.catch_warnings():\n",
    "    warnings.simplefilter(\"ignore\")\n",
    "    fxn()"
   ]
  },
  {
   "cell_type": "markdown",
   "metadata": {},
   "source": [
    "# Movie Recommender Using Deep Neural Networks"
   ]
  },
  {
   "cell_type": "markdown",
   "metadata": {},
   "source": [
    "## The project goal:\n",
    "\n",
    "Building a high performance movies/TV recommender system to engage Amazon customers, so as to drive the movies/TV products sales. \n",
    "\n",
    "\n",
    "## Business Understanding\n",
    "\n",
    "1. Entertainment products such as movies/TV market is increasing. A recommender system with high performance plays a key role to engage customers and to drive sales.\n",
    "2. A recommender system is used to predict users' interests based on historical data, and recommend product items that are most likely interesting for users. \n",
    "3. Using Neural networks to build a recommendation system because deep neural networks can efficiently learn the underlying explanatory factors and useful representations, so as to produce high performance. \n",
    "\n",
    "## Data Understanding\n",
    "\n",
    "1. Data used in this project are Amazon Movies/TV reviews from UCSD\n",
    "2. The downloaded data are Json.gz files with 19 years data (8,765,568 reviews) \n",
    "3. The data used in this project is a subsample that only includes 2018 ratings/reviews, so as to reduce computational cost, and to better focus on the improve the model performance. \n",
    "4. In the meta datafile, there is a feature named\"details\" which is in html format and includes the links for that product. Used BeautifulSoup and Scraped webpage link.\n",
    "\n",
    "## Process\n",
    "\n",
    "1. Download the data\n",
    "2. Extract the data from json.gz files, subsample the data, scrape the links, clean and preprocess the data for exploration and building the model.\n",
    "3. Explore and visualize the dataset\n",
    "4. Build the model\n",
    "5. Corss Validation\n",
    "6. Make Predicitons/Recommendations"
   ]
  },
  {
   "cell_type": "markdown",
   "metadata": {},
   "source": [
    "## Step1: Download Data files"
   ]
  },
  {
   "cell_type": "code",
   "execution_count": 2,
   "metadata": {},
   "outputs": [],
   "source": [
    "## use the following two lines of codes to download data files. The files will be saved as Movies_andTV_.json.gz and meta_Movies_and_TV.json.gz in the data folder. \n",
    "## I already downloaded and saved the data in the data folder, so I skip this step\n",
    "\n",
    "# !wget http://deepyeti.ucsd.edu/jianmo/amazon/metaFiles/meta_Movies_and_TV.json.gz\n",
    "# !wget http://deepyeti.ucsd.edu/jianmo/amazon/categoryFiles/Movies_and_TV.json.gz"
   ]
  },
  {
   "cell_type": "markdown",
   "metadata": {},
   "source": [
    "## Step2: Data Preparation for Exploration and Model Building"
   ]
  },
  {
   "cell_type": "code",
   "execution_count": 3,
   "metadata": {},
   "outputs": [],
   "source": [
    "## after download the data, use get_data() from scr.get_data.py to get datafrom json.gz files, extract links from the 'details', clean the data and tramsform reviewerID and movieID into two different columns.\n",
    "## data = get_data() will generate a cleaned dataset that will be used for exploration and model building. \n",
    "## Due to the data files are very large and takes long time to load, transform, and clean, I saved the output from get_data() to a csv file so that it is easy to run. \n",
    "\n",
    "## use the next line to get the data. warning: this step takes a long time because the json.gz files are very big, and extracting links takes long time as well. \n",
    "\n",
    "data = get_data() # I already got the data, so I skip this step \n",
    "\n",
    "# save the data to csv for future use\n",
    "data.to_csv('../data/data_2018_mr.csv') ## I already saved the data, so I skip this one"
   ]
  },
  {
   "cell_type": "code",
   "execution_count": 2,
   "metadata": {},
   "outputs": [],
   "source": [
    "# import the data from csv file saved from last step\n",
    "data_2018 = pd.read_csv('../data/data_2018_mr.csv')"
   ]
  },
  {
   "cell_type": "code",
   "execution_count": 3,
   "metadata": {},
   "outputs": [
    {
     "data": {
      "text/html": [
       "<div>\n",
       "<style scoped>\n",
       "    .dataframe tbody tr th:only-of-type {\n",
       "        vertical-align: middle;\n",
       "    }\n",
       "\n",
       "    .dataframe tbody tr th {\n",
       "        vertical-align: top;\n",
       "    }\n",
       "\n",
       "    .dataframe thead th {\n",
       "        text-align: right;\n",
       "    }\n",
       "</style>\n",
       "<table border=\"1\" class=\"dataframe\">\n",
       "  <thead>\n",
       "    <tr style=\"text-align: right;\">\n",
       "      <th></th>\n",
       "      <th>Unnamed: 0</th>\n",
       "      <th>rating</th>\n",
       "      <th>reviewTime</th>\n",
       "      <th>reviewerID</th>\n",
       "      <th>movieID</th>\n",
       "      <th>style</th>\n",
       "      <th>reviewerName</th>\n",
       "      <th>reviewText</th>\n",
       "      <th>summary</th>\n",
       "      <th>unixReviewTime</th>\n",
       "      <th>...</th>\n",
       "      <th>main_cat</th>\n",
       "      <th>description</th>\n",
       "      <th>brand</th>\n",
       "      <th>price</th>\n",
       "      <th>links</th>\n",
       "      <th>reviewer_count</th>\n",
       "      <th>movie_count</th>\n",
       "      <th>average_rating</th>\n",
       "      <th>reviewer</th>\n",
       "      <th>movie</th>\n",
       "    </tr>\n",
       "  </thead>\n",
       "  <tbody>\n",
       "    <tr>\n",
       "      <td>0</td>\n",
       "      <td>0</td>\n",
       "      <td>5.00</td>\n",
       "      <td>04 8, 2018</td>\n",
       "      <td>A1CW3NLH9MBQRY</td>\n",
       "      <td>6303022901</td>\n",
       "      <td>{'Format:': ' DVD'}</td>\n",
       "      <td>Sally Nunez</td>\n",
       "      <td>I really enjoyed this movie. Brings tears to m...</td>\n",
       "      <td>Five Stars</td>\n",
       "      <td>1523145600</td>\n",
       "      <td>...</td>\n",
       "      <td>Movies &amp; TV</td>\n",
       "      <td>['Produced by Academy Award(R)-winning filmmak...</td>\n",
       "      <td>Tamlyn Tomita</td>\n",
       "      <td>$3.28</td>\n",
       "      <td>https://www.amazon.com/product-reviews/6303022...</td>\n",
       "      <td>3</td>\n",
       "      <td>21</td>\n",
       "      <td>4.86</td>\n",
       "      <td>3421</td>\n",
       "      <td>0</td>\n",
       "    </tr>\n",
       "    <tr>\n",
       "      <td>1</td>\n",
       "      <td>1</td>\n",
       "      <td>5.00</td>\n",
       "      <td>04 2, 2018</td>\n",
       "      <td>A1WK0IRZ08NX9X</td>\n",
       "      <td>6303022901</td>\n",
       "      <td>{'Format:': ' DVD'}</td>\n",
       "      <td>Ammie28</td>\n",
       "      <td>If you have never seen this movie, you may jus...</td>\n",
       "      <td>Heart Touching...</td>\n",
       "      <td>1522627200</td>\n",
       "      <td>...</td>\n",
       "      <td>Movies &amp; TV</td>\n",
       "      <td>['Produced by Academy Award(R)-winning filmmak...</td>\n",
       "      <td>Tamlyn Tomita</td>\n",
       "      <td>$3.28</td>\n",
       "      <td>https://www.amazon.com/product-reviews/6303022...</td>\n",
       "      <td>4</td>\n",
       "      <td>21</td>\n",
       "      <td>4.86</td>\n",
       "      <td>8655</td>\n",
       "      <td>0</td>\n",
       "    </tr>\n",
       "    <tr>\n",
       "      <td>2</td>\n",
       "      <td>2</td>\n",
       "      <td>5.00</td>\n",
       "      <td>03 30, 2018</td>\n",
       "      <td>A2HGXJQCQTXE4E</td>\n",
       "      <td>6303022901</td>\n",
       "      <td>{'Format:': ' Blu-ray'}</td>\n",
       "      <td>Pa nhia lee</td>\n",
       "      <td>awesome all time fave movie.</td>\n",
       "      <td>Five Stars</td>\n",
       "      <td>1522368000</td>\n",
       "      <td>...</td>\n",
       "      <td>Movies &amp; TV</td>\n",
       "      <td>['Produced by Academy Award(R)-winning filmmak...</td>\n",
       "      <td>Tamlyn Tomita</td>\n",
       "      <td>$3.28</td>\n",
       "      <td>https://www.amazon.com/product-reviews/6303022...</td>\n",
       "      <td>4</td>\n",
       "      <td>21</td>\n",
       "      <td>4.86</td>\n",
       "      <td>14164</td>\n",
       "      <td>0</td>\n",
       "    </tr>\n",
       "  </tbody>\n",
       "</table>\n",
       "<p>3 rows × 23 columns</p>\n",
       "</div>"
      ],
      "text/plain": [
       "   Unnamed: 0  rating   reviewTime      reviewerID     movieID  \\\n",
       "0           0    5.00   04 8, 2018  A1CW3NLH9MBQRY  6303022901   \n",
       "1           1    5.00   04 2, 2018  A1WK0IRZ08NX9X  6303022901   \n",
       "2           2    5.00  03 30, 2018  A2HGXJQCQTXE4E  6303022901   \n",
       "\n",
       "                     style reviewerName  \\\n",
       "0      {'Format:': ' DVD'}  Sally Nunez   \n",
       "1      {'Format:': ' DVD'}      Ammie28   \n",
       "2  {'Format:': ' Blu-ray'}  Pa nhia lee   \n",
       "\n",
       "                                          reviewText            summary  \\\n",
       "0  I really enjoyed this movie. Brings tears to m...         Five Stars   \n",
       "1  If you have never seen this movie, you may jus...  Heart Touching...   \n",
       "2                       awesome all time fave movie.         Five Stars   \n",
       "\n",
       "   unixReviewTime  ...     main_cat  \\\n",
       "0      1523145600  ...  Movies & TV   \n",
       "1      1522627200  ...  Movies & TV   \n",
       "2      1522368000  ...  Movies & TV   \n",
       "\n",
       "                                         description          brand  price  \\\n",
       "0  ['Produced by Academy Award(R)-winning filmmak...  Tamlyn Tomita  $3.28   \n",
       "1  ['Produced by Academy Award(R)-winning filmmak...  Tamlyn Tomita  $3.28   \n",
       "2  ['Produced by Academy Award(R)-winning filmmak...  Tamlyn Tomita  $3.28   \n",
       "\n",
       "                                               links reviewer_count  \\\n",
       "0  https://www.amazon.com/product-reviews/6303022...              3   \n",
       "1  https://www.amazon.com/product-reviews/6303022...              4   \n",
       "2  https://www.amazon.com/product-reviews/6303022...              4   \n",
       "\n",
       "  movie_count average_rating  reviewer  movie  \n",
       "0          21           4.86      3421      0  \n",
       "1          21           4.86      8655      0  \n",
       "2          21           4.86     14164      0  \n",
       "\n",
       "[3 rows x 23 columns]"
      ]
     },
     "execution_count": 3,
     "metadata": {},
     "output_type": "execute_result"
    }
   ],
   "source": [
    "# take a look at the cleaned and preprocessed data\n",
    "data_2018.head(3)"
   ]
  },
  {
   "cell_type": "markdown",
   "metadata": {},
   "source": [
    "## Step3: Explore the data"
   ]
  },
  {
   "cell_type": "code",
   "execution_count": 4,
   "metadata": {},
   "outputs": [
    {
     "name": "stdout",
     "output_type": "stream",
     "text": [
      "Count of Reviewers: 35992\n",
      "Count of Products: 20007\n",
      "\n",
      "Ratings descriptive statistics: \n",
      "count   116700.00\n",
      "mean         4.43\n",
      "std          1.11\n",
      "min          1.00\n",
      "25%          4.00\n",
      "50%          5.00\n",
      "75%          5.00\n",
      "max          5.00\n",
      "Name: rating, dtype: float64\n",
      "\n",
      "Reviewers by count descriptive statistics: \n",
      "count   35992.00\n",
      "mean        3.24\n",
      "std         3.44\n",
      "min         1.00\n",
      "25%         2.00\n",
      "50%         2.00\n",
      "75%         3.00\n",
      "max        85.00\n",
      "Name: rating, dtype: float64\n",
      "\n",
      "Products by count descriptive statistics: \n",
      "count   20007.00\n",
      "mean        5.83\n",
      "std        15.32\n",
      "min         1.00\n",
      "25%         2.00\n",
      "50%         2.00\n",
      "75%         5.00\n",
      "max       595.00\n",
      "Name: rating, dtype: float64\n",
      "\n",
      "Top reviwers by count of reviews: \n",
      "reviewerID\n",
      "A471W6ANJU6W9     85\n",
      "A3QXT4RO4RBPCL    83\n",
      "A3EKNWZOV3EZXC    78\n",
      "A2764UZVBFC61W    78\n",
      "AJ2LH4FFW4QYX     71\n",
      "AG8OC1AEP44WU     71\n",
      "A1ADJ8AD91RE0J    70\n",
      "AGB3M4QPM0MIU     67\n",
      "A54ERXXP81MF      67\n",
      "AUSLDE6RFBM2O     63\n",
      "A292UXMLXC60UZ    63\n",
      "A1UI1DY6CPWHY5    63\n",
      "A3V0D97QKXDN5R    61\n",
      "A3HOMAS5ODFCW6    58\n",
      "A1O0ZP73F9OQ6T    57\n",
      "A2HFT9LTGLPCYZ    57\n",
      "A3L044JLWY92WI    54\n",
      "A5RGNTKP1A87U     54\n",
      "AVBJBOK7CQTEQ     53\n",
      "A3K6EFB5MWE2C5    52\n",
      "Name: rating, dtype: int64\n",
      "\n",
      "Top movies by count of reviews: \n",
      "title\n",
      "Blade Runner: The Final Cut                                             595\n",
      "Guardians of the Galaxy                                                 511\n",
      "Guardians Of The Galaxy Region Free                                     511\n",
      "Guardians of the Galaxy [Blu-ray]                                       511\n",
      "Harry Potter - Complete 8-Film Collection                               487\n",
      "Harry Potter Collezione Completa (8 Blu-Ray)                            425\n",
      "The Sound of Music                                                      360\n",
      "The Lord Of The Rings: Trilogy                                          344\n",
      "Love Actually                                                           311\n",
      "Lucy                                                                    311\n",
      "Deadpool 2016                                                           292\n",
      "Kingsman: The Secret Service                                            290\n",
      "Secret Service VHS                                                      262\n",
      "Secondhand Lions                                                        246\n",
      "John Wick                                                               245\n",
      "Anne of Green Gables: The Collection (Anniversary Edition)              230\n",
      "The Secret - Extended Edition                                           204\n",
      "The Ultimate Gift                                                       184\n",
      "Wild                                                                    178\n",
      "Mad Max : Fury Road - Edition limitée 3D - Coffret Voiture [Blu-ray]    173\n",
      "Name: rating, dtype: int64\n"
     ]
    }
   ],
   "source": [
    "# explore the dataset of 2018. The specific codes are in the src.explore.py file\n",
    "explore_data()"
   ]
  },
  {
   "cell_type": "code",
   "execution_count": 5,
   "metadata": {},
   "outputs": [],
   "source": [
    "## get sub_dataset for visualization\n",
    "\n",
    "data_2018, top_reviewers, top_products = sub_dataset()"
   ]
  },
  {
   "cell_type": "code",
   "execution_count": 6,
   "metadata": {},
   "outputs": [
    {
     "data": {
      "image/png": "[encoded data removed]",
      "text/plain": [
       "<Figure size 800x480 with 1 Axes>"
      ]
     },
     "metadata": {},
     "output_type": "display_data"
    }
   ],
   "source": [
    "# visualize the distribution of ratings\n",
    "rating_hist = create_dis_rating(data_2018)"
   ]
  },
  {
   "cell_type": "code",
   "execution_count": 7,
   "metadata": {},
   "outputs": [
    {
     "data": {
      "image/png": "[encoded data removed]",
      "text/plain": [
       "<Figure size 800x480 with 1 Axes>"
      ]
     },
     "metadata": {},
     "output_type": "display_data"
    }
   ],
   "source": [
    "# visualize the top reviewers by count of ratings the reviewers gave\n",
    "top_reviewers_plot(top_reviewers)"
   ]
  },
  {
   "cell_type": "code",
   "execution_count": 9,
   "metadata": {},
   "outputs": [
    {
     "data": {
      "image/png": "[encoded data removed]",
      "text/plain": [
       "<Figure size 800x480 with 1 Axes>"
      ]
     },
     "metadata": {},
     "output_type": "display_data"
    }
   ],
   "source": [
    "# visualize the top movies/TV by count of reviews for the products\n",
    "top_products_plot(top_products)"
   ]
  },
  {
   "cell_type": "markdown",
   "metadata": {},
   "source": [
    "## Findings:\n",
    "\n",
    "1. Majority ratings are 5.\n",
    "2. 50% reviewers only reviewed 1 movie.\n",
    "3. 25% movies have only one review. \n",
    "4. Data is sparse. "
   ]
  },
  {
   "cell_type": "markdown",
   "metadata": {},
   "source": [
    "## Step4: Build the Deep Neural Networks Model"
   ]
  },
  {
   "cell_type": "markdown",
   "metadata": {},
   "source": [
    "The cf_models.py file includes the base model and the final molde. The base model is a simple and basic model with only input and output layers. The final model added hidden layers and dropout to help prevent overfitting on the training dataset. The following model is the final model.\n",
    "\n",
    "Loss function: Squared Mean Error\n",
    "\n",
    "Metrics: Mean Absolute Error"
   ]
  },
  {
   "cell_type": "code",
   "execution_count": 10,
   "metadata": {},
   "outputs": [],
   "source": [
    "# import cleaned data for model , it is the save data_2018_mr.csv\n",
    "data_2018 = import_data()"
   ]
  },
  {
   "cell_type": "code",
   "execution_count": 11,
   "metadata": {},
   "outputs": [],
   "source": [
    "# get parameters for the model\n",
    "n_reviewers, n_movies, n_factors, min_rating, max_rating = create_parameters_model(data_2018)"
   ]
  },
  {
   "cell_type": "code",
   "execution_count": 5,
   "metadata": {},
   "outputs": [],
   "source": [
    "# split train and test data for the model\n",
    "X_train, X_test, X_train_array, X_test_array, y_train, y_test = train_test(data_2018)"
   ]
  },
  {
   "cell_type": "code",
   "execution_count": 6,
   "metadata": {},
   "outputs": [],
   "source": [
    "# initialate the final model\n",
    "model = RecommenderNet(n_reviewers, n_movies, n_factors, min_rating, max_rating)"
   ]
  },
  {
   "cell_type": "code",
   "execution_count": 7,
   "metadata": {},
   "outputs": [
    {
     "name": "stdout",
     "output_type": "stream",
     "text": [
      "Train on 93360 samples, validate on 23340 samples\n",
      "Epoch 1/5\n"
     ]
    },
    {
     "name": "stderr",
     "output_type": "stream",
     "text": [
      "/Users/daihongchen/opt/anaconda3/envs/learn-env/lib/python3.6/site-packages/tensorflow_core/python/framework/indexed_slices.py:433: UserWarning: Converting sparse IndexedSlices to a dense Tensor of unknown shape. This may consume a large amount of memory.\n",
      "  \"Converting sparse IndexedSlices to a dense Tensor of unknown shape. \"\n",
      "/Users/daihongchen/opt/anaconda3/envs/learn-env/lib/python3.6/site-packages/tensorflow_core/python/framework/indexed_slices.py:433: UserWarning: Converting sparse IndexedSlices to a dense Tensor of unknown shape. This may consume a large amount of memory.\n",
      "  \"Converting sparse IndexedSlices to a dense Tensor of unknown shape. \"\n"
     ]
    },
    {
     "name": "stdout",
     "output_type": "stream",
     "text": [
      "93360/93360 [==============================] - 29s 310us/sample - loss: 1.2747 - mae: 0.7780 - val_loss: 0.8710 - val_mae: 0.5021\n",
      "Epoch 2/5\n",
      "93360/93360 [==============================] - 27s 289us/sample - loss: 0.7034 - mae: 0.4500 - val_loss: 0.8013 - val_mae: 0.4580\n",
      "Epoch 3/5\n",
      "93360/93360 [==============================] - 27s 287us/sample - loss: 0.5478 - mae: 0.3690 - val_loss: 0.7736 - val_mae: 0.4444\n",
      "Epoch 4/5\n",
      "93360/93360 [==============================] - 27s 287us/sample - loss: 0.4710 - mae: 0.3250 - val_loss: 0.7839 - val_mae: 0.4403\n",
      "Epoch 5/5\n",
      "93360/93360 [==============================] - 27s 285us/sample - loss: 0.4368 - mae: 0.3043 - val_loss: 0.7858 - val_mae: 0.4322\n"
     ]
    }
   ],
   "source": [
    "# fit the data\n",
    "history = model.fit(x=X_train_array, \n",
    "                    y=y_train, \n",
    "                    batch_size=64, \n",
    "                    epochs=5,\n",
    "                    verbose=1, \n",
    "                    validation_data=(X_test_array, y_test))"
   ]
  },
  {
   "cell_type": "code",
   "execution_count": 8,
   "metadata": {},
   "outputs": [
    {
     "data": {
      "image/png": "[encoded data removed]",
      "text/plain": [
       "<Figure size 720x360 with 1 Axes>"
      ]
     },
     "metadata": {
      "needs_background": "light"
     },
     "output_type": "display_data"
    }
   ],
   "source": [
    "# visualize the final model loss\n",
    "from pylab import rcParams\n",
    "rcParams['figure.figsize'] = 10, 5\n",
    "import matplotlib.pyplot as plt\n",
    "plt.plot(history.history['loss'] , 'g')\n",
    "plt.plot(history.history['val_loss'] , 'b')\n",
    "plt.title('model loss')\n",
    "plt.ylabel('loss')\n",
    "plt.xlabel('epoch')\n",
    "plt.legend(['train', 'test'], loc='upper left')\n",
    "plt.grid(True)\n",
    "plt.show()"
   ]
  },
  {
   "cell_type": "markdown",
   "metadata": {},
   "source": [
    "## Step5: Cross validation"
   ]
  },
  {
   "cell_type": "code",
   "execution_count": 13,
   "metadata": {},
   "outputs": [
    {
     "name": "stderr",
     "output_type": "stream",
     "text": [
      "/Users/daihongchen/opt/anaconda3/envs/learn-env/lib/python3.6/site-packages/tensorflow_core/python/framework/indexed_slices.py:433: UserWarning: Converting sparse IndexedSlices to a dense Tensor of unknown shape. This may consume a large amount of memory.\n",
      "  \"Converting sparse IndexedSlices to a dense Tensor of unknown shape. \"\n"
     ]
    },
    {
     "name": "stdout",
     "output_type": "stream",
     "text": [
      "Train on 74688 samples, validate on 18672 samples\n",
      "Epoch 1/5\n",
      "   32/74688 [..............................] - ETA: 11:21 - loss: 0.1892 - mae: 0.1751"
     ]
    },
    {
     "name": "stderr",
     "output_type": "stream",
     "text": [
      "/Users/daihongchen/opt/anaconda3/envs/learn-env/lib/python3.6/site-packages/tensorflow_core/python/framework/indexed_slices.py:433: UserWarning: Converting sparse IndexedSlices to a dense Tensor of unknown shape. This may consume a large amount of memory.\n",
      "  \"Converting sparse IndexedSlices to a dense Tensor of unknown shape. \"\n"
     ]
    },
    {
     "name": "stdout",
     "output_type": "stream",
     "text": [
      "74688/74688 [==============================] - 44s 587us/sample - loss: 0.3979 - mae: 0.2882 - val_loss: 0.3012 - val_mae: 0.2180\n",
      "Epoch 2/5\n",
      "74688/74688 [==============================] - 43s 580us/sample - loss: 0.3988 - mae: 0.2888 - val_loss: 0.3858 - val_mae: 0.2677\n",
      "Epoch 3/5\n",
      "74688/74688 [==============================] - 46s 610us/sample - loss: 0.4055 - mae: 0.2932 - val_loss: 0.4904 - val_mae: 0.3177\n",
      "Epoch 4/5\n",
      "74688/74688 [==============================] - 45s 608us/sample - loss: 0.4021 - mae: 0.2911 - val_loss: 0.6424 - val_mae: 0.3727\n",
      "Epoch 5/5\n",
      "74688/74688 [==============================] - 45s 596us/sample - loss: 0.4049 - mae: 0.2915 - val_loss: 0.7363 - val_mae: 0.4074\n",
      "18672/18672 [==============================] - 2s 86us/sample - loss: 0.7363 - mae: 0.4074\n",
      "mae 0.40737972\n",
      "Train on 74688 samples, validate on 18672 samples\n",
      "Epoch 1/5\n",
      "74688/74688 [==============================] - 45s 600us/sample - loss: 0.5047 - mae: 0.3394 - val_loss: 0.3264 - val_mae: 0.2381\n",
      "Epoch 2/5\n",
      "74688/74688 [==============================] - 48s 642us/sample - loss: 0.4391 - mae: 0.3086 - val_loss: 0.4217 - val_mae: 0.2807\n",
      "Epoch 3/5\n",
      "74688/74688 [==============================] - 43s 575us/sample - loss: 0.4141 - mae: 0.2968 - val_loss: 0.5275 - val_mae: 0.3240\n",
      "Epoch 4/5\n",
      "74688/74688 [==============================] - 46s 613us/sample - loss: 0.3999 - mae: 0.2898 - val_loss: 0.6061 - val_mae: 0.3644\n",
      "Epoch 5/5\n",
      "74688/74688 [==============================] - 45s 607us/sample - loss: 0.3915 - mae: 0.2852 - val_loss: 0.7182 - val_mae: 0.4019\n",
      "18672/18672 [==============================] - 2s 107us/sample - loss: 0.7182 - mae: 0.4019\n",
      "mae 0.40187737\n",
      "Train on 74688 samples, validate on 18672 samples\n",
      "Epoch 1/5\n",
      "74688/74688 [==============================] - 47s 635us/sample - loss: 0.4864 - mae: 0.3320 - val_loss: 0.3003 - val_mae: 0.2244\n",
      "Epoch 2/5\n",
      "74688/74688 [==============================] - 44s 595us/sample - loss: 0.4403 - mae: 0.3117 - val_loss: 0.3818 - val_mae: 0.2654\n",
      "Epoch 3/5\n",
      "74688/74688 [==============================] - 43s 577us/sample - loss: 0.4194 - mae: 0.2995 - val_loss: 0.4849 - val_mae: 0.3141\n",
      "Epoch 4/5\n",
      "74688/74688 [==============================] - 48s 646us/sample - loss: 0.4059 - mae: 0.2906 - val_loss: 0.5754 - val_mae: 0.3473\n",
      "Epoch 5/5\n",
      "74688/74688 [==============================] - 49s 658us/sample - loss: 0.4001 - mae: 0.2869 - val_loss: 0.6782 - val_mae: 0.3846\n",
      "18672/18672 [==============================] - 2s 114us/sample - loss: 0.6782 - mae: 0.3846\n",
      "mae 0.384637\n",
      "Train on 74688 samples, validate on 18672 samples\n",
      "Epoch 1/5\n",
      "74688/74688 [==============================] - 47s 633us/sample - loss: 0.5027 - mae: 0.3375 - val_loss: 0.3062 - val_mae: 0.2249\n",
      "Epoch 2/5\n",
      "74688/74688 [==============================] - 46s 610us/sample - loss: 0.4564 - mae: 0.3194 - val_loss: 0.3856 - val_mae: 0.2676\n",
      "Epoch 3/5\n",
      "74688/74688 [==============================] - 42s 562us/sample - loss: 0.4383 - mae: 0.3095 - val_loss: 0.4699 - val_mae: 0.3051\n",
      "Epoch 4/5\n",
      "74688/74688 [==============================] - 42s 563us/sample - loss: 0.4206 - mae: 0.2998 - val_loss: 0.5502 - val_mae: 0.3424\n",
      "Epoch 5/5\n",
      "74688/74688 [==============================] - 42s 559us/sample - loss: 0.4206 - mae: 0.2987 - val_loss: 0.6306 - val_mae: 0.3744\n",
      "18672/18672 [==============================] - 2s 104us/sample - loss: 0.6306 - mae: 0.3744\n",
      "mae 0.3743945\n",
      "Train on 74688 samples, validate on 18672 samples\n",
      "Epoch 1/5\n",
      "74688/74688 [==============================] - 45s 603us/sample - loss: 0.5064 - mae: 0.3438 - val_loss: 0.2903 - val_mae: 0.2166\n",
      "Epoch 2/5\n",
      "74688/74688 [==============================] - 45s 608us/sample - loss: 0.4789 - mae: 0.3311 - val_loss: 0.3693 - val_mae: 0.2641\n",
      "Epoch 3/5\n",
      "74688/74688 [==============================] - 45s 596us/sample - loss: 0.4582 - mae: 0.3204 - val_loss: 0.4609 - val_mae: 0.3084\n",
      "Epoch 4/5\n",
      "74688/74688 [==============================] - 44s 588us/sample - loss: 0.4591 - mae: 0.3209 - val_loss: 0.5509 - val_mae: 0.3520\n",
      "Epoch 5/5\n",
      "74688/74688 [==============================] - 44s 596us/sample - loss: 0.4505 - mae: 0.3165 - val_loss: 0.6482 - val_mae: 0.3823\n",
      "18672/18672 [==============================] - 2s 108us/sample - loss: 0.6482 - mae: 0.3823\n",
      "mae 0.38229263\n"
     ]
    }
   ],
   "source": [
    "cvscores, cvscore_mean, cvscore_std = cross_val_v1(X_train, y_train)"
   ]
  },
  {
   "cell_type": "code",
   "execution_count": 17,
   "metadata": {},
   "outputs": [
    {
     "data": {
      "text/plain": [
       "[0.40737972, 0.40187737, 0.384637, 0.3743945, 0.38229263]"
      ]
     },
     "execution_count": 17,
     "metadata": {},
     "output_type": "execute_result"
    }
   ],
   "source": [
    "# the cross validation scores for each split\n",
    "cvscores"
   ]
  },
  {
   "cell_type": "code",
   "execution_count": 18,
   "metadata": {},
   "outputs": [
    {
     "data": {
      "text/plain": [
       "(0.39011627, 0.012447937)"
      ]
     },
     "execution_count": 18,
     "metadata": {},
     "output_type": "execute_result"
    }
   ],
   "source": [
    "# the average and the standard deviation of the cross validation scores\n",
    "cvscore_mean, cvscore_std"
   ]
  },
  {
   "cell_type": "markdown",
   "metadata": {},
   "source": [
    "### Results\n",
    "\n",
    "The Mean Absolute Error for the final model is 0.43, which indicates the model performns well."
   ]
  },
  {
   "cell_type": "markdown",
   "metadata": {},
   "source": [
    "## Step6: Make Predictions/Recommendations"
   ]
  },
  {
   "cell_type": "code",
   "execution_count": 9,
   "metadata": {},
   "outputs": [],
   "source": [
    "# load the recommeder\n",
    "from src.recommend_movies import recommender"
   ]
  },
  {
   "cell_type": "code",
   "execution_count": 10,
   "metadata": {
    "scrolled": true
   },
   "outputs": [
    {
     "name": "stderr",
     "output_type": "stream",
     "text": [
      "/Users/daihongchen/opt/anaconda3/envs/learn-env/lib/python3.6/site-packages/tensorflow_core/python/framework/indexed_slices.py:433: UserWarning: Converting sparse IndexedSlices to a dense Tensor of unknown shape. This may consume a large amount of memory.\n",
      "  \"Converting sparse IndexedSlices to a dense Tensor of unknown shape. \"\n"
     ]
    }
   ],
   "source": [
    "rec = recommender(1000)"
   ]
  },
  {
   "cell_type": "code",
   "execution_count": 11,
   "metadata": {},
   "outputs": [
    {
     "data": {
      "text/html": [
       "<div>\n",
       "<style scoped>\n",
       "    .dataframe tbody tr th:only-of-type {\n",
       "        vertical-align: middle;\n",
       "    }\n",
       "\n",
       "    .dataframe tbody tr th {\n",
       "        vertical-align: top;\n",
       "    }\n",
       "\n",
       "    .dataframe thead th {\n",
       "        text-align: right;\n",
       "    }\n",
       "</style>\n",
       "<table border=\"1\" class=\"dataframe\">\n",
       "  <thead>\n",
       "    <tr style=\"text-align: right;\">\n",
       "      <th></th>\n",
       "      <th>movie</th>\n",
       "      <th>title</th>\n",
       "      <th>average_rating</th>\n",
       "      <th>category</th>\n",
       "      <th>description</th>\n",
       "      <th>price</th>\n",
       "      <th>links</th>\n",
       "    </tr>\n",
       "  </thead>\n",
       "  <tbody>\n",
       "    <tr>\n",
       "      <td>19449</td>\n",
       "      <td>1162</td>\n",
       "      <td>Lean on Me</td>\n",
       "      <td>4.86</td>\n",
       "      <td>['Movies &amp; TV', 'Studio Specials', 'Warner Hom...</td>\n",
       "      <td>['Based on the true story of new jersey high s...</td>\n",
       "      <td>$15.00</td>\n",
       "      <td>https://www.amazon.com/product-reviews/6305133...</td>\n",
       "    </tr>\n",
       "    <tr>\n",
       "      <td>20855</td>\n",
       "      <td>2499</td>\n",
       "      <td>The Family Man</td>\n",
       "      <td>5.00</td>\n",
       "      <td>['Movies &amp; TV', 'Genre for Featured Categories...</td>\n",
       "      <td>NaN</td>\n",
       "      <td>$22.31</td>\n",
       "      <td>https://www.amazon.com/product-reviews/B000057...</td>\n",
       "    </tr>\n",
       "    <tr>\n",
       "      <td>34954</td>\n",
       "      <td>18583</td>\n",
       "      <td>Back to the Future 30th Anniversary Trilogy</td>\n",
       "      <td>4.59</td>\n",
       "      <td>['Movies &amp; TV', 'Boxed Sets', 'Comedy']</td>\n",
       "      <td>['Experience the future all over again with th...</td>\n",
       "      <td>$22.51</td>\n",
       "      <td>https://www.amazon.com/product-reviews/B011Q0F...</td>\n",
       "    </tr>\n",
       "    <tr>\n",
       "      <td>60138</td>\n",
       "      <td>4300</td>\n",
       "      <td>Evelyn</td>\n",
       "      <td>4.83</td>\n",
       "      <td>['Movies &amp; TV', 'Studio Specials', 'MGM Home E...</td>\n",
       "      <td>[\"From the director of Driving Miss Daisy come...</td>\n",
       "      <td>$16.67</td>\n",
       "      <td>https://www.amazon.com/product-reviews/B00008D...</td>\n",
       "    </tr>\n",
       "    <tr>\n",
       "      <td>85188</td>\n",
       "      <td>15127</td>\n",
       "      <td>Futurama: The Complete Series</td>\n",
       "      <td>4.38</td>\n",
       "      <td>['Movies &amp; TV', 'Studio Specials', '20th Centu...</td>\n",
       "      <td>['As vast and hilarious as the universe itself...</td>\n",
       "      <td>$68.45</td>\n",
       "      <td>https://www.amazon.com/product-reviews/B00F77M...</td>\n",
       "    </tr>\n",
       "  </tbody>\n",
       "</table>\n",
       "</div>"
      ],
      "text/plain": [
       "       movie                                        title  average_rating  \\\n",
       "19449   1162                                   Lean on Me            4.86   \n",
       "20855   2499                               The Family Man            5.00   \n",
       "34954  18583  Back to the Future 30th Anniversary Trilogy            4.59   \n",
       "60138   4300                                       Evelyn            4.83   \n",
       "85188  15127                Futurama: The Complete Series            4.38   \n",
       "\n",
       "                                                category  \\\n",
       "19449  ['Movies & TV', 'Studio Specials', 'Warner Hom...   \n",
       "20855  ['Movies & TV', 'Genre for Featured Categories...   \n",
       "34954            ['Movies & TV', 'Boxed Sets', 'Comedy']   \n",
       "60138  ['Movies & TV', 'Studio Specials', 'MGM Home E...   \n",
       "85188  ['Movies & TV', 'Studio Specials', '20th Centu...   \n",
       "\n",
       "                                             description   price  \\\n",
       "19449  ['Based on the true story of new jersey high s...  $15.00   \n",
       "20855                                                NaN  $22.31   \n",
       "34954  ['Experience the future all over again with th...  $22.51   \n",
       "60138  [\"From the director of Driving Miss Daisy come...  $16.67   \n",
       "85188  ['As vast and hilarious as the universe itself...  $68.45   \n",
       "\n",
       "                                                   links  \n",
       "19449  https://www.amazon.com/product-reviews/6305133...  \n",
       "20855  https://www.amazon.com/product-reviews/B000057...  \n",
       "34954  https://www.amazon.com/product-reviews/B011Q0F...  \n",
       "60138  https://www.amazon.com/product-reviews/B00008D...  \n",
       "85188  https://www.amazon.com/product-reviews/B00F77M...  "
      ]
     },
     "execution_count": 11,
     "metadata": {},
     "output_type": "execute_result"
    }
   ],
   "source": [
    "rec"
   ]
  }
 ],
 "metadata": {
  "kernelspec": {
   "display_name": "Python [conda env:learn-env] *",
   "language": "python",
   "name": "conda-env-learn-env-py"
  },
  "language_info": {
   "codemirror_mode": {
    "name": "ipython",
    "version": 3
   },
   "file_extension": ".py",
   "mimetype": "text/x-python",
   "name": "python",
   "nbconvert_exporter": "python",
   "pygments_lexer": "ipython3",
   "version": "3.6.9"
  }
 },
 "nbformat": 4,
 "nbformat_minor": 4
}
