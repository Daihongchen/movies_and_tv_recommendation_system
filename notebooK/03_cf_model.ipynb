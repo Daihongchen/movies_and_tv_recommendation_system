{
 "cells": [
  {
   "cell_type": "code",
   "execution_count": 1,
   "metadata": {},
   "outputs": [
    {
     "name": "stderr",
     "output_type": "stream",
     "text": [
      "/Users/daihongchen/opt/anaconda3/envs/flask-env/lib/python3.7/site-packages/tensorflow/python/framework/dtypes.py:516: FutureWarning: Passing (type, 1) or '1type' as a synonym of type is deprecated; in a future version of numpy, it will be understood as (type, (1,)) / '(1,)type'.\n",
      "  _np_qint8 = np.dtype([(\"qint8\", np.int8, 1)])\n",
      "/Users/daihongchen/opt/anaconda3/envs/flask-env/lib/python3.7/site-packages/tensorflow/python/framework/dtypes.py:517: FutureWarning: Passing (type, 1) or '1type' as a synonym of type is deprecated; in a future version of numpy, it will be understood as (type, (1,)) / '(1,)type'.\n",
      "  _np_quint8 = np.dtype([(\"quint8\", np.uint8, 1)])\n",
      "/Users/daihongchen/opt/anaconda3/envs/flask-env/lib/python3.7/site-packages/tensorflow/python/framework/dtypes.py:518: FutureWarning: Passing (type, 1) or '1type' as a synonym of type is deprecated; in a future version of numpy, it will be understood as (type, (1,)) / '(1,)type'.\n",
      "  _np_qint16 = np.dtype([(\"qint16\", np.int16, 1)])\n",
      "/Users/daihongchen/opt/anaconda3/envs/flask-env/lib/python3.7/site-packages/tensorflow/python/framework/dtypes.py:519: FutureWarning: Passing (type, 1) or '1type' as a synonym of type is deprecated; in a future version of numpy, it will be understood as (type, (1,)) / '(1,)type'.\n",
      "  _np_quint16 = np.dtype([(\"quint16\", np.uint16, 1)])\n",
      "/Users/daihongchen/opt/anaconda3/envs/flask-env/lib/python3.7/site-packages/tensorflow/python/framework/dtypes.py:520: FutureWarning: Passing (type, 1) or '1type' as a synonym of type is deprecated; in a future version of numpy, it will be understood as (type, (1,)) / '(1,)type'.\n",
      "  _np_qint32 = np.dtype([(\"qint32\", np.int32, 1)])\n",
      "/Users/daihongchen/opt/anaconda3/envs/flask-env/lib/python3.7/site-packages/tensorflow/python/framework/dtypes.py:525: FutureWarning: Passing (type, 1) or '1type' as a synonym of type is deprecated; in a future version of numpy, it will be understood as (type, (1,)) / '(1,)type'.\n",
      "  np_resource = np.dtype([(\"resource\", np.ubyte, 1)])\n",
      "/Users/daihongchen/opt/anaconda3/envs/flask-env/lib/python3.7/site-packages/tensorboard/compat/tensorflow_stub/dtypes.py:541: FutureWarning: Passing (type, 1) or '1type' as a synonym of type is deprecated; in a future version of numpy, it will be understood as (type, (1,)) / '(1,)type'.\n",
      "  _np_qint8 = np.dtype([(\"qint8\", np.int8, 1)])\n",
      "/Users/daihongchen/opt/anaconda3/envs/flask-env/lib/python3.7/site-packages/tensorboard/compat/tensorflow_stub/dtypes.py:542: FutureWarning: Passing (type, 1) or '1type' as a synonym of type is deprecated; in a future version of numpy, it will be understood as (type, (1,)) / '(1,)type'.\n",
      "  _np_quint8 = np.dtype([(\"quint8\", np.uint8, 1)])\n",
      "/Users/daihongchen/opt/anaconda3/envs/flask-env/lib/python3.7/site-packages/tensorboard/compat/tensorflow_stub/dtypes.py:543: FutureWarning: Passing (type, 1) or '1type' as a synonym of type is deprecated; in a future version of numpy, it will be understood as (type, (1,)) / '(1,)type'.\n",
      "  _np_qint16 = np.dtype([(\"qint16\", np.int16, 1)])\n",
      "/Users/daihongchen/opt/anaconda3/envs/flask-env/lib/python3.7/site-packages/tensorboard/compat/tensorflow_stub/dtypes.py:544: FutureWarning: Passing (type, 1) or '1type' as a synonym of type is deprecated; in a future version of numpy, it will be understood as (type, (1,)) / '(1,)type'.\n",
      "  _np_quint16 = np.dtype([(\"quint16\", np.uint16, 1)])\n",
      "/Users/daihongchen/opt/anaconda3/envs/flask-env/lib/python3.7/site-packages/tensorboard/compat/tensorflow_stub/dtypes.py:545: FutureWarning: Passing (type, 1) or '1type' as a synonym of type is deprecated; in a future version of numpy, it will be understood as (type, (1,)) / '(1,)type'.\n",
      "  _np_qint32 = np.dtype([(\"qint32\", np.int32, 1)])\n",
      "/Users/daihongchen/opt/anaconda3/envs/flask-env/lib/python3.7/site-packages/tensorboard/compat/tensorflow_stub/dtypes.py:550: FutureWarning: Passing (type, 1) or '1type' as a synonym of type is deprecated; in a future version of numpy, it will be understood as (type, (1,)) / '(1,)type'.\n",
      "  np_resource = np.dtype([(\"resource\", np.ubyte, 1)])\n"
     ]
    }
   ],
   "source": [
    "import pandas as pd\n",
    "import numpy as np\n",
    "import matplotlib.pyplot as plt\n",
    "import matplotlib.image as mpimg\n",
    "import pickle\n",
    "import os\n",
    "import sys\n",
    "module_path = os.path.abspath(os.path.join(os.pardir))\n",
    "if module_path not in sys.path:\n",
    "    sys.path.append(module_path)\n",
    "\n",
    "import tensorflow as tf\n",
    "from tensorflow import keras\n",
    "# from tensorflow.keras.layers import Conv2D, MaxPooling2D,  Dropout, Dense, Activation, BatchNormalization, Flatten\n",
    "from tensorflow.keras.models import Sequential\n",
    "from tensorflow.keras.callbacks import EarlyStopping\n",
    "# from tensorflow.keras.applications import vgg16, inception_v3, resnet50, mobilenet\n",
    "from tensorflow.keras.models import load_model\n",
    "from sklearn.metrics import confusion_matrix\n",
    "import itertools"
   ]
  },
  {
   "cell_type": "code",
   "execution_count": 2,
   "metadata": {},
   "outputs": [],
   "source": [
    "# import data\n",
    "data_file = '../data/2018_movie_links.csv'"
   ]
  },
  {
   "cell_type": "code",
   "execution_count": 3,
   "metadata": {},
   "outputs": [
    {
     "data": {
      "text/plain": [
       "'1.14.0'"
      ]
     },
     "execution_count": 3,
     "metadata": {},
     "output_type": "execute_result"
    }
   ],
   "source": [
    "tf.__version__"
   ]
  },
  {
   "cell_type": "code",
   "execution_count": 4,
   "metadata": {},
   "outputs": [],
   "source": [
    "data_2018 = pd.read_csv(data_file)"
   ]
  },
  {
   "cell_type": "code",
   "execution_count": 5,
   "metadata": {},
   "outputs": [],
   "source": [
    "data_2018 = data_2018.drop(['Unnamed: 0', 'verified', 'rank', 'also_buy', 'also_view', 'details'], axis=1)"
   ]
  },
  {
   "cell_type": "code",
   "execution_count": 6,
   "metadata": {},
   "outputs": [
    {
     "data": {
      "text/plain": [
       "(209060, 17)"
      ]
     },
     "execution_count": 6,
     "metadata": {},
     "output_type": "execute_result"
    }
   ],
   "source": [
    "data_2018.shape"
   ]
  },
  {
   "cell_type": "code",
   "execution_count": 7,
   "metadata": {},
   "outputs": [],
   "source": [
    "data_2018 = data_2018.rename(columns={'overall':'rating', 'asin':'movieID'})"
   ]
  },
  {
   "cell_type": "code",
   "execution_count": 8,
   "metadata": {},
   "outputs": [],
   "source": [
    "reviewer_count = data_2018.groupby('reviewerID')['rating'].count()\n",
    "product_count = data_2018.groupby('movieID')['rating'].count()\n",
    "average_rating = data_2018.groupby('movieID')['rating'].mean()"
   ]
  },
  {
   "cell_type": "code",
   "execution_count": 9,
   "metadata": {},
   "outputs": [],
   "source": [
    "# remove reviewers that has only one review.\n",
    "data_2018_1 = data_2018.merge(reviewer_count, on='reviewerID')"
   ]
  },
  {
   "cell_type": "code",
   "execution_count": 10,
   "metadata": {},
   "outputs": [],
   "source": [
    "data_2018_1 = data_2018_1.rename(columns={'rating_y':'reviewer_count', 'rating_x':'rating'})"
   ]
  },
  {
   "cell_type": "code",
   "execution_count": 11,
   "metadata": {},
   "outputs": [],
   "source": [
    "data_2018_1 = data_2018_1.merge(product_count, on='movieID')"
   ]
  },
  {
   "cell_type": "code",
   "execution_count": 12,
   "metadata": {},
   "outputs": [],
   "source": [
    "data_2018_1 = data_2018_1.rename(columns={'rating_y':'movie_count', 'rating_x':'rating'})"
   ]
  },
  {
   "cell_type": "code",
   "execution_count": 13,
   "metadata": {},
   "outputs": [],
   "source": [
    "data_2018_1 = data_2018_1.merge(average_rating, on='movieID')"
   ]
  },
  {
   "cell_type": "code",
   "execution_count": 14,
   "metadata": {},
   "outputs": [],
   "source": [
    "data_2018_1 = data_2018_1.rename(columns={'rating_y':'average_rating', 'rating_x':'rating'})"
   ]
  },
  {
   "cell_type": "code",
   "execution_count": 15,
   "metadata": {},
   "outputs": [
    {
     "data": {
      "text/plain": [
       "(209060, 20)"
      ]
     },
     "execution_count": 15,
     "metadata": {},
     "output_type": "execute_result"
    }
   ],
   "source": [
    "data_2018_1.shape"
   ]
  },
  {
   "cell_type": "code",
   "execution_count": 16,
   "metadata": {},
   "outputs": [],
   "source": [
    "# data_2018_1.to_csv('data_2018_clean.csv')"
   ]
  },
  {
   "cell_type": "code",
   "execution_count": 17,
   "metadata": {},
   "outputs": [],
   "source": [
    "data_2018_1 = data_2018_1[data_2018_1['reviewer_count']>1]\n",
    "data_2018_1 = data_2018_1[data_2018_1['movie_count']>1]"
   ]
  },
  {
   "cell_type": "code",
   "execution_count": 18,
   "metadata": {},
   "outputs": [],
   "source": [
    "# data_2018_1.to_csv('data_2018_final.csv')"
   ]
  },
  {
   "cell_type": "code",
   "execution_count": 19,
   "metadata": {},
   "outputs": [
    {
     "data": {
      "text/html": [
       "<div>\n",
       "<style scoped>\n",
       "    .dataframe tbody tr th:only-of-type {\n",
       "        vertical-align: middle;\n",
       "    }\n",
       "\n",
       "    .dataframe tbody tr th {\n",
       "        vertical-align: top;\n",
       "    }\n",
       "\n",
       "    .dataframe thead th {\n",
       "        text-align: right;\n",
       "    }\n",
       "</style>\n",
       "<table border=\"1\" class=\"dataframe\">\n",
       "  <thead>\n",
       "    <tr style=\"text-align: right;\">\n",
       "      <th></th>\n",
       "      <th>rating</th>\n",
       "      <th>reviewTime</th>\n",
       "      <th>reviewerID</th>\n",
       "      <th>movieID</th>\n",
       "      <th>style</th>\n",
       "      <th>reviewerName</th>\n",
       "      <th>reviewText</th>\n",
       "      <th>summary</th>\n",
       "      <th>unixReviewTime</th>\n",
       "      <th>vote</th>\n",
       "      <th>category</th>\n",
       "      <th>title</th>\n",
       "      <th>main_cat</th>\n",
       "      <th>description</th>\n",
       "      <th>brand</th>\n",
       "      <th>price</th>\n",
       "      <th>links</th>\n",
       "      <th>reviewer_count</th>\n",
       "      <th>movie_count</th>\n",
       "      <th>average_rating</th>\n",
       "    </tr>\n",
       "  </thead>\n",
       "  <tbody>\n",
       "    <tr>\n",
       "      <td>0</td>\n",
       "      <td>5.0</td>\n",
       "      <td>04 8, 2018</td>\n",
       "      <td>A1CW3NLH9MBQRY</td>\n",
       "      <td>6303022901</td>\n",
       "      <td>{'Format:': ' DVD'}</td>\n",
       "      <td>Sally Nunez</td>\n",
       "      <td>I really enjoyed this movie. Brings tears to m...</td>\n",
       "      <td>Five Stars</td>\n",
       "      <td>1523145600</td>\n",
       "      <td>NaN</td>\n",
       "      <td>['Movies &amp; TV', 'Genre for Featured Categories...</td>\n",
       "      <td>The Joy Luck Club VHS</td>\n",
       "      <td>Movies &amp; TV</td>\n",
       "      <td>['Produced by Academy Award(R)-winning filmmak...</td>\n",
       "      <td>Tamlyn Tomita</td>\n",
       "      <td>$3.28</td>\n",
       "      <td>https://www.amazon.com/product-reviews/6303022...</td>\n",
       "      <td>3</td>\n",
       "      <td>21</td>\n",
       "      <td>4.857143</td>\n",
       "    </tr>\n",
       "    <tr>\n",
       "      <td>1</td>\n",
       "      <td>5.0</td>\n",
       "      <td>04 2, 2018</td>\n",
       "      <td>A1WK0IRZ08NX9X</td>\n",
       "      <td>6303022901</td>\n",
       "      <td>{'Format:': ' DVD'}</td>\n",
       "      <td>Ammie28</td>\n",
       "      <td>If you have never seen this movie, you may jus...</td>\n",
       "      <td>Heart Touching...</td>\n",
       "      <td>1522627200</td>\n",
       "      <td>NaN</td>\n",
       "      <td>['Movies &amp; TV', 'Genre for Featured Categories...</td>\n",
       "      <td>The Joy Luck Club VHS</td>\n",
       "      <td>Movies &amp; TV</td>\n",
       "      <td>['Produced by Academy Award(R)-winning filmmak...</td>\n",
       "      <td>Tamlyn Tomita</td>\n",
       "      <td>$3.28</td>\n",
       "      <td>https://www.amazon.com/product-reviews/6303022...</td>\n",
       "      <td>4</td>\n",
       "      <td>21</td>\n",
       "      <td>4.857143</td>\n",
       "    </tr>\n",
       "    <tr>\n",
       "      <td>2</td>\n",
       "      <td>5.0</td>\n",
       "      <td>03 30, 2018</td>\n",
       "      <td>A2HGXJQCQTXE4E</td>\n",
       "      <td>6303022901</td>\n",
       "      <td>{'Format:': ' Blu-ray'}</td>\n",
       "      <td>Pa nhia lee</td>\n",
       "      <td>awesome all time fave movie.</td>\n",
       "      <td>Five Stars</td>\n",
       "      <td>1522368000</td>\n",
       "      <td>NaN</td>\n",
       "      <td>['Movies &amp; TV', 'Genre for Featured Categories...</td>\n",
       "      <td>The Joy Luck Club VHS</td>\n",
       "      <td>Movies &amp; TV</td>\n",
       "      <td>['Produced by Academy Award(R)-winning filmmak...</td>\n",
       "      <td>Tamlyn Tomita</td>\n",
       "      <td>$3.28</td>\n",
       "      <td>https://www.amazon.com/product-reviews/6303022...</td>\n",
       "      <td>4</td>\n",
       "      <td>21</td>\n",
       "      <td>4.857143</td>\n",
       "    </tr>\n",
       "    <tr>\n",
       "      <td>3</td>\n",
       "      <td>5.0</td>\n",
       "      <td>03 30, 2018</td>\n",
       "      <td>A14ASTA78EK120</td>\n",
       "      <td>6303022901</td>\n",
       "      <td>{'Format:': ' DVD'}</td>\n",
       "      <td>lalush</td>\n",
       "      <td>The greatest movie ever!!!!!</td>\n",
       "      <td>Five Stars</td>\n",
       "      <td>1522368000</td>\n",
       "      <td>NaN</td>\n",
       "      <td>['Movies &amp; TV', 'Genre for Featured Categories...</td>\n",
       "      <td>The Joy Luck Club VHS</td>\n",
       "      <td>Movies &amp; TV</td>\n",
       "      <td>['Produced by Academy Award(R)-winning filmmak...</td>\n",
       "      <td>Tamlyn Tomita</td>\n",
       "      <td>$3.28</td>\n",
       "      <td>https://www.amazon.com/product-reviews/6303022...</td>\n",
       "      <td>3</td>\n",
       "      <td>21</td>\n",
       "      <td>4.857143</td>\n",
       "    </tr>\n",
       "    <tr>\n",
       "      <td>4</td>\n",
       "      <td>5.0</td>\n",
       "      <td>03 29, 2018</td>\n",
       "      <td>A2EGT1RXKVOXTJ</td>\n",
       "      <td>6303022901</td>\n",
       "      <td>{'Format:': ' Amazon Video'}</td>\n",
       "      <td>Karin</td>\n",
       "      <td>Love this movie</td>\n",
       "      <td>Five Stars</td>\n",
       "      <td>1522281600</td>\n",
       "      <td>NaN</td>\n",
       "      <td>['Movies &amp; TV', 'Genre for Featured Categories...</td>\n",
       "      <td>The Joy Luck Club VHS</td>\n",
       "      <td>Movies &amp; TV</td>\n",
       "      <td>['Produced by Academy Award(R)-winning filmmak...</td>\n",
       "      <td>Tamlyn Tomita</td>\n",
       "      <td>$3.28</td>\n",
       "      <td>https://www.amazon.com/product-reviews/6303022...</td>\n",
       "      <td>3</td>\n",
       "      <td>21</td>\n",
       "      <td>4.857143</td>\n",
       "    </tr>\n",
       "  </tbody>\n",
       "</table>\n",
       "</div>"
      ],
      "text/plain": [
       "   rating   reviewTime      reviewerID     movieID  \\\n",
       "0     5.0   04 8, 2018  A1CW3NLH9MBQRY  6303022901   \n",
       "1     5.0   04 2, 2018  A1WK0IRZ08NX9X  6303022901   \n",
       "2     5.0  03 30, 2018  A2HGXJQCQTXE4E  6303022901   \n",
       "3     5.0  03 30, 2018  A14ASTA78EK120  6303022901   \n",
       "4     5.0  03 29, 2018  A2EGT1RXKVOXTJ  6303022901   \n",
       "\n",
       "                          style reviewerName  \\\n",
       "0           {'Format:': ' DVD'}  Sally Nunez   \n",
       "1           {'Format:': ' DVD'}      Ammie28   \n",
       "2       {'Format:': ' Blu-ray'}  Pa nhia lee   \n",
       "3           {'Format:': ' DVD'}       lalush   \n",
       "4  {'Format:': ' Amazon Video'}       Karin    \n",
       "\n",
       "                                          reviewText            summary  \\\n",
       "0  I really enjoyed this movie. Brings tears to m...         Five Stars   \n",
       "1  If you have never seen this movie, you may jus...  Heart Touching...   \n",
       "2                       awesome all time fave movie.         Five Stars   \n",
       "3                       The greatest movie ever!!!!!         Five Stars   \n",
       "4                                    Love this movie         Five Stars   \n",
       "\n",
       "   unixReviewTime  vote                                           category  \\\n",
       "0      1523145600   NaN  ['Movies & TV', 'Genre for Featured Categories...   \n",
       "1      1522627200   NaN  ['Movies & TV', 'Genre for Featured Categories...   \n",
       "2      1522368000   NaN  ['Movies & TV', 'Genre for Featured Categories...   \n",
       "3      1522368000   NaN  ['Movies & TV', 'Genre for Featured Categories...   \n",
       "4      1522281600   NaN  ['Movies & TV', 'Genre for Featured Categories...   \n",
       "\n",
       "                   title     main_cat  \\\n",
       "0  The Joy Luck Club VHS  Movies & TV   \n",
       "1  The Joy Luck Club VHS  Movies & TV   \n",
       "2  The Joy Luck Club VHS  Movies & TV   \n",
       "3  The Joy Luck Club VHS  Movies & TV   \n",
       "4  The Joy Luck Club VHS  Movies & TV   \n",
       "\n",
       "                                         description          brand  price  \\\n",
       "0  ['Produced by Academy Award(R)-winning filmmak...  Tamlyn Tomita  $3.28   \n",
       "1  ['Produced by Academy Award(R)-winning filmmak...  Tamlyn Tomita  $3.28   \n",
       "2  ['Produced by Academy Award(R)-winning filmmak...  Tamlyn Tomita  $3.28   \n",
       "3  ['Produced by Academy Award(R)-winning filmmak...  Tamlyn Tomita  $3.28   \n",
       "4  ['Produced by Academy Award(R)-winning filmmak...  Tamlyn Tomita  $3.28   \n",
       "\n",
       "                                               links  reviewer_count  \\\n",
       "0  https://www.amazon.com/product-reviews/6303022...               3   \n",
       "1  https://www.amazon.com/product-reviews/6303022...               4   \n",
       "2  https://www.amazon.com/product-reviews/6303022...               4   \n",
       "3  https://www.amazon.com/product-reviews/6303022...               3   \n",
       "4  https://www.amazon.com/product-reviews/6303022...               3   \n",
       "\n",
       "   movie_count  average_rating  \n",
       "0           21        4.857143  \n",
       "1           21        4.857143  \n",
       "2           21        4.857143  \n",
       "3           21        4.857143  \n",
       "4           21        4.857143  "
      ]
     },
     "execution_count": 19,
     "metadata": {},
     "output_type": "execute_result"
    }
   ],
   "source": [
    "data_2018_1.head()"
   ]
  },
  {
   "cell_type": "markdown",
   "metadata": {},
   "source": [
    "## encode reviewerID and movieID to index"
   ]
  },
  {
   "cell_type": "code",
   "execution_count": 20,
   "metadata": {},
   "outputs": [
    {
     "name": "stdout",
     "output_type": "stream",
     "text": [
      "35992 20298\n"
     ]
    }
   ],
   "source": [
    "from sklearn.preprocessing import LabelEncoder\n",
    "reviewer_enc = LabelEncoder()\n",
    "data_2018_1['reviewer'] = reviewer_enc.fit_transform(data_2018_1['reviewerID'].astype(str).values)\n",
    "n_reviewers = data_2018_1['reviewer'].nunique()\n",
    "movie_enc = LabelEncoder()\n",
    "data_2018_1['movie'] = movie_enc.fit_transform(data_2018_1['movieID'].astype(str).values)\n",
    "n_movies = data_2018_1['movie'].nunique()\n",
    "data_2018_1['rating'] = data_2018_1['rating'].values.astype(np.float32)\n",
    "min_rating = min(data_2018_1['rating'])\n",
    "max_rating = max(data_2018_1['rating'])\n",
    "print(n_reviewers, n_movies)"
   ]
  },
  {
   "cell_type": "code",
   "execution_count": 21,
   "metadata": {},
   "outputs": [
    {
     "data": {
      "text/plain": [
       "((116700, 2), (116700,))"
      ]
     },
     "execution_count": 21,
     "metadata": {},
     "output_type": "execute_result"
    }
   ],
   "source": [
    "X = data_2018_1[['reviewer','movie']].values\n",
    "y = data_2018_1['rating'].values\n",
    "X.shape, y.shape"
   ]
  },
  {
   "cell_type": "code",
   "execution_count": 22,
   "metadata": {},
   "outputs": [],
   "source": [
    "# data_2018_1.to_csv('data_2018_mr.csv')"
   ]
  },
  {
   "cell_type": "code",
   "execution_count": 23,
   "metadata": {},
   "outputs": [
    {
     "data": {
      "text/plain": [
       "((93360, 2), (23340, 2), (93360,), (23340,))"
      ]
     },
     "execution_count": 23,
     "metadata": {},
     "output_type": "execute_result"
    }
   ],
   "source": [
    "from sklearn.model_selection import train_test_split\n",
    "X_train, X_test, y_train, y_test = train_test_split(X, y, test_size = 0.2, random_state=42)\n",
    "\n",
    "X_train.shape, X_test.shape, y_train.shape, y_test.shape"
   ]
  },
  {
   "cell_type": "markdown",
   "metadata": {},
   "source": [
    "# Create the model"
   ]
  },
  {
   "cell_type": "code",
   "execution_count": 24,
   "metadata": {},
   "outputs": [],
   "source": [
    "from tensorflow.keras.models import Model\n",
    "from tensorflow.keras.layers import Input, Reshape, Dot\n",
    "from tensorflow.keras.layers import Embedding\n",
    "from tensorflow.keras.optimizers import Adam\n",
    "from tensorflow.keras.regularizers import l2"
   ]
  },
  {
   "cell_type": "code",
   "execution_count": 25,
   "metadata": {},
   "outputs": [
    {
     "data": {
      "text/plain": [
       "[array([ 5018, 35266, 17517, ..., 30249, 13358, 17876]),\n",
       " array([ 4529, 19032,  2301, ..., 19037, 19796,  8285])]"
      ]
     },
     "execution_count": 25,
     "metadata": {},
     "output_type": "execute_result"
    }
   ],
   "source": [
    "n_factors = 50\n",
    "X_train_array = [X_train[:, 0], X_train[:, 1]]\n",
    "X_test_array = [X_test[:, 0], X_test[:, 1]]\n",
    "X_train_array"
   ]
  },
  {
   "cell_type": "code",
   "execution_count": 26,
   "metadata": {},
   "outputs": [],
   "source": [
    "def RecommenderV4(n_reviewers, n_movies, n_factors, loss, opt, metrics):\n",
    "    reviewer = Input(shape=(1,))\n",
    "    r = Embedding(n_reviewers, n_factors, embeddings_initializer='he_normal',\n",
    "                  embeddings_regularizer=l2(1e-6))(reviewer)\n",
    "    r = Reshape((n_factors,))(r)\n",
    "    \n",
    "    movie = Input(shape=(1,))\n",
    "    m = Embedding(n_movies, n_factors, embeddings_initializer='he_normal',\n",
    "                  embeddings_regularizer=l2(1e-6))(movie)\n",
    "    m = Reshape((n_factors,))(m)\n",
    "    \n",
    "    x = Dot(axes=1)([r, m])\n",
    "    model = Model(inputs=[reviewer, movie], outputs=x)\n",
    "    opt = Adam(lr=0.001)\n",
    "    model.compile(loss=loss, optimizer=opt, metrics=metrics)\n",
    "    return model"
   ]
  },
  {
   "cell_type": "code",
   "execution_count": 27,
   "metadata": {},
   "outputs": [],
   "source": [
    "loss='mean_squared_error'\n",
    "opt = Adam(lr=0.001)\n",
    "n_factors=50\n",
    "metrics=['mae']\n",
    "\n",
    "model1 = RecommenderV4(n_reviewers, n_movies,n_factors, loss, opt, metrics)\n",
    "# model1.summary()"
   ]
  },
  {
   "cell_type": "code",
   "execution_count": 41,
   "metadata": {},
   "outputs": [
    {
     "name": "stdout",
     "output_type": "stream",
     "text": [
      "Train on 93360 samples, validate on 23340 samples\n",
      "Epoch 1/5\n"
     ]
    },
    {
     "name": "stderr",
     "output_type": "stream",
     "text": [
      "/Users/daihongchen/opt/anaconda3/envs/learn-env/lib/python3.6/site-packages/tensorflow_core/python/framework/indexed_slices.py:433: UserWarning: Converting sparse IndexedSlices to a dense Tensor of unknown shape. This may consume a large amount of memory.\n",
      "  \"Converting sparse IndexedSlices to a dense Tensor of unknown shape. \"\n",
      "/Users/daihongchen/opt/anaconda3/envs/learn-env/lib/python3.6/site-packages/tensorflow_core/python/framework/indexed_slices.py:433: UserWarning: Converting sparse IndexedSlices to a dense Tensor of unknown shape. This may consume a large amount of memory.\n",
      "  \"Converting sparse IndexedSlices to a dense Tensor of unknown shape. \"\n"
     ]
    },
    {
     "name": "stdout",
     "output_type": "stream",
     "text": [
      "93360/93360 [==============================] - 33s 352us/sample - loss: 20.7207 - mae: 4.4142 - val_loss: 20.4751 - val_mae: 4.3900\n",
      "Epoch 2/5\n",
      "93360/93360 [==============================] - 30s 321us/sample - loss: 18.4844 - mae: 4.1246 - val_loss: 18.3583 - val_mae: 4.0967\n",
      "Epoch 3/5\n",
      "93360/93360 [==============================] - 31s 329us/sample - loss: 13.9285 - mae: 3.4322 - val_loss: 16.0430 - val_mae: 3.7132\n",
      "Epoch 4/5\n",
      "93360/93360 [==============================] - 31s 327us/sample - loss: 9.6365 - mae: 2.6739 - val_loss: 14.3062 - val_mae: 3.3736\n",
      "Epoch 5/5\n",
      "93360/93360 [==============================] - 30s 325us/sample - loss: 6.3658 - mae: 2.0250 - val_loss: 13.1600 - val_mae: 3.1193\n"
     ]
    }
   ],
   "source": [
    "## base model\n",
    "history1 = model1.fit(x=X_train_array, \n",
    "                     y=y_train, \n",
    "                     batch_size=64, \n",
    "                     epochs=5,\n",
    "                     verbose=1,\n",
    "                     validation_data=(X_test_array, y_test))"
   ]
  },
  {
   "cell_type": "code",
   "execution_count": 42,
   "metadata": {},
   "outputs": [],
   "source": [
    "model1.save('base_model.h5')"
   ]
  },
  {
   "cell_type": "code",
   "execution_count": 46,
   "metadata": {},
   "outputs": [
    {
     "ename": "TypeError",
     "evalue": "can't pickle _thread.RLock objects",
     "output_type": "error",
     "traceback": [
      "\u001b[0;31m---------------------------------------------------------------------------\u001b[0m",
      "\u001b[0;31mTypeError\u001b[0m                                 Traceback (most recent call last)",
      "\u001b[0;32m<ipython-input-46-88d14b248dac>\u001b[0m in \u001b[0;36m<module>\u001b[0;34m\u001b[0m\n\u001b[1;32m      1\u001b[0m \u001b[0;32mwith\u001b[0m \u001b[0mopen\u001b[0m\u001b[0;34m(\u001b[0m\u001b[0;34m'base_model.pkl'\u001b[0m\u001b[0;34m,\u001b[0m \u001b[0;34m'wb'\u001b[0m\u001b[0;34m)\u001b[0m \u001b[0;32mas\u001b[0m \u001b[0mf\u001b[0m\u001b[0;34m:\u001b[0m\u001b[0;34m\u001b[0m\u001b[0;34m\u001b[0m\u001b[0m\n\u001b[0;32m----> 2\u001b[0;31m     \u001b[0mpkl\u001b[0m\u001b[0;34m.\u001b[0m\u001b[0mdump\u001b[0m\u001b[0;34m(\u001b[0m\u001b[0mmodel1\u001b[0m\u001b[0;34m,\u001b[0m \u001b[0mf\u001b[0m\u001b[0;34m)\u001b[0m\u001b[0;34m\u001b[0m\u001b[0;34m\u001b[0m\u001b[0m\n\u001b[0m",
      "\u001b[0;31mTypeError\u001b[0m: can't pickle _thread.RLock objects"
     ]
    }
   ],
   "source": [
    "with open('base_model.pkl', 'wb') as f:\n",
    "    pkl.dump(model1, f)"
   ]
  },
  {
   "cell_type": "code",
   "execution_count": 47,
   "metadata": {},
   "outputs": [
    {
     "name": "stdout",
     "output_type": "stream",
     "text": [
      "Train on 93360 samples, validate on 23340 samples\n",
      "93360/93360 [==============================] - 31s 329us/sample - loss: 4.0547 - mae: 1.5011 - val_loss: 12.4273 - val_mae: 2.9377\n"
     ]
    },
    {
     "data": {
      "text/plain": [
       "<tensorflow.python.keras.callbacks.History at 0x14fcf39b0>"
      ]
     },
     "execution_count": 47,
     "metadata": {},
     "output_type": "execute_result"
    }
   ],
   "source": [
    "model1.fit(x=X_train_array, \n",
    "                     y=y_train, \n",
    "                     batch_size=64, \n",
    "                     epochs=1,\n",
    "                     verbose=1,\n",
    "                     validation_data=(X_test_array, y_test))"
   ]
  },
  {
   "cell_type": "code",
   "execution_count": 48,
   "metadata": {},
   "outputs": [
    {
     "ename": "TypeError",
     "evalue": "can't pickle _thread.RLock objects",
     "output_type": "error",
     "traceback": [
      "\u001b[0;31m---------------------------------------------------------------------------\u001b[0m",
      "\u001b[0;31mTypeError\u001b[0m                                 Traceback (most recent call last)",
      "\u001b[0;32m<ipython-input-48-88d14b248dac>\u001b[0m in \u001b[0;36m<module>\u001b[0;34m\u001b[0m\n\u001b[1;32m      1\u001b[0m \u001b[0;32mwith\u001b[0m \u001b[0mopen\u001b[0m\u001b[0;34m(\u001b[0m\u001b[0;34m'base_model.pkl'\u001b[0m\u001b[0;34m,\u001b[0m \u001b[0;34m'wb'\u001b[0m\u001b[0;34m)\u001b[0m \u001b[0;32mas\u001b[0m \u001b[0mf\u001b[0m\u001b[0;34m:\u001b[0m\u001b[0;34m\u001b[0m\u001b[0;34m\u001b[0m\u001b[0m\n\u001b[0;32m----> 2\u001b[0;31m     \u001b[0mpkl\u001b[0m\u001b[0;34m.\u001b[0m\u001b[0mdump\u001b[0m\u001b[0;34m(\u001b[0m\u001b[0mmodel1\u001b[0m\u001b[0;34m,\u001b[0m \u001b[0mf\u001b[0m\u001b[0;34m)\u001b[0m\u001b[0;34m\u001b[0m\u001b[0;34m\u001b[0m\u001b[0m\n\u001b[0m",
      "\u001b[0;31mTypeError\u001b[0m: can't pickle _thread.RLock objects"
     ]
    }
   ],
   "source": [
    "with open('base_model.pkl', 'wb') as f:\n",
    "    pkl.dump(model1, f)"
   ]
  },
  {
   "cell_type": "code",
   "execution_count": 568,
   "metadata": {},
   "outputs": [
    {
     "data": {
      "image/png": "[encoded data removed]",
      "text/plain": [
       "<Figure size 720x360 with 1 Axes>"
      ]
     },
     "metadata": {
      "needs_background": "light"
     },
     "output_type": "display_data"
    }
   ],
   "source": [
    "from pylab import rcParams\n",
    "rcParams['figure.figsize'] = 10, 5\n",
    "import matplotlib.pyplot as plt\n",
    "plt.plot(history1.history['loss'] , 'g')\n",
    "plt.plot(history1.history['val_loss'] , 'b')\n",
    "plt.title('model loss')\n",
    "plt.ylabel('loss')\n",
    "plt.xlabel('epoch')\n",
    "plt.legend(['train', 'test'], loc='upper left')\n",
    "plt.grid(True)\n",
    "plt.show()"
   ]
  },
  {
   "cell_type": "code",
   "execution_count": 28,
   "metadata": {},
   "outputs": [],
   "source": [
    "from tensorflow.keras.layers import Add, Activation, Lambda\n",
    "class EmbeddingLayer:\n",
    "    def __init__(self, n_items, n_factors):\n",
    "        self.n_items = n_items\n",
    "        self.n_factors = n_factors\n",
    "    \n",
    "    def __call__(self, x):\n",
    "        x = Embedding(self.n_items, self.n_factors, embeddings_initializer='he_normal',\n",
    "                      embeddings_regularizer=l2(1e-6))(x)\n",
    "        x = Reshape((self.n_factors,))(x)\n",
    "        return x\n",
    "def RecommenderV5(n_reviewers, n_movies, n_factors, min_rating, max_rating):\n",
    "    reviewer = Input(shape=(1,))\n",
    "    r = EmbeddingLayer(n_reviewers, n_factors)(reviewer)\n",
    "    rb = EmbeddingLayer(n_reviewers, 1)(reviewer)\n",
    "    \n",
    "    movie = Input(shape=(1,))\n",
    "    m = EmbeddingLayer(n_movies, n_factors)(movie)\n",
    "    mb = EmbeddingLayer(n_movies, 1)(movie)\n",
    "    x = Dot(axes=1)([r, m])\n",
    "    x = Add()([x, rb, mb])\n",
    "    x = Activation('sigmoid')(x)\n",
    "    x = Lambda(lambda x: x * (max_rating - min_rating) + min_rating)(x)\n",
    "    model = Model(inputs=[reviewer, movie], outputs=x)\n",
    "    opt = Adam(lr=0.001)\n",
    "    model.compile(loss='mean_squared_error', optimizer=opt, metrics=['mae'])\n",
    "    return model"
   ]
  },
  {
   "cell_type": "code",
   "execution_count": 31,
   "metadata": {},
   "outputs": [],
   "source": [
    "model = RecommenderV5(n_reviewers, n_movies, n_factors, min_rating, max_rating)\n",
    "# model.summary()"
   ]
  },
  {
   "cell_type": "code",
   "execution_count": 409,
   "metadata": {},
   "outputs": [
    {
     "name": "stdout",
     "output_type": "stream",
     "text": [
      "Train on 93360 samples, validate on 23340 samples\n",
      "Epoch 1/15\n"
     ]
    },
    {
     "name": "stderr",
     "output_type": "stream",
     "text": [
      "/Users/daihongchen/opt/anaconda3/envs/learn-env/lib/python3.6/site-packages/tensorflow_core/python/framework/indexed_slices.py:433: UserWarning: Converting sparse IndexedSlices to a dense Tensor of unknown shape. This may consume a large amount of memory.\n",
      "  \"Converting sparse IndexedSlices to a dense Tensor of unknown shape. \"\n",
      "/Users/daihongchen/opt/anaconda3/envs/learn-env/lib/python3.6/site-packages/tensorflow_core/python/framework/indexed_slices.py:433: UserWarning: Converting sparse IndexedSlices to a dense Tensor of unknown shape. This may consume a large amount of memory.\n",
      "  \"Converting sparse IndexedSlices to a dense Tensor of unknown shape. \"\n"
     ]
    },
    {
     "name": "stdout",
     "output_type": "stream",
     "text": [
      "93360/93360 [==============================] - 28s 298us/sample - loss: 3.0162 - mae: 1.6457 - val_loss: 2.7017 - val_mae: 1.5508\n",
      "Epoch 2/15\n",
      "93360/93360 [==============================] - 26s 280us/sample - loss: 2.1164 - mae: 1.3358 - val_loss: 2.0679 - val_mae: 1.3085\n",
      "Epoch 3/15\n",
      "93360/93360 [==============================] - 27s 286us/sample - loss: 1.2256 - mae: 0.9434 - val_loss: 1.7026 - val_mae: 1.1303\n",
      "Epoch 4/15\n",
      "93360/93360 [==============================] - 28s 301us/sample - loss: 0.6859 - mae: 0.6465 - val_loss: 1.5222 - val_mae: 1.0206\n",
      "Epoch 5/15\n",
      "93360/93360 [==============================] - 28s 300us/sample - loss: 0.4047 - mae: 0.4497 - val_loss: 1.4296 - val_mae: 0.9517\n",
      "Epoch 6/15\n",
      "93360/93360 [==============================] - 28s 303us/sample - loss: 0.2708 - mae: 0.3268 - val_loss: 1.3785 - val_mae: 0.9073\n",
      "Epoch 7/15\n",
      "93360/93360 [==============================] - 28s 300us/sample - loss: 0.2102 - mae: 0.2543 - val_loss: 1.3427 - val_mae: 0.8764\n",
      "Epoch 8/15\n",
      "93360/93360 [==============================] - 28s 304us/sample - loss: 0.1834 - mae: 0.2142 - val_loss: 1.3094 - val_mae: 0.8523\n",
      "Epoch 9/15\n",
      "93360/93360 [==============================] - 27s 291us/sample - loss: 0.1716 - mae: 0.1952 - val_loss: 1.2771 - val_mae: 0.8337\n",
      "Epoch 10/15\n",
      "93360/93360 [==============================] - 25s 271us/sample - loss: 0.1655 - mae: 0.1869 - val_loss: 1.2403 - val_mae: 0.8166\n",
      "Epoch 11/15\n",
      "93360/93360 [==============================] - 25s 272us/sample - loss: 0.1613 - mae: 0.1835 - val_loss: 1.2060 - val_mae: 0.8019\n",
      "Epoch 12/15\n",
      "93360/93360 [==============================] - 28s 295us/sample - loss: 0.1575 - mae: 0.1810 - val_loss: 1.1732 - val_mae: 0.7879\n",
      "Epoch 13/15\n",
      "93360/93360 [==============================] - 29s 307us/sample - loss: 0.1543 - mae: 0.1796 - val_loss: 1.1438 - val_mae: 0.7758\n",
      "Epoch 14/15\n",
      "93360/93360 [==============================] - 27s 286us/sample - loss: 0.1515 - mae: 0.1784 - val_loss: 1.1165 - val_mae: 0.7634\n",
      "Epoch 15/15\n",
      "93360/93360 [==============================] - 28s 299us/sample - loss: 0.1487 - mae: 0.1771 - val_loss: 1.0918 - val_mae: 0.7524\n"
     ]
    }
   ],
   "source": [
    "history = model.fit(x=X_train_array, \n",
    "                    y=y_train, \n",
    "                    batch_size=64, \n",
    "                    epochs=15,\n",
    "                    verbose=1, \n",
    "                    validation_data=(X_test_array, y_test))"
   ]
  },
  {
   "cell_type": "markdown",
   "metadata": {},
   "source": [
    "# Add layers to model as deep learning"
   ]
  },
  {
   "cell_type": "code",
   "execution_count": 31,
   "metadata": {},
   "outputs": [],
   "source": [
    "from tensorflow.keras.layers import Concatenate, Dense, Dropout\n",
    "from tensorflow.keras.layers import Add, Activation, Lambda\n",
    "\n",
    "class EmbeddingLayer:\n",
    "    def __init__(self, n_items, n_factors):\n",
    "        self.n_items = n_items\n",
    "        self.n_factors = n_factors\n",
    "    \n",
    "    def __call__(self, x):\n",
    "        x = Embedding(self.n_items, self.n_factors, embeddings_initializer='he_normal',\n",
    "                      embeddings_regularizer=l2(1e-6))(x)\n",
    "        x = Reshape((self.n_factors,))(x)\n",
    "        return x\n",
    "\n",
    "def RecommenderNet(n_reviewers, n_movies, n_factors, min_rating, max_rating):\n",
    "    reviewer = Input(shape=(1,))\n",
    "    r = EmbeddingLayer(n_reviewers, n_factors)(reviewer)\n",
    "    \n",
    "    movie = Input(shape=(1,))\n",
    "    m = EmbeddingLayer(n_movies, n_factors)(movie)\n",
    "    \n",
    "    x = Concatenate()([r, m])\n",
    "    x = Dropout(0.05)(x)\n",
    "    \n",
    "    x = Dense(10, kernel_initializer='he_normal')(x)\n",
    "    x = Activation('relu')(x)\n",
    "    x = Dropout(0.5)(x)\n",
    "    \n",
    "    x = Dense(10, kernel_initializer='he_normal')(x)\n",
    "    x = Activation('relu')(x)\n",
    "    x = Dropout(0.5)(x)\n",
    "    \n",
    "    x = Dense(1, kernel_initializer='he_normal')(x)\n",
    "    x = Activation('sigmoid')(x)\n",
    "    x = Lambda(lambda x: x * (max_rating - min_rating) + min_rating)(x)\n",
    "    model = Model(inputs=[reviewer, movie], outputs=x)\n",
    "    opt = Adam(lr=0.001)\n",
    "    model.compile(loss='mean_squared_error', optimizer=opt, metrics=['mae'])\n",
    "    return model"
   ]
  },
  {
   "cell_type": "code",
   "execution_count": 32,
   "metadata": {},
   "outputs": [],
   "source": [
    "model6 = RecommenderNet(n_reviewers, n_movies, n_factors, min_rating, max_rating)\n",
    "# model6.summary()"
   ]
  },
  {
   "cell_type": "code",
   "execution_count": 33,
   "metadata": {},
   "outputs": [
    {
     "name": "stdout",
     "output_type": "stream",
     "text": [
      "Train on 93360 samples, validate on 23340 samples\n",
      "Epoch 1/5\n",
      "93360/93360 [==============================] - 55s 591us/sample - loss: 1.3970 - mean_absolute_error: 0.8557 - val_loss: 0.8837 - val_mean_absolute_error: 0.5246\n",
      "Epoch 2/5\n",
      "93360/93360 [==============================] - 54s 580us/sample - loss: 0.7342 - mean_absolute_error: 0.4839 - val_loss: 0.7635 - val_mean_absolute_error: 0.4554\n",
      "Epoch 3/5\n",
      "93360/93360 [==============================] - 55s 590us/sample - loss: 0.5383 - mean_absolute_error: 0.3829 - val_loss: 0.7361 - val_mean_absolute_error: 0.4337\n",
      "Epoch 4/5\n",
      "93360/93360 [==============================] - 55s 592us/sample - loss: 0.4512 - mean_absolute_error: 0.3294 - val_loss: 0.7601 - val_mean_absolute_error: 0.4251\n",
      "Epoch 5/5\n",
      "93360/93360 [==============================] - 55s 591us/sample - loss: 0.4049 - mean_absolute_error: 0.2965 - val_loss: 0.7785 - val_mean_absolute_error: 0.4185\n"
     ]
    }
   ],
   "source": [
    "history2 = model6.fit(x=X_train_array, \n",
    "                    y=y_train, \n",
    "                    batch_size=64, \n",
    "                    epochs=5,\n",
    "                    verbose=1, \n",
    "                    validation_data=(X_test_array, y_test))"
   ]
  },
  {
   "cell_type": "code",
   "execution_count": 34,
   "metadata": {},
   "outputs": [],
   "source": [
    "model6.save('mr_model.h5')"
   ]
  },
  {
   "cell_type": "code",
   "execution_count": 35,
   "metadata": {},
   "outputs": [
    {
     "name": "stdout",
     "output_type": "stream",
     "text": [
      "WARNING:tensorflow:From /Users/daihongchen/opt/anaconda3/envs/flask-env/lib/python3.7/site-packages/tensorflow/python/ops/init_ops.py:97: calling VarianceScaling.__init__ (from tensorflow.python.ops.init_ops) with dtype is deprecated and will be removed in a future version.\n",
      "Instructions for updating:\n",
      "Call initializer instance with the dtype argument instead of passing it to the constructor\n",
      "WARNING:tensorflow:From /Users/daihongchen/opt/anaconda3/envs/flask-env/lib/python3.7/site-packages/tensorflow/python/ops/init_ops.py:97: calling Zeros.__init__ (from tensorflow.python.ops.init_ops) with dtype is deprecated and will be removed in a future version.\n",
      "Instructions for updating:\n",
      "Call initializer instance with the dtype argument instead of passing it to the constructor\n"
     ]
    }
   ],
   "source": [
    "mode_test = load_model('mr_model.h5')"
   ]
  },
  {
   "cell_type": "code",
   "execution_count": 32,
   "metadata": {},
   "outputs": [],
   "source": [
    "# Save weights and architecture\n",
    "model6.save_weights(\"weights_only.h5\") #replace 'model' with the name of your model\n",
    "# Save model config\n",
    "json_config = model6.to_json()\n",
    "with open('model_config.json', 'w') as json_file: \n",
    "    json_file.write(json_config)"
   ]
  },
  {
   "cell_type": "code",
   "execution_count": 570,
   "metadata": {
    "scrolled": true
   },
   "outputs": [
    {
     "data": {
      "image/png": "[encoded data removed]",
      "text/plain": [
       "<Figure size 720x360 with 1 Axes>"
      ]
     },
     "metadata": {
      "needs_background": "light"
     },
     "output_type": "display_data"
    }
   ],
   "source": [
    "from pylab import rcParams\n",
    "rcParams['figure.figsize'] = 10, 5\n",
    "import matplotlib.pyplot as plt\n",
    "plt.plot(history2.history['loss'] , 'g')\n",
    "plt.plot(history2.history['val_loss'] , 'b')\n",
    "plt.title('model loss')\n",
    "plt.ylabel('loss')\n",
    "plt.xlabel('epoch')\n",
    "plt.legend(['train', 'test'], loc='upper left')\n",
    "plt.grid(True)\n",
    "plt.show()"
   ]
  },
  {
   "cell_type": "code",
   "execution_count": 462,
   "metadata": {},
   "outputs": [],
   "source": [
    "model6.save('new_final_model.h5')"
   ]
  },
  {
   "cell_type": "code",
   "execution_count": 36,
   "metadata": {},
   "outputs": [],
   "source": [
    "import pickle as pkl"
   ]
  },
  {
   "cell_type": "code",
   "execution_count": 38,
   "metadata": {},
   "outputs": [
    {
     "ename": "TypeError",
     "evalue": "can't pickle _thread.RLock objects",
     "output_type": "error",
     "traceback": [
      "\u001b[0;31m---------------------------------------------------------------------------\u001b[0m",
      "\u001b[0;31mTypeError\u001b[0m                                 Traceback (most recent call last)",
      "\u001b[0;32m<ipython-input-38-3d37a9562dae>\u001b[0m in \u001b[0;36m<module>\u001b[0;34m\u001b[0m\n\u001b[1;32m      1\u001b[0m \u001b[0;32mwith\u001b[0m \u001b[0mopen\u001b[0m\u001b[0;34m(\u001b[0m\u001b[0;34m'mr_model.pkl'\u001b[0m\u001b[0;34m,\u001b[0m \u001b[0;34m'wb'\u001b[0m\u001b[0;34m)\u001b[0m \u001b[0;32mas\u001b[0m \u001b[0mf\u001b[0m\u001b[0;34m:\u001b[0m\u001b[0;34m\u001b[0m\u001b[0;34m\u001b[0m\u001b[0m\n\u001b[0;32m----> 2\u001b[0;31m     \u001b[0mpkl\u001b[0m\u001b[0;34m.\u001b[0m\u001b[0mdump\u001b[0m\u001b[0;34m(\u001b[0m\u001b[0mmodel6\u001b[0m\u001b[0;34m,\u001b[0m \u001b[0mf\u001b[0m\u001b[0;34m)\u001b[0m\u001b[0;34m\u001b[0m\u001b[0;34m\u001b[0m\u001b[0m\n\u001b[0m",
      "\u001b[0;31mTypeError\u001b[0m: can't pickle _thread.RLock objects"
     ]
    }
   ],
   "source": [
    "with open('mr_model.pkl', 'wb') as f:\n",
    "    pkl.dump(model6, f)"
   ]
  },
  {
   "cell_type": "code",
   "execution_count": null,
   "metadata": {},
   "outputs": [],
   "source": [
    "from tensorflow.keras.layers import Concatenate, Dense, Dropout, Flatten\n",
    "from tensorflow.keras import regularizers\n",
    "def RecommenderNet_2(n_reviewers, n_movies, n_factors, min_rating, max_rating):\n",
    "    reviewer = Input(shape=(1,))\n",
    "    r = EmbeddingLayer(n_reviewers, n_factors)(reviewer)\n",
    "    \n",
    "    movie = Input(shape=(1,))\n",
    "    m = EmbeddingLayer(n_movies, n_factors)(movie)\n",
    "    \n",
    "    x = Concatenate()([r, m])\n",
    "    x = Dropout(0.05)(x)\n",
    "    \n",
    "    x = Dense(10, kernel_initializer='he_normal', kernel_regularizer=regularizers.l2(0.01))(x)\n",
    "    x = Activation('relu')(x)\n",
    "    x = Dropout(0.5)(x)\n",
    "    \n",
    "    x = Dense(10, kernel_initializer='he_normal')(x)\n",
    "    x = Activation('relu')(x)\n",
    "    x = Dropout(0.5)(x)\n",
    "    \n",
    "    x = Flatten()(x)\n",
    "    x = Dropout(0.5)(x)\n",
    "    \n",
    "    x = Dense(1, kernel_initializer='he_normal')(x)\n",
    "    x = Activation('sigmoid')(x)\n",
    "    x = Lambda(lambda x: x * (max_rating - min_rating) + min_rating)(x)\n",
    "    model = Model(inputs=[reviewer, movie], outputs=x)\n",
    "    opt = Adam(lr=0.001)\n",
    "    model.compile(loss='mean_squared_error', optimizer=opt, metrics=['mae'])\n",
    "    return model"
   ]
  },
  {
   "cell_type": "code",
   "execution_count": 461,
   "metadata": {},
   "outputs": [],
   "source": [
    "model2 = RecommenderNet_2(n_reviewers, n_movies, n_factors, min_rating, max_rating)\n",
    "# model2.summary()"
   ]
  },
  {
   "cell_type": "code",
   "execution_count": 364,
   "metadata": {},
   "outputs": [
    {
     "name": "stdout",
     "output_type": "stream",
     "text": [
      "Train on 93360 samples, validate on 23340 samples\n",
      "Epoch 1/5\n"
     ]
    },
    {
     "name": "stderr",
     "output_type": "stream",
     "text": [
      "/Users/daihongchen/opt/anaconda3/envs/learn-env/lib/python3.6/site-packages/tensorflow_core/python/framework/indexed_slices.py:433: UserWarning: Converting sparse IndexedSlices to a dense Tensor of unknown shape. This may consume a large amount of memory.\n",
      "  \"Converting sparse IndexedSlices to a dense Tensor of unknown shape. \"\n",
      "/Users/daihongchen/opt/anaconda3/envs/learn-env/lib/python3.6/site-packages/tensorflow_core/python/framework/indexed_slices.py:433: UserWarning: Converting sparse IndexedSlices to a dense Tensor of unknown shape. This may consume a large amount of memory.\n",
      "  \"Converting sparse IndexedSlices to a dense Tensor of unknown shape. \"\n"
     ]
    },
    {
     "name": "stdout",
     "output_type": "stream",
     "text": [
      "93360/93360 [==============================] - 27s 293us/sample - loss: 1.4671 - val_loss: 0.8997\n",
      "Epoch 2/5\n",
      "93360/93360 [==============================] - 26s 283us/sample - loss: 0.7473 - val_loss: 0.7832\n",
      "Epoch 3/5\n",
      "93360/93360 [==============================] - 27s 286us/sample - loss: 0.5368 - val_loss: 0.7617\n",
      "Epoch 4/5\n",
      "93360/93360 [==============================] - 28s 300us/sample - loss: 0.4487 - val_loss: 0.7713\n",
      "Epoch 5/5\n",
      "93360/93360 [==============================] - 28s 299us/sample - loss: 0.3991 - val_loss: 0.7975\n"
     ]
    }
   ],
   "source": [
    "history = model2.fit(x=X_train_array, \n",
    "                    y=y_train, \n",
    "                    batch_size=64, \n",
    "                    epochs=5,\n",
    "                    verbose=1, \n",
    "                    validation_data=(X_test_array, y_test))"
   ]
  },
  {
   "cell_type": "markdown",
   "metadata": {},
   "source": [
    "# Cross validation"
   ]
  },
  {
   "cell_type": "code",
   "execution_count": 77,
   "metadata": {},
   "outputs": [
    {
     "name": "stderr",
     "output_type": "stream",
     "text": [
      "/Users/daihongchen/opt/anaconda3/envs/learn-env/lib/python3.6/site-packages/tensorflow_core/python/framework/indexed_slices.py:433: UserWarning: Converting sparse IndexedSlices to a dense Tensor of unknown shape. This may consume a large amount of memory.\n",
      "  \"Converting sparse IndexedSlices to a dense Tensor of unknown shape. \"\n"
     ]
    }
   ],
   "source": [
    "from tensorflow.keras.models import load_model\n",
    "model_cv = load_model('final_model.h5')"
   ]
  },
  {
   "cell_type": "code",
   "execution_count": 78,
   "metadata": {},
   "outputs": [
    {
     "name": "stdout",
     "output_type": "stream",
     "text": [
      "23340/23340 [==============================] - 2s 105us/sample - loss: 0.9097 - mae: 0.5103\n"
     ]
    },
    {
     "data": {
      "text/plain": [
       "[0.9096675331100196, 0.51034427]"
      ]
     },
     "execution_count": 78,
     "metadata": {},
     "output_type": "execute_result"
    }
   ],
   "source": [
    "model_cv.evaluate(X_test_array, y_test)"
   ]
  },
  {
   "cell_type": "code",
   "execution_count": 210,
   "metadata": {},
   "outputs": [],
   "source": [
    "from sklearn.model_selection import StratifiedKFold\n",
    "import numpy"
   ]
  },
  {
   "cell_type": "code",
   "execution_count": 212,
   "metadata": {},
   "outputs": [],
   "source": [
    "kfold = StratifiedKFold(n_splits=5, shuffle=True, random_state=42)\n",
    "cvscores = []\n",
    "for train_index, test_index in kfold.split(X, y):\n",
    "    X_train, X_test = X[train_index], X[test_index]\n",
    "    y_train, y_test = y[train_index], y[test_index]"
   ]
  },
  {
   "cell_type": "code",
   "execution_count": 216,
   "metadata": {},
   "outputs": [
    {
     "data": {
      "text/plain": [
       "((93360, 2), (93360,), (23340, 2), (23340,))"
      ]
     },
     "execution_count": 216,
     "metadata": {},
     "output_type": "execute_result"
    }
   ],
   "source": [
    "X_train.shape, y_train.shape, X_test.shape, y_test.shape"
   ]
  },
  {
   "cell_type": "code",
   "execution_count": 232,
   "metadata": {},
   "outputs": [
    {
     "name": "stdout",
     "output_type": "stream",
     "text": [
      "Train on 93360 samples, validate on 23340 samples\n",
      "Epoch 1/5\n",
      "93360/93360 [==============================] - 54s 580us/sample - loss: 0.9939 - mae: 0.5977 - val_loss: 0.9866 - val_mae: 0.5284\n",
      "Epoch 2/5\n",
      "93360/93360 [==============================] - 54s 580us/sample - loss: 0.9954 - mae: 0.5964 - val_loss: 1.0031 - val_mae: 0.5608\n",
      "Epoch 3/5\n",
      "93360/93360 [==============================] - 53s 572us/sample - loss: 0.9920 - mae: 0.5940 - val_loss: 1.0236 - val_mae: 0.5571\n",
      "Epoch 4/5\n",
      "93360/93360 [==============================] - 54s 579us/sample - loss: 0.9919 - mae: 0.5937 - val_loss: 1.0266 - val_mae: 0.5758\n",
      "Epoch 5/5\n",
      "93360/93360 [==============================] - 54s 579us/sample - loss: 0.9973 - mae: 0.5963 - val_loss: 1.0331 - val_mae: 0.5750\n",
      "23340/23340 [==============================] - 2s 104us/sample - loss: 1.0331 - mae: 0.5750\n",
      "mae 0.57497174\n",
      "Train on 93360 samples, validate on 23340 samples\n",
      "Epoch 1/5\n",
      "93360/93360 [==============================] - 55s 586us/sample - loss: 1.0314 - mae: 0.6128 - val_loss: 0.9117 - val_mae: 0.4863\n",
      "Epoch 2/5\n",
      "93360/93360 [==============================] - 55s 590us/sample - loss: 1.0226 - mae: 0.6098 - val_loss: 0.9602 - val_mae: 0.5196\n",
      "Epoch 3/5\n",
      "93360/93360 [==============================] - 55s 590us/sample - loss: 1.0181 - mae: 0.6056 - val_loss: 1.0004 - val_mae: 0.5364\n",
      "Epoch 4/5\n",
      "93360/93360 [==============================] - 55s 586us/sample - loss: 1.0159 - mae: 0.6050 - val_loss: 1.0228 - val_mae: 0.5930\n",
      "Epoch 5/5\n",
      "93360/93360 [==============================] - 55s 587us/sample - loss: 1.0186 - mae: 0.6072 - val_loss: 1.0403 - val_mae: 0.5732\n",
      "23340/23340 [==============================] - 3s 121us/sample - loss: 1.0403 - mae: 0.5732\n",
      "mae 0.57323205\n",
      "Train on 93360 samples, validate on 23340 samples\n",
      "Epoch 1/5\n",
      "93360/93360 [==============================] - 54s 583us/sample - loss: 1.0523 - mae: 0.6269 - val_loss: 0.9372 - val_mae: 0.5180\n",
      "Epoch 2/5\n",
      "93360/93360 [==============================] - 55s 585us/sample - loss: 1.0424 - mae: 0.6211 - val_loss: 0.9680 - val_mae: 0.5348\n",
      "Epoch 3/5\n",
      "93360/93360 [==============================] - 56s 596us/sample - loss: 1.0369 - mae: 0.6202 - val_loss: 1.0091 - val_mae: 0.5555\n",
      "Epoch 4/5\n",
      "93360/93360 [==============================] - 55s 591us/sample - loss: 1.0400 - mae: 0.6230 - val_loss: 1.0299 - val_mae: 0.5821\n",
      "Epoch 5/5\n",
      "93360/93360 [==============================] - 55s 591us/sample - loss: 1.0415 - mae: 0.6236 - val_loss: 1.0476 - val_mae: 0.5949\n",
      "23340/23340 [==============================] - 2s 104us/sample - loss: 1.0476 - mae: 0.5949\n",
      "mae 0.5948964\n",
      "Train on 93360 samples, validate on 23340 samples\n",
      "Epoch 1/5\n",
      "93360/93360 [==============================] - 55s 589us/sample - loss: 1.0660 - mae: 0.6432 - val_loss: 0.9568 - val_mae: 0.5202\n",
      "Epoch 2/5\n",
      "93360/93360 [==============================] - 54s 575us/sample - loss: 1.0589 - mae: 0.6392 - val_loss: 0.9971 - val_mae: 0.5498\n",
      "Epoch 3/5\n",
      "93360/93360 [==============================] - 54s 583us/sample - loss: 1.0564 - mae: 0.6377 - val_loss: 1.0179 - val_mae: 0.5721\n",
      "Epoch 4/5\n",
      "93360/93360 [==============================] - 53s 563us/sample - loss: 1.0548 - mae: 0.6365 - val_loss: 1.0410 - val_mae: 0.6058\n",
      "Epoch 5/5\n",
      "93360/93360 [==============================] - 55s 587us/sample - loss: 1.0589 - mae: 0.6413 - val_loss: 1.0597 - val_mae: 0.6241\n",
      "23340/23340 [==============================] - 3s 107us/sample - loss: 1.0597 - mae: 0.6241\n",
      "mae 0.62406003\n",
      "Train on 93360 samples, validate on 23340 samples\n",
      "Epoch 1/5\n",
      "93360/93360 [==============================] - 53s 568us/sample - loss: 1.0816 - mae: 0.6582 - val_loss: 0.9752 - val_mae: 0.5438\n",
      "Epoch 2/5\n",
      "93360/93360 [==============================] - 53s 568us/sample - loss: 1.0744 - mae: 0.6533 - val_loss: 1.0090 - val_mae: 0.5637\n",
      "Epoch 3/5\n",
      "93360/93360 [==============================] - 53s 569us/sample - loss: 1.0698 - mae: 0.6502 - val_loss: 1.0324 - val_mae: 0.5929\n",
      "Epoch 4/5\n",
      "93360/93360 [==============================] - 54s 576us/sample - loss: 1.0704 - mae: 0.6513 - val_loss: 1.0533 - val_mae: 0.6182\n",
      "Epoch 5/5\n",
      "93360/93360 [==============================] - 54s 583us/sample - loss: 1.0728 - mae: 0.6542 - val_loss: 1.0674 - val_mae: 0.6115\n",
      "23340/23340 [==============================] - 2s 106us/sample - loss: 1.0674 - mae: 0.6115\n",
      "mae 0.6115439\n",
      "(0.59574085, 0.019952081)\n"
     ]
    }
   ],
   "source": [
    "kfold = StratifiedKFold(n_splits=5, shuffle=True, random_state=42)\n",
    "cvscores = []\n",
    "for train_index, test_index in kfold.split(X, y):\n",
    "    X_train, X_test = X[train_index], X[test_index]\n",
    "    y_train, y_test = y[train_index], y[test_index]\n",
    "    X_train_array = [X_train[:, 0], X_train[:, 1]]\n",
    "    X_test_array = [X_test[:, 0], X_test[:, 1]]\n",
    "      # create model\n",
    "    model_cv.fit(x=X_train_array, \n",
    "               y=y_train, \n",
    "               epochs=5, \n",
    "               verbose=1,\n",
    "               validation_data=(X_test_array, y_test))\n",
    "    #evaluate the model\n",
    "    scores = model_cv.evaluate(x=X_test_array, y=y_test, verbose=1)\n",
    "    print(model_cv.metrics_names[1], scores[1])\n",
    "    cvscores.append(scores[1])\n"
   ]
  },
  {
   "cell_type": "code",
   "execution_count": 233,
   "metadata": {},
   "outputs": [
    {
     "name": "stdout",
     "output_type": "stream",
     "text": [
      "(0.59574085, 0.019952081)\n"
     ]
    }
   ],
   "source": [
    "print((numpy.mean(cvscores), numpy.std(cvscores)))"
   ]
  },
  {
   "cell_type": "markdown",
   "metadata": {},
   "source": [
    "# Make recommendations"
   ]
  },
  {
   "cell_type": "code",
   "execution_count": 45,
   "metadata": {},
   "outputs": [
    {
     "name": "stderr",
     "output_type": "stream",
     "text": [
      "/Users/daihongchen/opt/anaconda3/envs/learn-env/lib/python3.6/site-packages/tensorflow_core/python/framework/indexed_slices.py:433: UserWarning: Converting sparse IndexedSlices to a dense Tensor of unknown shape. This may consume a large amount of memory.\n",
      "  \"Converting sparse IndexedSlices to a dense Tensor of unknown shape. \"\n"
     ]
    }
   ],
   "source": [
    "from tensorflow.keras.models import load_model\n",
    "model_final = load_model('new_final_model.h5')"
   ]
  },
  {
   "cell_type": "code",
   "execution_count": 38,
   "metadata": {},
   "outputs": [],
   "source": [
    "data_2018_mr = pd.read_csv('data_2018_mr.csv')"
   ]
  },
  {
   "cell_type": "code",
   "execution_count": 44,
   "metadata": {},
   "outputs": [
    {
     "name": "stdout",
     "output_type": "stream",
     "text": [
      "[ 1023 16815 17300 11795 19691]\n",
      "[4.974389  4.8915453 4.8563213 4.817922  4.804613 ]\n"
     ]
    }
   ],
   "source": [
    "movie_data = np.array(list(set(data_2018_mr.movie)))\n",
    "user = np.array([16 for i in range(len(movie_data))])\n",
    "predictions = mode_test.predict([user, movie_data])\n",
    "predictions = np.array([a[0] for a in predictions])\n",
    "recommended_movie_ids = (-predictions).argsort()[:5]\n",
    "print(recommended_movie_ids)\n",
    "print(predictions[recommended_movie_ids])"
   ]
  },
  {
   "cell_type": "code",
   "execution_count": null,
   "metadata": {},
   "outputs": [],
   "source": []
  },
  {
   "cell_type": "code",
   "execution_count": 45,
   "metadata": {},
   "outputs": [
    {
     "data": {
      "text/html": [
       "<div>\n",
       "<style scoped>\n",
       "    .dataframe tbody tr th:only-of-type {\n",
       "        vertical-align: middle;\n",
       "    }\n",
       "\n",
       "    .dataframe tbody tr th {\n",
       "        vertical-align: top;\n",
       "    }\n",
       "\n",
       "    .dataframe thead th {\n",
       "        text-align: right;\n",
       "    }\n",
       "</style>\n",
       "<table border=\"1\" class=\"dataframe\">\n",
       "  <thead>\n",
       "    <tr style=\"text-align: right;\">\n",
       "      <th></th>\n",
       "      <th>movie</th>\n",
       "      <th>title</th>\n",
       "      <th>average_rating</th>\n",
       "      <th>category</th>\n",
       "      <th>description</th>\n",
       "      <th>price</th>\n",
       "      <th>links</th>\n",
       "    </tr>\n",
       "  </thead>\n",
       "  <tbody>\n",
       "    <tr>\n",
       "      <td>15262</td>\n",
       "      <td>11795</td>\n",
       "      <td>Limitless</td>\n",
       "      <td>4.647059</td>\n",
       "      <td>['Movies &amp; TV', 'Studio Specials', '20th Centu...</td>\n",
       "      <td>['Customer may or may not receive the O-ring. ...</td>\n",
       "      <td>$8.97</td>\n",
       "      <td>https://www.amazon.com/product-reviews/B0051MK...</td>\n",
       "    </tr>\n",
       "    <tr>\n",
       "      <td>42502</td>\n",
       "      <td>1023</td>\n",
       "      <td>How the Grinch Stole Christmas / Horton Hears ...</td>\n",
       "      <td>4.761194</td>\n",
       "      <td>['Movies &amp; TV', 'Science Fiction &amp; Fantasy', '...</td>\n",
       "      <td>['This DVD has two movies on it for the price ...</td>\n",
       "      <td>NaN</td>\n",
       "      <td>https://www.amazon.com/product-reviews/6304698...</td>\n",
       "    </tr>\n",
       "    <tr>\n",
       "      <td>61117</td>\n",
       "      <td>19691</td>\n",
       "      <td>The Bourne Trilogy</td>\n",
       "      <td>4.500000</td>\n",
       "      <td>['Movies &amp; TV', 'Boxed Sets', 'Mystery &amp; Suspe...</td>\n",
       "      <td>[\"Get ready for non-stop action, edge-of-your-...</td>\n",
       "      <td>$12.98</td>\n",
       "      <td>https://www.amazon.com/product-reviews/B01CJMB...</td>\n",
       "    </tr>\n",
       "    <tr>\n",
       "      <td>66821</td>\n",
       "      <td>17300</td>\n",
       "      <td>Gentle Yoga: 7 Beginning Yoga Practices for Mi...</td>\n",
       "      <td>4.816199</td>\n",
       "      <td>['Movies &amp; TV', 'Genre for Featured Categories...</td>\n",
       "      <td>[\"Practice yoga with the grandeur &amp; beauty of ...</td>\n",
       "      <td>$16.95</td>\n",
       "      <td>https://www.amazon.com/product-reviews/B00PRAB...</td>\n",
       "    </tr>\n",
       "    <tr>\n",
       "      <td>68048</td>\n",
       "      <td>16815</td>\n",
       "      <td>Masterpiece: Downton Abbey Season 5</td>\n",
       "      <td>4.904762</td>\n",
       "      <td>['Movies &amp; TV', 'Independently Distributed', '...</td>\n",
       "      <td>['Season 5 of the international hit finds the ...</td>\n",
       "      <td>$16.71</td>\n",
       "      <td>https://www.amazon.com/product-reviews/B00MO21...</td>\n",
       "    </tr>\n",
       "  </tbody>\n",
       "</table>\n",
       "</div>"
      ],
      "text/plain": [
       "       movie                                              title  \\\n",
       "15262  11795                                          Limitless   \n",
       "42502   1023  How the Grinch Stole Christmas / Horton Hears ...   \n",
       "61117  19691                                 The Bourne Trilogy   \n",
       "66821  17300  Gentle Yoga: 7 Beginning Yoga Practices for Mi...   \n",
       "68048  16815                Masterpiece: Downton Abbey Season 5   \n",
       "\n",
       "       average_rating                                           category  \\\n",
       "15262        4.647059  ['Movies & TV', 'Studio Specials', '20th Centu...   \n",
       "42502        4.761194  ['Movies & TV', 'Science Fiction & Fantasy', '...   \n",
       "61117        4.500000  ['Movies & TV', 'Boxed Sets', 'Mystery & Suspe...   \n",
       "66821        4.816199  ['Movies & TV', 'Genre for Featured Categories...   \n",
       "68048        4.904762  ['Movies & TV', 'Independently Distributed', '...   \n",
       "\n",
       "                                             description   price  \\\n",
       "15262  ['Customer may or may not receive the O-ring. ...   $8.97   \n",
       "42502  ['This DVD has two movies on it for the price ...     NaN   \n",
       "61117  [\"Get ready for non-stop action, edge-of-your-...  $12.98   \n",
       "66821  [\"Practice yoga with the grandeur & beauty of ...  $16.95   \n",
       "68048  ['Season 5 of the international hit finds the ...  $16.71   \n",
       "\n",
       "                                                   links  \n",
       "15262  https://www.amazon.com/product-reviews/B0051MK...  \n",
       "42502  https://www.amazon.com/product-reviews/6304698...  \n",
       "61117  https://www.amazon.com/product-reviews/B01CJMB...  \n",
       "66821  https://www.amazon.com/product-reviews/B00PRAB...  \n",
       "68048  https://www.amazon.com/product-reviews/B00MO21...  "
      ]
     },
     "execution_count": 45,
     "metadata": {},
     "output_type": "execute_result"
    }
   ],
   "source": [
    "recommend = data_2018_mr[data_2018_mr['movie'].isin(recommended_movie_ids)]\n",
    "recommend = (recommend[['movie','title', 'average_rating','category', 'description', 'price', 'links']]).drop_duplicates()\n",
    "recommend"
   ]
  },
  {
   "cell_type": "code",
   "execution_count": 9,
   "metadata": {},
   "outputs": [
    {
     "data": {
      "text/html": [
       "<div>\n",
       "<style scoped>\n",
       "    .dataframe tbody tr th:only-of-type {\n",
       "        vertical-align: middle;\n",
       "    }\n",
       "\n",
       "    .dataframe tbody tr th {\n",
       "        vertical-align: top;\n",
       "    }\n",
       "\n",
       "    .dataframe thead th {\n",
       "        text-align: right;\n",
       "    }\n",
       "</style>\n",
       "<table border=\"1\" class=\"dataframe\">\n",
       "  <thead>\n",
       "    <tr style=\"text-align: right;\">\n",
       "      <th></th>\n",
       "      <th>title</th>\n",
       "      <th>reviewer</th>\n",
       "      <th>rating</th>\n",
       "      <th>summary</th>\n",
       "      <th>description</th>\n",
       "    </tr>\n",
       "  </thead>\n",
       "  <tbody>\n",
       "    <tr>\n",
       "      <td>33268</td>\n",
       "      <td>Beneath the Aurora</td>\n",
       "      <td>108</td>\n",
       "      <td>5.0</td>\n",
       "      <td>Wow!</td>\n",
       "      <td>['Trailer and extra material available at http...</td>\n",
       "    </tr>\n",
       "    <tr>\n",
       "      <td>43516</td>\n",
       "      <td>The Walk</td>\n",
       "      <td>108</td>\n",
       "      <td>5.0</td>\n",
       "      <td>YIkes!</td>\n",
       "      <td>['Twelve people have walked on the moon, but o...</td>\n",
       "    </tr>\n",
       "  </tbody>\n",
       "</table>\n",
       "</div>"
      ],
      "text/plain": [
       "                    title  reviewer  rating summary  \\\n",
       "33268  Beneath the Aurora       108     5.0    Wow!   \n",
       "43516            The Walk       108     5.0  YIkes!   \n",
       "\n",
       "                                             description  \n",
       "33268  ['Trailer and extra material available at http...  \n",
       "43516  ['Twelve people have walked on the moon, but o...  "
      ]
     },
     "execution_count": 9,
     "metadata": {},
     "output_type": "execute_result"
    }
   ],
   "source": [
    "data_2018_mr[data_2018_mr['reviewer']==108][['title', 'reviewer','rating','summary', 'description']].drop_duplicates()"
   ]
  },
  {
   "cell_type": "code",
   "execution_count": 518,
   "metadata": {},
   "outputs": [
    {
     "name": "stdout",
     "output_type": "stream",
     "text": [
      "[14554 13503  4667 19390   174]\n",
      "[5. 5. 5. 5. 5.]\n"
     ]
    }
   ],
   "source": [
    "movie_data = np.array(list(set(data_2018_1.movie)))\n",
    "user1 = np.array([800 for i in range(len(movie_data))])\n",
    "predictions = model_re.predict([user1, movie_data])\n",
    "predictions = np.array([a[0] for a in predictions])\n",
    "recommended_movie_ids = (-predictions).argsort()[:5]\n",
    "print(recommended_movie_ids)\n",
    "print(predictions[recommended_movie_ids])"
   ]
  },
  {
   "cell_type": "code",
   "execution_count": 519,
   "metadata": {},
   "outputs": [
    {
     "data": {
      "text/html": [
       "<div>\n",
       "<style scoped>\n",
       "    .dataframe tbody tr th:only-of-type {\n",
       "        vertical-align: middle;\n",
       "    }\n",
       "\n",
       "    .dataframe tbody tr th {\n",
       "        vertical-align: top;\n",
       "    }\n",
       "\n",
       "    .dataframe thead th {\n",
       "        text-align: right;\n",
       "    }\n",
       "</style>\n",
       "<table border=\"1\" class=\"dataframe\">\n",
       "  <thead>\n",
       "    <tr style=\"text-align: right;\">\n",
       "      <th></th>\n",
       "      <th>title</th>\n",
       "      <th>average_rating</th>\n",
       "      <th>category</th>\n",
       "      <th>description</th>\n",
       "      <th>price</th>\n",
       "      <th>links</th>\n",
       "    </tr>\n",
       "  </thead>\n",
       "  <tbody>\n",
       "    <tr>\n",
       "      <td>76020</td>\n",
       "      <td>The Hunted</td>\n",
       "      <td>4.857143</td>\n",
       "      <td>['Movies &amp; TV', 'Paramount Home Entertainment'...</td>\n",
       "      <td>['Directed by Academy Award winner William Fri...</td>\n",
       "      <td>$6.88</td>\n",
       "      <td>https://www.amazon.com/product-reviews/B00009R...</td>\n",
       "    </tr>\n",
       "    <tr>\n",
       "      <td>78758</td>\n",
       "      <td>Last Vegas</td>\n",
       "      <td>4.625000</td>\n",
       "      <td>['Movies &amp; TV', 'First to Know', 'Movies']</td>\n",
       "      <td>NaN</td>\n",
       "      <td>NaN</td>\n",
       "      <td>https://www.amazon.com/product-reviews/B009AMA...</td>\n",
       "    </tr>\n",
       "    <tr>\n",
       "      <td>82686</td>\n",
       "      <td>Elvira: Mistress of the Dark VHS</td>\n",
       "      <td>4.928571</td>\n",
       "      <td>['Movies &amp; TV', 'Genre for Featured Categories...</td>\n",
       "      <td>['vhs tape.']</td>\n",
       "      <td>NaN</td>\n",
       "      <td>https://www.amazon.com/product-reviews/6303265...</td>\n",
       "    </tr>\n",
       "    <tr>\n",
       "      <td>138094</td>\n",
       "      <td>Future Cop - The Complete Series</td>\n",
       "      <td>4.500000</td>\n",
       "      <td>['Movies &amp; TV', 'Genre for Featured Categories...</td>\n",
       "      <td>['The Cop of the Future is Here... Programmed ...</td>\n",
       "      <td>NaN</td>\n",
       "      <td>https://www.amazon.com/product-reviews/B019PHH...</td>\n",
       "    </tr>\n",
       "    <tr>\n",
       "      <td>169561</td>\n",
       "      <td>Blue Bloods: Season 4</td>\n",
       "      <td>4.555556</td>\n",
       "      <td>['Movies &amp; TV', 'Paramount Home Entertainment'...</td>\n",
       "      <td>[\"The Reagan family dynamics continue to shift...</td>\n",
       "      <td>$11.99</td>\n",
       "      <td>https://www.amazon.com/product-reviews/B00CYQX...</td>\n",
       "    </tr>\n",
       "  </tbody>\n",
       "</table>\n",
       "</div>"
      ],
      "text/plain": [
       "                                   title  average_rating  \\\n",
       "76020                         The Hunted        4.857143   \n",
       "78758                         Last Vegas        4.625000   \n",
       "82686   Elvira: Mistress of the Dark VHS        4.928571   \n",
       "138094  Future Cop - The Complete Series        4.500000   \n",
       "169561             Blue Bloods: Season 4        4.555556   \n",
       "\n",
       "                                                 category  \\\n",
       "76020   ['Movies & TV', 'Paramount Home Entertainment'...   \n",
       "78758          ['Movies & TV', 'First to Know', 'Movies']   \n",
       "82686   ['Movies & TV', 'Genre for Featured Categories...   \n",
       "138094  ['Movies & TV', 'Genre for Featured Categories...   \n",
       "169561  ['Movies & TV', 'Paramount Home Entertainment'...   \n",
       "\n",
       "                                              description   price  \\\n",
       "76020   ['Directed by Academy Award winner William Fri...   $6.88   \n",
       "78758                                                 NaN     NaN   \n",
       "82686                                       ['vhs tape.']     NaN   \n",
       "138094  ['The Cop of the Future is Here... Programmed ...     NaN   \n",
       "169561  [\"The Reagan family dynamics continue to shift...  $11.99   \n",
       "\n",
       "                                                    links  \n",
       "76020   https://www.amazon.com/product-reviews/B00009R...  \n",
       "78758   https://www.amazon.com/product-reviews/B009AMA...  \n",
       "82686   https://www.amazon.com/product-reviews/6303265...  \n",
       "138094  https://www.amazon.com/product-reviews/B019PHH...  \n",
       "169561  https://www.amazon.com/product-reviews/B00CYQX...  "
      ]
     },
     "execution_count": 519,
     "metadata": {},
     "output_type": "execute_result"
    }
   ],
   "source": [
    "recommend = data_2018_1[data_2018_1['movie'].isin(recommended_movie_ids)]\n",
    "recommend = (recommend[['title', 'average_rating','category', 'description', 'price', 'links']]).drop_duplicates()\n",
    "recommend"
   ]
  },
  {
   "cell_type": "code",
   "execution_count": 523,
   "metadata": {},
   "outputs": [],
   "source": [
    "from sklearn.model_selection import StratifiedKFold\n",
    "import numpy"
   ]
  },
  {
   "cell_type": "code",
   "execution_count": 524,
   "metadata": {},
   "outputs": [
    {
     "name": "stdout",
     "output_type": "stream",
     "text": [
      "Train on 93360 samples, validate on 23340 samples\n",
      "Epoch 1/5\n"
     ]
    },
    {
     "name": "stderr",
     "output_type": "stream",
     "text": [
      "/Users/daihongchen/opt/anaconda3/envs/learn-env/lib/python3.6/site-packages/tensorflow_core/python/framework/indexed_slices.py:433: UserWarning: Converting sparse IndexedSlices to a dense Tensor of unknown shape. This may consume a large amount of memory.\n",
      "  \"Converting sparse IndexedSlices to a dense Tensor of unknown shape. \"\n"
     ]
    },
    {
     "name": "stdout",
     "output_type": "stream",
     "text": [
      "93360/93360 [==============================] - 55s 594us/sample - loss: 0.5039 - mae: 0.3331 - val_loss: 0.4239 - val_mae: 0.2887\n",
      "Epoch 2/5\n",
      "93360/93360 [==============================] - 55s 584us/sample - loss: 0.4742 - mae: 0.3216 - val_loss: 0.5109 - val_mae: 0.3243\n",
      "Epoch 3/5\n",
      "93360/93360 [==============================] - 53s 564us/sample - loss: 0.4766 - mae: 0.3220 - val_loss: 0.6098 - val_mae: 0.3616\n",
      "Epoch 4/5\n",
      "93360/93360 [==============================] - 53s 572us/sample - loss: 0.4766 - mae: 0.3221 - val_loss: 0.6985 - val_mae: 0.3904\n",
      "Epoch 5/5\n",
      "93360/93360 [==============================] - 55s 585us/sample - loss: 0.4710 - mae: 0.3183 - val_loss: 0.7326 - val_mae: 0.4006\n",
      "23340/23340 [==============================] - 3s 109us/sample - loss: 0.7363 - mae: 0.3975\n",
      "mae 0.39750996\n",
      "Train on 93360 samples, validate on 23340 samples\n",
      "Epoch 1/5\n",
      "93360/93360 [==============================] - 56s 603us/sample - loss: 0.5435 - mae: 0.3512 - val_loss: 0.3920 - val_mae: 0.2717\n",
      "Epoch 2/5\n",
      "93360/93360 [==============================] - 55s 594us/sample - loss: 0.4940 - mae: 0.3294 - val_loss: 0.4778 - val_mae: 0.3143\n",
      "Epoch 3/5\n",
      "93360/93360 [==============================] - 56s 601us/sample - loss: 0.4733 - mae: 0.3216 - val_loss: 0.5735 - val_mae: 0.3450\n",
      "Epoch 4/5\n",
      "93360/93360 [==============================] - 56s 598us/sample - loss: 0.4672 - mae: 0.3188 - val_loss: 0.6584 - val_mae: 0.3786\n",
      "Epoch 5/5\n",
      "93360/93360 [==============================] - 56s 596us/sample - loss: 0.4583 - mae: 0.3161 - val_loss: 0.7034 - val_mae: 0.3978\n",
      "23340/23340 [==============================] - 3s 116us/sample - loss: 0.7432 - mae: 0.4016\n",
      "mae 0.40156484\n",
      "Train on 93360 samples, validate on 23340 samples\n",
      "Epoch 1/5\n",
      "93360/93360 [==============================] - 57s 606us/sample - loss: 0.5430 - mae: 0.3523 - val_loss: 0.3718 - val_mae: 0.2680\n",
      "Epoch 2/5\n",
      "93360/93360 [==============================] - 56s 602us/sample - loss: 0.5050 - mae: 0.3381 - val_loss: 0.4569 - val_mae: 0.3078\n",
      "Epoch 3/5\n",
      "93360/93360 [==============================] - 113s 1ms/sample - loss: 0.4844 - mae: 0.3305 - val_loss: 0.5271 - val_mae: 0.3358\n",
      "Epoch 4/5\n",
      "93360/93360 [==============================] - 58s 616us/sample - loss: 0.4692 - mae: 0.3238 - val_loss: 0.6084 - val_mae: 0.3650\n",
      "Epoch 5/5\n",
      "93360/93360 [==============================] - 57s 614us/sample - loss: 0.4688 - mae: 0.3230 - val_loss: 0.6652 - val_mae: 0.3854\n",
      "23340/23340 [==============================] - 3s 115us/sample - loss: 0.7373 - mae: 0.3994\n",
      "mae 0.39943346\n",
      "Train on 93360 samples, validate on 23340 samples\n",
      "Epoch 1/5\n",
      "93360/93360 [==============================] - 57s 608us/sample - loss: 0.5464 - mae: 0.3587 - val_loss: 0.3682 - val_mae: 0.2620\n",
      "Epoch 2/5\n",
      "93360/93360 [==============================] - 56s 603us/sample - loss: 0.5076 - mae: 0.3433 - val_loss: 0.4626 - val_mae: 0.3119\n",
      "Epoch 3/5\n",
      "93360/93360 [==============================] - 56s 604us/sample - loss: 0.5001 - mae: 0.3396 - val_loss: 0.5418 - val_mae: 0.3491\n",
      "Epoch 4/5\n",
      "93360/93360 [==============================] - 57s 607us/sample - loss: 0.4869 - mae: 0.3343 - val_loss: 0.6247 - val_mae: 0.3797\n",
      "Epoch 5/5\n",
      "93360/93360 [==============================] - 56s 605us/sample - loss: 0.4872 - mae: 0.3341 - val_loss: 0.6947 - val_mae: 0.4083\n",
      "23340/23340 [==============================] - 3s 115us/sample - loss: 0.7371 - mae: 0.3988\n",
      "mae 0.39883408\n",
      "Train on 93360 samples, validate on 23340 samples\n",
      "Epoch 1/5\n",
      "93360/93360 [==============================] - 56s 598us/sample - loss: 0.5669 - mae: 0.3687 - val_loss: 0.3828 - val_mae: 0.2792\n",
      "Epoch 2/5\n",
      "93360/93360 [==============================] - 56s 596us/sample - loss: 0.5229 - mae: 0.3515 - val_loss: 0.4544 - val_mae: 0.3128\n",
      "Epoch 3/5\n",
      "93360/93360 [==============================] - 56s 599us/sample - loss: 0.5065 - mae: 0.3445 - val_loss: 0.5294 - val_mae: 0.3454\n",
      "Epoch 4/5\n",
      "93360/93360 [==============================] - 56s 598us/sample - loss: 0.4953 - mae: 0.3382 - val_loss: 0.5971 - val_mae: 0.3720\n",
      "Epoch 5/5\n",
      "93360/93360 [==============================] - 309s 3ms/sample - loss: 0.4911 - mae: 0.3367 - val_loss: 0.6694 - val_mae: 0.3972\n",
      "23340/23340 [==============================] - 3s 116us/sample - loss: 0.7359 - mae: 0.3992\n",
      "mae 0.39915398\n"
     ]
    }
   ],
   "source": [
    "kfold = StratifiedKFold(n_splits=5, shuffle=True, random_state=42)\n",
    "cvscores = []\n",
    "for train_index, test_index in kfold.split(X, y):\n",
    "    X_train, X_test = X[train_index], X[test_index]\n",
    "    y_train, y_test = y[train_index], y[test_index]\n",
    "    X_train_array = [X_train[:, 0], X_train[:, 1]]\n",
    "    X_test_array = [X_test[:, 0], X_test[:, 1]]\n",
    "      # create model\n",
    "    model_re.fit(x=X_train_array, \n",
    "               y=y_train, \n",
    "               epochs=5, \n",
    "               verbose=1,\n",
    "               validation_data=(X_test_array, y_test))\n",
    "    #evaluate the model\n",
    "    scores = model_cv.evaluate(x=X_test_array, y=y_test, verbose=1)\n",
    "    print(model_cv.metrics_names[1], scores[1])\n",
    "    cvscores.append(scores[1])"
   ]
  },
  {
   "cell_type": "code",
   "execution_count": 4,
   "metadata": {},
   "outputs": [
    {
     "name": "stdout",
     "output_type": "stream",
     "text": [
      "<generator object <genexpr> at 0x10ed9e308>\n"
     ]
    }
   ],
   "source": [
    "print(cvscores[i].round(2) for i in range(5))\n",
    "print(f\"{numpy.mean(cvscores)} +- {numpy.std(cvscores)}\")"
   ]
  },
  {
   "cell_type": "code",
   "execution_count": null,
   "metadata": {},
   "outputs": [],
   "source": []
  },
  {
   "cell_type": "code",
   "execution_count": null,
   "metadata": {},
   "outputs": [],
   "source": []
  }
 ],
 "metadata": {
  "kernelspec": {
   "display_name": "flask-env",
   "language": "python",
   "name": "flask-env"
  },
  "language_info": {
   "codemirror_mode": {
    "name": "ipython",
    "version": 3
   },
   "file_extension": ".py",
   "mimetype": "text/x-python",
   "name": "python",
   "nbconvert_exporter": "python",
   "pygments_lexer": "ipython3",
   "version": "3.7.4"
  }
 },
 "nbformat": 4,
 "nbformat_minor": 4
}
