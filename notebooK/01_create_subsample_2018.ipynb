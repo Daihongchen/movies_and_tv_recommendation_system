{
 "cells": [
  {
   "cell_type": "code",
   "execution_count": 3,
   "metadata": {},
   "outputs": [],
   "source": [
    "import os\n",
    "import json\n",
    "import gzip\n",
    "import pandas as pd\n",
    "from urllib.request import urlopen\n",
    "pd.set_option('display.float_format', '{:.2f}'.format)"
   ]
  },
  {
   "cell_type": "code",
   "execution_count": 4,
   "metadata": {},
   "outputs": [
    {
     "name": "stdout",
     "output_type": "stream",
     "text": [
      "--2020-04-20 10:45:24--  http://deepyeti.ucsd.edu/jianmo/amazon/metaFiles/meta_Movies_and_TV.json.gz\n",
      "Resolving deepyeti.ucsd.edu (deepyeti.ucsd.edu)... 169.228.63.50\n",
      "Connecting to deepyeti.ucsd.edu (deepyeti.ucsd.edu)|169.228.63.50|:80... connected.\n",
      "HTTP request sent, awaiting response... 200 OK\n",
      "Length: 281498988 (268M) [application/octet-stream]\n",
      "Saving to: ‘meta_Movies_and_TV.json.gz’\n",
      "\n",
      "meta_Movies_and_TV. 100%[===================>] 268.46M  11.0MB/s    in 25s     \n",
      "\n",
      "2020-04-20 10:45:49 (10.9 MB/s) - ‘meta_Movies_and_TV.json.gz’ saved [281498988/281498988]\n",
      "\n"
     ]
    }
   ],
   "source": [
    "!wget http://deepyeti.ucsd.edu/jianmo/amazon/metaFiles/meta_Movies_and_TV.json.gz"
   ]
  },
  {
   "cell_type": "code",
   "execution_count": 5,
   "metadata": {},
   "outputs": [
    {
     "name": "stdout",
     "output_type": "stream",
     "text": [
      "--2020-04-20 10:45:50--  http://deepyeti.ucsd.edu/jianmo/amazon/categoryFiles/Movies_and_TV.json.gz\n",
      "Resolving deepyeti.ucsd.edu (deepyeti.ucsd.edu)... 169.228.63.50\n",
      "Connecting to deepyeti.ucsd.edu (deepyeti.ucsd.edu)|169.228.63.50|:80... connected.\n",
      "HTTP request sent, awaiting response... 200 OK\n",
      "Length: 1538847239 (1.4G) [application/octet-stream]\n",
      "Saving to: ‘Movies_and_TV.json.gz’\n",
      "\n",
      "Movies_and_TV.json. 100%[===================>]   1.43G  11.0MB/s    in 2m 35s  \n",
      "\n",
      "2020-04-20 10:48:26 (9.47 MB/s) - ‘Movies_and_TV.json.gz’ saved [1538847239/1538847239]\n",
      "\n"
     ]
    }
   ],
   "source": [
    "!wget http://deepyeti.ucsd.edu/jianmo/amazon/categoryFiles/Movies_and_TV.json.gz"
   ]
  },
  {
   "cell_type": "code",
   "execution_count": 23,
   "metadata": {},
   "outputs": [
    {
     "name": "stdout",
     "output_type": "stream",
     "text": [
      "203970\n",
      "{'category': ['Movies & TV', 'Movies'], 'title': 'Understanding Seizures and Epilepsy', 'rank': '886,503inMoviesTV(', 'main_cat': 'Movies & TV', 'asin': '0000695009'}\n"
     ]
    }
   ],
   "source": [
    "# open the json.gz file for meta dataset\n",
    "data_meta = []\n",
    "with gzip.open('meta_Movies_and_TV.json.gz') as f:\n",
    "    for l in f:\n",
    "        data_meta.append(json.loads(l.strip()))\n",
    "    \n",
    "# total length of list, this number equals total number of products\n",
    "print(len(data_meta))\n",
    "\n",
    "# first row of the list\n",
    "print(data_meta[0])"
   ]
  },
  {
   "cell_type": "code",
   "execution_count": 33,
   "metadata": {},
   "outputs": [],
   "source": [
    "# convert data_meta to df\n",
    "df_meta = pd.DataFrame.from_dict(data_meta)\n",
    "\n",
    "# drop useless columns\n",
    "df_meta_1 = df_meta.dropna(subset=['details'])\n",
    "df_meta_1 = df_meta_1.drop(['image', 'feature', 'date', 'tech1'], axis=1)"
   ]
  },
  {
   "cell_type": "code",
   "execution_count": 35,
   "metadata": {},
   "outputs": [
    {
     "data": {
      "text/html": [
       "<div>\n",
       "<style scoped>\n",
       "    .dataframe tbody tr th:only-of-type {\n",
       "        vertical-align: middle;\n",
       "    }\n",
       "\n",
       "    .dataframe tbody tr th {\n",
       "        vertical-align: top;\n",
       "    }\n",
       "\n",
       "    .dataframe thead th {\n",
       "        text-align: right;\n",
       "    }\n",
       "</style>\n",
       "<table border=\"1\" class=\"dataframe\">\n",
       "  <thead>\n",
       "    <tr style=\"text-align: right;\">\n",
       "      <th></th>\n",
       "      <th>category</th>\n",
       "      <th>title</th>\n",
       "      <th>rank</th>\n",
       "      <th>main_cat</th>\n",
       "      <th>asin</th>\n",
       "      <th>description</th>\n",
       "      <th>brand</th>\n",
       "      <th>also_buy</th>\n",
       "      <th>also_view</th>\n",
       "      <th>price</th>\n",
       "      <th>details</th>\n",
       "    </tr>\n",
       "  </thead>\n",
       "  <tbody>\n",
       "    <tr>\n",
       "      <td>8374</td>\n",
       "      <td>[Movies &amp; TV, Art House &amp; International, By Co...</td>\n",
       "      <td>Olivier Olivier VHS</td>\n",
       "      <td>343,783inMoviesTV(</td>\n",
       "      <td>Movies &amp; TV</td>\n",
       "      <td>6303023045</td>\n",
       "      <td>[Former rental,Subtitled The box has stickers ...</td>\n",
       "      <td>Frdric Quiring</td>\n",
       "      <td>NaN</td>\n",
       "      <td>NaN</td>\n",
       "      <td>NaN</td>\n",
       "      <td>\\n      &lt;div class=\"content\"&gt;\\n\\n\\n\\n\\n\\n\\n&lt;ul...</td>\n",
       "    </tr>\n",
       "    <tr>\n",
       "      <td>8375</td>\n",
       "      <td>[Movies &amp; TV, Genre for Featured Categories, D...</td>\n",
       "      <td>Georgia VHS</td>\n",
       "      <td>321,811inMoviesTV(</td>\n",
       "      <td>Movies &amp; TV</td>\n",
       "      <td>6303032559</td>\n",
       "      <td>[Drama]</td>\n",
       "      <td>Judy Davis</td>\n",
       "      <td>NaN</td>\n",
       "      <td>NaN</td>\n",
       "      <td>$1.99</td>\n",
       "      <td>\\n      &lt;div class=\"content\"&gt;\\n\\n\\n\\n\\n\\n\\n&lt;ul...</td>\n",
       "    </tr>\n",
       "    <tr>\n",
       "      <td>8376</td>\n",
       "      <td>[Movies &amp; TV, Studio Specials, Universal Studi...</td>\n",
       "      <td>Rhythm Country &amp; Blues VHS</td>\n",
       "      <td>234,584inMoviesTV(</td>\n",
       "      <td>Movies &amp; TV</td>\n",
       "      <td>630303831X</td>\n",
       "      <td>NaN</td>\n",
       "      <td>Gladys Knight</td>\n",
       "      <td>NaN</td>\n",
       "      <td>NaN</td>\n",
       "      <td>$38.99</td>\n",
       "      <td>\\n      &lt;div class=\"content\"&gt;\\n\\n\\n\\n\\n\\n\\n&lt;ul...</td>\n",
       "    </tr>\n",
       "    <tr>\n",
       "      <td>8377</td>\n",
       "      <td>[Movies &amp; TV, Genre for Featured Categories, C...</td>\n",
       "      <td>Good Morning Vietnam VHS</td>\n",
       "      <td>200,800inMoviesTV(</td>\n",
       "      <td>Movies &amp; TV</td>\n",
       "      <td>6303027016</td>\n",
       "      <td>[Academy Award(R)-winner Robin Williams shakes...</td>\n",
       "      <td>Robin Williams</td>\n",
       "      <td>[6301627768, B000005PFL, 0792116887, 079070125...</td>\n",
       "      <td>NaN</td>\n",
       "      <td>$7.99</td>\n",
       "      <td>\\n      &lt;div class=\"content\"&gt;\\n\\n\\n\\n\\n\\n\\n&lt;ul...</td>\n",
       "    </tr>\n",
       "    <tr>\n",
       "      <td>8378</td>\n",
       "      <td>[Movies &amp; TV, Genre for Featured Categories, E...</td>\n",
       "      <td>Fitness Pros: Step Aerobics VHS</td>\n",
       "      <td>155,699inMoviesTV(</td>\n",
       "      <td>Movies &amp; TV</td>\n",
       "      <td>6303036449</td>\n",
       "      <td>[ESPN's \"Fitness Pros\" take the viewer through...</td>\n",
       "      <td>NaN</td>\n",
       "      <td>[6303036422]</td>\n",
       "      <td>NaN</td>\n",
       "      <td>$4.49</td>\n",
       "      <td>\\n      &lt;div class=\"content\"&gt;\\n\\n\\n\\n\\n\\n\\n&lt;ul...</td>\n",
       "    </tr>\n",
       "  </tbody>\n",
       "</table>\n",
       "</div>"
      ],
      "text/plain": [
       "                                               category  \\\n",
       "8374  [Movies & TV, Art House & International, By Co...   \n",
       "8375  [Movies & TV, Genre for Featured Categories, D...   \n",
       "8376  [Movies & TV, Studio Specials, Universal Studi...   \n",
       "8377  [Movies & TV, Genre for Featured Categories, C...   \n",
       "8378  [Movies & TV, Genre for Featured Categories, E...   \n",
       "\n",
       "                                title                rank     main_cat  \\\n",
       "8374              Olivier Olivier VHS  343,783inMoviesTV(  Movies & TV   \n",
       "8375                      Georgia VHS  321,811inMoviesTV(  Movies & TV   \n",
       "8376       Rhythm Country & Blues VHS  234,584inMoviesTV(  Movies & TV   \n",
       "8377         Good Morning Vietnam VHS  200,800inMoviesTV(  Movies & TV   \n",
       "8378  Fitness Pros: Step Aerobics VHS  155,699inMoviesTV(  Movies & TV   \n",
       "\n",
       "            asin                                        description  \\\n",
       "8374  6303023045  [Former rental,Subtitled The box has stickers ...   \n",
       "8375  6303032559                                            [Drama]   \n",
       "8376  630303831X                                                NaN   \n",
       "8377  6303027016  [Academy Award(R)-winner Robin Williams shakes...   \n",
       "8378  6303036449  [ESPN's \"Fitness Pros\" take the viewer through...   \n",
       "\n",
       "               brand                                           also_buy  \\\n",
       "8374  Frdric Quiring                                                NaN   \n",
       "8375      Judy Davis                                                NaN   \n",
       "8376   Gladys Knight                                                NaN   \n",
       "8377  Robin Williams  [6301627768, B000005PFL, 0792116887, 079070125...   \n",
       "8378             NaN                                       [6303036422]   \n",
       "\n",
       "     also_view   price                                            details  \n",
       "8374       NaN     NaN  \\n      <div class=\"content\">\\n\\n\\n\\n\\n\\n\\n<ul...  \n",
       "8375       NaN   $1.99  \\n      <div class=\"content\">\\n\\n\\n\\n\\n\\n\\n<ul...  \n",
       "8376       NaN  $38.99  \\n      <div class=\"content\">\\n\\n\\n\\n\\n\\n\\n<ul...  \n",
       "8377       NaN   $7.99  \\n      <div class=\"content\">\\n\\n\\n\\n\\n\\n\\n<ul...  \n",
       "8378       NaN   $4.49  \\n      <div class=\"content\">\\n\\n\\n\\n\\n\\n\\n<ul...  "
      ]
     },
     "execution_count": 35,
     "metadata": {},
     "output_type": "execute_result"
    }
   ],
   "source": [
    "# df_meta_1 = df_meta.dropna(subset=['details'])\n",
    "df_meta_1.head()"
   ]
  },
  {
   "cell_type": "code",
   "execution_count": null,
   "metadata": {},
   "outputs": [],
   "source": [
    "# opent the json.gz file for movies and TV reviews dataset\n",
    "data_movie = []\n",
    "with gzip.open('Movies_and_TV.json.gz') as f:\n",
    "    for l in f:\n",
    "        data_movie.append(json.loads(l.strip()))\n",
    "    \n",
    "# total length of list, this number equals total number of products\n",
    "print(len(data_movie))\n",
    "\n",
    "# first row of the list\n",
    "print(data_movie[0])"
   ]
  },
  {
   "cell_type": "code",
   "execution_count": 11,
   "metadata": {},
   "outputs": [],
   "source": [
    "# clean the movie dataset by only selecting last three years and verified reviews, drop coulmn 'image'.\n",
    "df_movie = pd.DataFrame.from_dict(data_movie)\n",
    "\n",
    "df_movie_1 = df_movie[df_movie['reviewTime'].str.contains('2016') \n",
    "| df_movie['reviewTime'].str.contains('2017') \n",
    "| df_movie['reviewTime'].str.contains('2018')]\n",
    "\n",
    "df_movie_1 = df_movie_1.drop('image', axis=1)\n",
    "df_movie_1 = df_movie_1[df_movie_1['verified']==True]"
   ]
  },
  {
   "cell_type": "code",
   "execution_count": 36,
   "metadata": {},
   "outputs": [],
   "source": [
    "# merge movie dataset and meta dataset\n",
    "df_movie_meta = df_movie_1.merge(df_meta_1, on='asin', how='inner')"
   ]
  },
  {
   "cell_type": "code",
   "execution_count": 13,
   "metadata": {},
   "outputs": [],
   "source": [
    "# pickle the df file for future use\n",
    "\n",
    "# import pickle\n",
    "# pickle.dump(df_movie_meta, open(\"df_movie_meta.pkl\", \"wb\"))"
   ]
  },
  {
   "cell_type": "code",
   "execution_count": 16,
   "metadata": {},
   "outputs": [],
   "source": [
    "# data_movies = pd.read_pickle('df_movie_meta.pkl')"
   ]
  },
  {
   "cell_type": "code",
   "execution_count": 37,
   "metadata": {},
   "outputs": [],
   "source": [
    "#downsize the data to 2018\n",
    "df_movie_2018 = df_movie_meta[df_movie_meta['reviewTime'].str.contains('2018')]"
   ]
  },
  {
   "cell_type": "code",
   "execution_count": 38,
   "metadata": {},
   "outputs": [
    {
     "data": {
      "text/plain": [
       "209060"
      ]
     },
     "execution_count": 38,
     "metadata": {},
     "output_type": "execute_result"
    }
   ],
   "source": [
    "len(df_movie_2018)"
   ]
  },
  {
   "cell_type": "code",
   "execution_count": 39,
   "metadata": {},
   "outputs": [
    {
     "data": {
      "text/html": [
       "<div>\n",
       "<style scoped>\n",
       "    .dataframe tbody tr th:only-of-type {\n",
       "        vertical-align: middle;\n",
       "    }\n",
       "\n",
       "    .dataframe tbody tr th {\n",
       "        vertical-align: top;\n",
       "    }\n",
       "\n",
       "    .dataframe thead th {\n",
       "        text-align: right;\n",
       "    }\n",
       "</style>\n",
       "<table border=\"1\" class=\"dataframe\">\n",
       "  <thead>\n",
       "    <tr style=\"text-align: right;\">\n",
       "      <th></th>\n",
       "      <th>overall</th>\n",
       "      <th>verified</th>\n",
       "      <th>reviewTime</th>\n",
       "      <th>reviewerID</th>\n",
       "      <th>asin</th>\n",
       "      <th>style</th>\n",
       "      <th>reviewerName</th>\n",
       "      <th>reviewText</th>\n",
       "      <th>summary</th>\n",
       "      <th>unixReviewTime</th>\n",
       "      <th>...</th>\n",
       "      <th>category</th>\n",
       "      <th>title</th>\n",
       "      <th>rank</th>\n",
       "      <th>main_cat</th>\n",
       "      <th>description</th>\n",
       "      <th>brand</th>\n",
       "      <th>also_buy</th>\n",
       "      <th>also_view</th>\n",
       "      <th>price</th>\n",
       "      <th>details</th>\n",
       "    </tr>\n",
       "  </thead>\n",
       "  <tbody>\n",
       "    <tr>\n",
       "      <td>0</td>\n",
       "      <td>5.00</td>\n",
       "      <td>True</td>\n",
       "      <td>04 8, 2018</td>\n",
       "      <td>A1CW3NLH9MBQRY</td>\n",
       "      <td>6303022901</td>\n",
       "      <td>{'Format:': ' DVD'}</td>\n",
       "      <td>Sally Nunez</td>\n",
       "      <td>I really enjoyed this movie. Brings tears to m...</td>\n",
       "      <td>Five Stars</td>\n",
       "      <td>1523145600</td>\n",
       "      <td>...</td>\n",
       "      <td>[Movies &amp; TV, Genre for Featured Categories, D...</td>\n",
       "      <td>The Joy Luck Club VHS</td>\n",
       "      <td>295,699inMoviesTV(</td>\n",
       "      <td>Movies &amp; TV</td>\n",
       "      <td>[Produced by Academy Award(R)-winning filmmake...</td>\n",
       "      <td>Tamlyn Tomita</td>\n",
       "      <td>NaN</td>\n",
       "      <td>NaN</td>\n",
       "      <td>$3.28</td>\n",
       "      <td>\\n      &lt;div class=\"content\"&gt;\\n\\n\\n\\n\\n\\n\\n&lt;ul...</td>\n",
       "    </tr>\n",
       "    <tr>\n",
       "      <td>1</td>\n",
       "      <td>5.00</td>\n",
       "      <td>True</td>\n",
       "      <td>04 2, 2018</td>\n",
       "      <td>A1WK0IRZ08NX9X</td>\n",
       "      <td>6303022901</td>\n",
       "      <td>{'Format:': ' DVD'}</td>\n",
       "      <td>Ammie28</td>\n",
       "      <td>If you have never seen this movie, you may jus...</td>\n",
       "      <td>Heart Touching...</td>\n",
       "      <td>1522627200</td>\n",
       "      <td>...</td>\n",
       "      <td>[Movies &amp; TV, Genre for Featured Categories, D...</td>\n",
       "      <td>The Joy Luck Club VHS</td>\n",
       "      <td>295,699inMoviesTV(</td>\n",
       "      <td>Movies &amp; TV</td>\n",
       "      <td>[Produced by Academy Award(R)-winning filmmake...</td>\n",
       "      <td>Tamlyn Tomita</td>\n",
       "      <td>NaN</td>\n",
       "      <td>NaN</td>\n",
       "      <td>$3.28</td>\n",
       "      <td>\\n      &lt;div class=\"content\"&gt;\\n\\n\\n\\n\\n\\n\\n&lt;ul...</td>\n",
       "    </tr>\n",
       "    <tr>\n",
       "      <td>2</td>\n",
       "      <td>5.00</td>\n",
       "      <td>True</td>\n",
       "      <td>03 30, 2018</td>\n",
       "      <td>A2HGXJQCQTXE4E</td>\n",
       "      <td>6303022901</td>\n",
       "      <td>{'Format:': ' Blu-ray'}</td>\n",
       "      <td>Pa nhia lee</td>\n",
       "      <td>awesome all time fave movie.</td>\n",
       "      <td>Five Stars</td>\n",
       "      <td>1522368000</td>\n",
       "      <td>...</td>\n",
       "      <td>[Movies &amp; TV, Genre for Featured Categories, D...</td>\n",
       "      <td>The Joy Luck Club VHS</td>\n",
       "      <td>295,699inMoviesTV(</td>\n",
       "      <td>Movies &amp; TV</td>\n",
       "      <td>[Produced by Academy Award(R)-winning filmmake...</td>\n",
       "      <td>Tamlyn Tomita</td>\n",
       "      <td>NaN</td>\n",
       "      <td>NaN</td>\n",
       "      <td>$3.28</td>\n",
       "      <td>\\n      &lt;div class=\"content\"&gt;\\n\\n\\n\\n\\n\\n\\n&lt;ul...</td>\n",
       "    </tr>\n",
       "    <tr>\n",
       "      <td>3</td>\n",
       "      <td>5.00</td>\n",
       "      <td>True</td>\n",
       "      <td>03 30, 2018</td>\n",
       "      <td>A14ASTA78EK120</td>\n",
       "      <td>6303022901</td>\n",
       "      <td>{'Format:': ' DVD'}</td>\n",
       "      <td>lalush</td>\n",
       "      <td>The greatest movie ever!!!!!</td>\n",
       "      <td>Five Stars</td>\n",
       "      <td>1522368000</td>\n",
       "      <td>...</td>\n",
       "      <td>[Movies &amp; TV, Genre for Featured Categories, D...</td>\n",
       "      <td>The Joy Luck Club VHS</td>\n",
       "      <td>295,699inMoviesTV(</td>\n",
       "      <td>Movies &amp; TV</td>\n",
       "      <td>[Produced by Academy Award(R)-winning filmmake...</td>\n",
       "      <td>Tamlyn Tomita</td>\n",
       "      <td>NaN</td>\n",
       "      <td>NaN</td>\n",
       "      <td>$3.28</td>\n",
       "      <td>\\n      &lt;div class=\"content\"&gt;\\n\\n\\n\\n\\n\\n\\n&lt;ul...</td>\n",
       "    </tr>\n",
       "    <tr>\n",
       "      <td>4</td>\n",
       "      <td>5.00</td>\n",
       "      <td>True</td>\n",
       "      <td>03 29, 2018</td>\n",
       "      <td>A2EGT1RXKVOXTJ</td>\n",
       "      <td>6303022901</td>\n",
       "      <td>{'Format:': ' Amazon Video'}</td>\n",
       "      <td>Karin</td>\n",
       "      <td>Love this movie</td>\n",
       "      <td>Five Stars</td>\n",
       "      <td>1522281600</td>\n",
       "      <td>...</td>\n",
       "      <td>[Movies &amp; TV, Genre for Featured Categories, D...</td>\n",
       "      <td>The Joy Luck Club VHS</td>\n",
       "      <td>295,699inMoviesTV(</td>\n",
       "      <td>Movies &amp; TV</td>\n",
       "      <td>[Produced by Academy Award(R)-winning filmmake...</td>\n",
       "      <td>Tamlyn Tomita</td>\n",
       "      <td>NaN</td>\n",
       "      <td>NaN</td>\n",
       "      <td>$3.28</td>\n",
       "      <td>\\n      &lt;div class=\"content\"&gt;\\n\\n\\n\\n\\n\\n\\n&lt;ul...</td>\n",
       "    </tr>\n",
       "  </tbody>\n",
       "</table>\n",
       "<p>5 rows × 21 columns</p>\n",
       "</div>"
      ],
      "text/plain": [
       "   overall  verified   reviewTime      reviewerID        asin  \\\n",
       "0     5.00      True   04 8, 2018  A1CW3NLH9MBQRY  6303022901   \n",
       "1     5.00      True   04 2, 2018  A1WK0IRZ08NX9X  6303022901   \n",
       "2     5.00      True  03 30, 2018  A2HGXJQCQTXE4E  6303022901   \n",
       "3     5.00      True  03 30, 2018  A14ASTA78EK120  6303022901   \n",
       "4     5.00      True  03 29, 2018  A2EGT1RXKVOXTJ  6303022901   \n",
       "\n",
       "                          style reviewerName  \\\n",
       "0           {'Format:': ' DVD'}  Sally Nunez   \n",
       "1           {'Format:': ' DVD'}      Ammie28   \n",
       "2       {'Format:': ' Blu-ray'}  Pa nhia lee   \n",
       "3           {'Format:': ' DVD'}       lalush   \n",
       "4  {'Format:': ' Amazon Video'}       Karin    \n",
       "\n",
       "                                          reviewText            summary  \\\n",
       "0  I really enjoyed this movie. Brings tears to m...         Five Stars   \n",
       "1  If you have never seen this movie, you may jus...  Heart Touching...   \n",
       "2                       awesome all time fave movie.         Five Stars   \n",
       "3                       The greatest movie ever!!!!!         Five Stars   \n",
       "4                                    Love this movie         Five Stars   \n",
       "\n",
       "   unixReviewTime  ...                                           category  \\\n",
       "0      1523145600  ...  [Movies & TV, Genre for Featured Categories, D...   \n",
       "1      1522627200  ...  [Movies & TV, Genre for Featured Categories, D...   \n",
       "2      1522368000  ...  [Movies & TV, Genre for Featured Categories, D...   \n",
       "3      1522368000  ...  [Movies & TV, Genre for Featured Categories, D...   \n",
       "4      1522281600  ...  [Movies & TV, Genre for Featured Categories, D...   \n",
       "\n",
       "                   title                rank     main_cat  \\\n",
       "0  The Joy Luck Club VHS  295,699inMoviesTV(  Movies & TV   \n",
       "1  The Joy Luck Club VHS  295,699inMoviesTV(  Movies & TV   \n",
       "2  The Joy Luck Club VHS  295,699inMoviesTV(  Movies & TV   \n",
       "3  The Joy Luck Club VHS  295,699inMoviesTV(  Movies & TV   \n",
       "4  The Joy Luck Club VHS  295,699inMoviesTV(  Movies & TV   \n",
       "\n",
       "                                         description          brand also_buy  \\\n",
       "0  [Produced by Academy Award(R)-winning filmmake...  Tamlyn Tomita      NaN   \n",
       "1  [Produced by Academy Award(R)-winning filmmake...  Tamlyn Tomita      NaN   \n",
       "2  [Produced by Academy Award(R)-winning filmmake...  Tamlyn Tomita      NaN   \n",
       "3  [Produced by Academy Award(R)-winning filmmake...  Tamlyn Tomita      NaN   \n",
       "4  [Produced by Academy Award(R)-winning filmmake...  Tamlyn Tomita      NaN   \n",
       "\n",
       "  also_view  price                                            details  \n",
       "0       NaN  $3.28  \\n      <div class=\"content\">\\n\\n\\n\\n\\n\\n\\n<ul...  \n",
       "1       NaN  $3.28  \\n      <div class=\"content\">\\n\\n\\n\\n\\n\\n\\n<ul...  \n",
       "2       NaN  $3.28  \\n      <div class=\"content\">\\n\\n\\n\\n\\n\\n\\n<ul...  \n",
       "3       NaN  $3.28  \\n      <div class=\"content\">\\n\\n\\n\\n\\n\\n\\n<ul...  \n",
       "4       NaN  $3.28  \\n      <div class=\"content\">\\n\\n\\n\\n\\n\\n\\n<ul...  \n",
       "\n",
       "[5 rows x 21 columns]"
      ]
     },
     "execution_count": 39,
     "metadata": {},
     "output_type": "execute_result"
    }
   ],
   "source": [
    "df_movie_2018.head()"
   ]
  },
  {
   "cell_type": "code",
   "execution_count": 40,
   "metadata": {},
   "outputs": [],
   "source": [
    "df_movie_2018.to_csv('movie_2018.csv', index=False)"
   ]
  },
  {
   "cell_type": "code",
   "execution_count": 49,
   "metadata": {},
   "outputs": [],
   "source": [
    "from bs4 import BeautifulSoup"
   ]
  },
  {
   "cell_type": "code",
   "execution_count": 132,
   "metadata": {},
   "outputs": [],
   "source": [
    "movie_2018 = pd.read_csv('movie_2018.csv')"
   ]
  },
  {
   "cell_type": "code",
   "execution_count": 134,
   "metadata": {},
   "outputs": [],
   "source": [
    "links = []\n",
    "for i in movie_2018['details']:\n",
    "    soup = BeautifulSoup(i)\n",
    "    found_links = soup.select('a.a-text-normal')\n",
    "    if found_links:\n",
    "        link = found_links[0]['href']\n",
    "        links.append(link)\n",
    "    else:\n",
    "        links.append(\"\")"
   ]
  },
  {
   "cell_type": "code",
   "execution_count": null,
   "metadata": {},
   "outputs": [],
   "source": [
    "movie_2018['links'] = links\n",
    "movie_2018.to_csv('2018_movie_links.csv')"
   ]
  },
  {
   "cell_type": "code",
   "execution_count": 130,
   "metadata": {},
   "outputs": [],
   "source": [
    "df_links = pd.DataFrame(links, columns=['links'])"
   ]
  },
  {
   "cell_type": "code",
   "execution_count": null,
   "metadata": {},
   "outputs": [],
   "source": []
  }
 ],
 "metadata": {
  "kernelspec": {
   "display_name": "Python 3",
   "language": "python",
   "name": "python3"
  },
  "language_info": {
   "codemirror_mode": {
    "name": "ipython",
    "version": 3
   },
   "file_extension": ".py",
   "mimetype": "text/x-python",
   "name": "python",
   "nbconvert_exporter": "python",
   "pygments_lexer": "ipython3",
   "version": "3.6.9"
  }
 },
 "nbformat": 4,
 "nbformat_minor": 4
}
